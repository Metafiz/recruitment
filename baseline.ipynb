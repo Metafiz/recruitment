{
 "cells": [
  {
   "cell_type": "markdown",
   "metadata": {},
   "source": [
    "# Подбор персонала"
   ]
  },
  {
   "cell_type": "code",
   "execution_count": 187,
   "metadata": {},
   "outputs": [],
   "source": [
    "import numpy as np\n",
    "import scipy.stats\n",
    "import pandas as pd\n",
    "import matplotlib.pyplot as plt\n",
    "import seaborn as sns\n",
    "from sklearn.model_selection import train_test_split\n",
    "from sklearn.metrics import accuracy_score, f1_score\n",
    "\n",
    "sns.set(); "
   ]
  },
  {
   "cell_type": "code",
   "execution_count": 188,
   "metadata": {},
   "outputs": [],
   "source": [
    "data = pd.read_csv('rabotaru_ru/data/train_public.csv')\n",
    "data_test = pd.read_csv('rabotaru_ru/data/test.csv')"
   ]
  },
  {
   "cell_type": "code",
   "execution_count": 189,
   "metadata": {},
   "outputs": [
    {
     "name": "stdout",
     "output_type": "stream",
     "text": [
      "(56297, 18) (14074, 15)\n"
     ]
    }
   ],
   "source": [
    "print(data.shape, data_test.shape)"
   ]
  },
  {
   "cell_type": "code",
   "execution_count": 190,
   "metadata": {},
   "outputs": [
    {
     "data": {
      "text/plain": [
       "2548"
      ]
     },
     "execution_count": 190,
     "metadata": {},
     "output_type": "execute_result"
    }
   ],
   "source": [
    "len(set(data_test['custom_position'].unique()) - set(data['custom_position'].unique()))"
   ]
  },
  {
   "cell_type": "code",
   "execution_count": 191,
   "metadata": {},
   "outputs": [],
   "source": [
    "#data_tt = pd.concat([data, data_test], axis=0)"
   ]
  },
  {
   "cell_type": "code",
   "execution_count": 192,
   "metadata": {},
   "outputs": [],
   "source": [
    "#data_tt.shape"
   ]
  },
  {
   "cell_type": "code",
   "execution_count": 193,
   "metadata": {},
   "outputs": [],
   "source": [
    "#rows_num = range(data.shape[0], data.shape[0] + data_test.shape[0])\n",
    "#print(data.shape[0], data.shape[0] + data_test.shape[0])\n",
    "#rows_num"
   ]
  },
  {
   "cell_type": "code",
   "execution_count": 194,
   "metadata": {},
   "outputs": [],
   "source": [
    "#data_tt.drop(data_tt.index[rows_num], inplace=True)"
   ]
  },
  {
   "cell_type": "code",
   "execution_count": 195,
   "metadata": {},
   "outputs": [],
   "source": [
    "#data_tt.shape"
   ]
  },
  {
   "cell_type": "code",
   "execution_count": null,
   "metadata": {},
   "outputs": [],
   "source": []
  },
  {
   "cell_type": "code",
   "execution_count": 196,
   "metadata": {},
   "outputs": [
    {
     "data": {
      "text/html": [
       "<div>\n",
       "<style scoped>\n",
       "    .dataframe tbody tr th:only-of-type {\n",
       "        vertical-align: middle;\n",
       "    }\n",
       "\n",
       "    .dataframe tbody tr th {\n",
       "        vertical-align: top;\n",
       "    }\n",
       "\n",
       "    .dataframe thead th {\n",
       "        text-align: right;\n",
       "    }\n",
       "</style>\n",
       "<table border=\"1\" class=\"dataframe\">\n",
       "  <thead>\n",
       "    <tr style=\"text-align: right;\">\n",
       "      <th></th>\n",
       "      <th>id</th>\n",
       "      <th>custom_position</th>\n",
       "      <th>operating_schedule_id</th>\n",
       "      <th>description</th>\n",
       "      <th>salary_from</th>\n",
       "      <th>offer_education_id</th>\n",
       "      <th>age_from</th>\n",
       "      <th>age_to</th>\n",
       "      <th>is_agency</th>\n",
       "      <th>is_nonresident</th>\n",
       "      <th>offer_experience_year_count</th>\n",
       "      <th>salary_to</th>\n",
       "      <th>is_male</th>\n",
       "      <th>driving_license</th>\n",
       "      <th>region_id</th>\n",
       "      <th>company_id</th>\n",
       "      <th>city_id</th>\n",
       "      <th>target_prof</th>\n",
       "    </tr>\n",
       "  </thead>\n",
       "  <tbody>\n",
       "    <tr>\n",
       "      <th>0</th>\n",
       "      <td>268842</td>\n",
       "      <td>Подсобный рабочий</td>\n",
       "      <td>1</td>\n",
       "      <td>&lt;strong&gt;Обязанности:&lt;/strong&gt;&lt;br /&gt;\\r\\n&lt;ul&gt;\\r\\...</td>\n",
       "      <td>34000</td>\n",
       "      <td>0</td>\n",
       "      <td>NaN</td>\n",
       "      <td>NaN</td>\n",
       "      <td>True</td>\n",
       "      <td>True</td>\n",
       "      <td>1.0</td>\n",
       "      <td>41000.0</td>\n",
       "      <td>True</td>\n",
       "      <td>[]</td>\n",
       "      <td>{1783}</td>\n",
       "      <td>1234787.0</td>\n",
       "      <td>70</td>\n",
       "      <td>рабочий</td>\n",
       "    </tr>\n",
       "    <tr>\n",
       "      <th>1</th>\n",
       "      <td>19090</td>\n",
       "      <td>Разнорабочий</td>\n",
       "      <td>7</td>\n",
       "      <td>&lt;br /&gt;\\nТребования: &lt;br&gt;На овощную базу в Подм...</td>\n",
       "      <td>66000</td>\n",
       "      <td>0</td>\n",
       "      <td>NaN</td>\n",
       "      <td>NaN</td>\n",
       "      <td>False</td>\n",
       "      <td>False</td>\n",
       "      <td>NaN</td>\n",
       "      <td>NaN</td>\n",
       "      <td>NaN</td>\n",
       "      <td>[]</td>\n",
       "      <td>{3}</td>\n",
       "      <td>NaN</td>\n",
       "      <td>1</td>\n",
       "      <td>разнорабочий</td>\n",
       "    </tr>\n",
       "    <tr>\n",
       "      <th>2</th>\n",
       "      <td>315832</td>\n",
       "      <td>Повар холодного цеха</td>\n",
       "      <td>1</td>\n",
       "      <td>&lt;br /&gt;\\nТребования: &lt;br&gt;Приготовление салатов....</td>\n",
       "      <td>40000</td>\n",
       "      <td>0</td>\n",
       "      <td>NaN</td>\n",
       "      <td>NaN</td>\n",
       "      <td>False</td>\n",
       "      <td>False</td>\n",
       "      <td>NaN</td>\n",
       "      <td>40000.0</td>\n",
       "      <td>NaN</td>\n",
       "      <td>[]</td>\n",
       "      <td>{3}</td>\n",
       "      <td>NaN</td>\n",
       "      <td>1</td>\n",
       "      <td>повар</td>\n",
       "    </tr>\n",
       "    <tr>\n",
       "      <th>3</th>\n",
       "      <td>365230</td>\n",
       "      <td>Разнорабочий</td>\n",
       "      <td>7</td>\n",
       "      <td>&lt;strong&gt;Обязанности:&lt;/strong&gt;&lt;br /&gt;\\r\\n&lt;ul&gt;\\r\\...</td>\n",
       "      <td>35000</td>\n",
       "      <td>0</td>\n",
       "      <td>NaN</td>\n",
       "      <td>NaN</td>\n",
       "      <td>False</td>\n",
       "      <td>True</td>\n",
       "      <td>-100.0</td>\n",
       "      <td>40000.0</td>\n",
       "      <td>NaN</td>\n",
       "      <td>[]</td>\n",
       "      <td>{5807}</td>\n",
       "      <td>2784163.0</td>\n",
       "      <td>70</td>\n",
       "      <td>разнорабочий</td>\n",
       "    </tr>\n",
       "    <tr>\n",
       "      <th>4</th>\n",
       "      <td>154105</td>\n",
       "      <td>Региональный торговый представитель по Смоленс...</td>\n",
       "      <td>1</td>\n",
       "      <td>&lt;strong&gt;Обязанности:&lt;/strong&gt;&lt;br /&gt; &amp;nbsp;&lt;br ...</td>\n",
       "      <td>30000</td>\n",
       "      <td>4</td>\n",
       "      <td>NaN</td>\n",
       "      <td>NaN</td>\n",
       "      <td>False</td>\n",
       "      <td>True</td>\n",
       "      <td>2.0</td>\n",
       "      <td>70000.0</td>\n",
       "      <td>NaN</td>\n",
       "      <td>[]</td>\n",
       "      <td>{362}</td>\n",
       "      <td>1703984.0</td>\n",
       "      <td>258</td>\n",
       "      <td>представитель</td>\n",
       "    </tr>\n",
       "  </tbody>\n",
       "</table>\n",
       "</div>"
      ],
      "text/plain": [
       "       id                                    custom_position  \\\n",
       "0  268842                                  Подсобный рабочий   \n",
       "1   19090                                       Разнорабочий   \n",
       "2  315832                               Повар холодного цеха   \n",
       "3  365230                                       Разнорабочий   \n",
       "4  154105  Региональный торговый представитель по Смоленс...   \n",
       "\n",
       "   operating_schedule_id                                        description  \\\n",
       "0                      1  <strong>Обязанности:</strong><br />\\r\\n<ul>\\r\\...   \n",
       "1                      7  <br />\\nТребования: <br>На овощную базу в Подм...   \n",
       "2                      1  <br />\\nТребования: <br>Приготовление салатов....   \n",
       "3                      7  <strong>Обязанности:</strong><br />\\r\\n<ul>\\r\\...   \n",
       "4                      1  <strong>Обязанности:</strong><br /> &nbsp;<br ...   \n",
       "\n",
       "   salary_from  offer_education_id  age_from  age_to  is_agency  \\\n",
       "0        34000                   0       NaN     NaN       True   \n",
       "1        66000                   0       NaN     NaN      False   \n",
       "2        40000                   0       NaN     NaN      False   \n",
       "3        35000                   0       NaN     NaN      False   \n",
       "4        30000                   4       NaN     NaN      False   \n",
       "\n",
       "   is_nonresident  offer_experience_year_count  salary_to is_male  \\\n",
       "0            True                          1.0    41000.0    True   \n",
       "1           False                          NaN        NaN     NaN   \n",
       "2           False                          NaN    40000.0     NaN   \n",
       "3            True                       -100.0    40000.0     NaN   \n",
       "4            True                          2.0    70000.0     NaN   \n",
       "\n",
       "  driving_license region_id  company_id  city_id    target_prof  \n",
       "0              []    {1783}   1234787.0       70        рабочий  \n",
       "1              []       {3}         NaN        1   разнорабочий  \n",
       "2              []       {3}         NaN        1          повар  \n",
       "3              []    {5807}   2784163.0       70   разнорабочий  \n",
       "4              []     {362}   1703984.0      258  представитель  "
      ]
     },
     "execution_count": 196,
     "metadata": {},
     "output_type": "execute_result"
    }
   ],
   "source": [
    "data.head(5)"
   ]
  },
  {
   "cell_type": "code",
   "execution_count": 197,
   "metadata": {},
   "outputs": [
    {
     "data": {
      "text/plain": [
       "Index(['id', 'custom_position', 'operating_schedule_id', 'description',\n",
       "       'salary_from', 'offer_education_id', 'age_from', 'age_to', 'is_agency',\n",
       "       'is_nonresident', 'offer_experience_year_count', 'salary_to', 'is_male',\n",
       "       'driving_license', 'region_id', 'company_id', 'city_id', 'target_prof'],\n",
       "      dtype='object')"
      ]
     },
     "execution_count": 197,
     "metadata": {},
     "output_type": "execute_result"
    }
   ],
   "source": [
    "data.columns"
   ]
  },
  {
   "cell_type": "code",
   "execution_count": 198,
   "metadata": {},
   "outputs": [
    {
     "data": {
      "text/html": [
       "<div>\n",
       "<style scoped>\n",
       "    .dataframe tbody tr th:only-of-type {\n",
       "        vertical-align: middle;\n",
       "    }\n",
       "\n",
       "    .dataframe tbody tr th {\n",
       "        vertical-align: top;\n",
       "    }\n",
       "\n",
       "    .dataframe thead th {\n",
       "        text-align: right;\n",
       "    }\n",
       "</style>\n",
       "<table border=\"1\" class=\"dataframe\">\n",
       "  <thead>\n",
       "    <tr style=\"text-align: right;\">\n",
       "      <th></th>\n",
       "      <th>0</th>\n",
       "    </tr>\n",
       "  </thead>\n",
       "  <tbody>\n",
       "    <tr>\n",
       "      <th>id</th>\n",
       "      <td>268842</td>\n",
       "    </tr>\n",
       "    <tr>\n",
       "      <th>custom_position</th>\n",
       "      <td>Подсобный рабочий</td>\n",
       "    </tr>\n",
       "    <tr>\n",
       "      <th>operating_schedule_id</th>\n",
       "      <td>1</td>\n",
       "    </tr>\n",
       "    <tr>\n",
       "      <th>description</th>\n",
       "      <td>&lt;strong&gt;Обязанности:&lt;/strong&gt;&lt;br /&gt;\\r\\n&lt;ul&gt;\\r\\...</td>\n",
       "    </tr>\n",
       "    <tr>\n",
       "      <th>salary_from</th>\n",
       "      <td>34000</td>\n",
       "    </tr>\n",
       "    <tr>\n",
       "      <th>offer_education_id</th>\n",
       "      <td>0</td>\n",
       "    </tr>\n",
       "    <tr>\n",
       "      <th>age_from</th>\n",
       "      <td>NaN</td>\n",
       "    </tr>\n",
       "    <tr>\n",
       "      <th>age_to</th>\n",
       "      <td>NaN</td>\n",
       "    </tr>\n",
       "    <tr>\n",
       "      <th>is_agency</th>\n",
       "      <td>True</td>\n",
       "    </tr>\n",
       "    <tr>\n",
       "      <th>is_nonresident</th>\n",
       "      <td>True</td>\n",
       "    </tr>\n",
       "    <tr>\n",
       "      <th>offer_experience_year_count</th>\n",
       "      <td>1</td>\n",
       "    </tr>\n",
       "    <tr>\n",
       "      <th>salary_to</th>\n",
       "      <td>41000</td>\n",
       "    </tr>\n",
       "    <tr>\n",
       "      <th>is_male</th>\n",
       "      <td>True</td>\n",
       "    </tr>\n",
       "    <tr>\n",
       "      <th>driving_license</th>\n",
       "      <td>[]</td>\n",
       "    </tr>\n",
       "    <tr>\n",
       "      <th>region_id</th>\n",
       "      <td>{1783}</td>\n",
       "    </tr>\n",
       "    <tr>\n",
       "      <th>company_id</th>\n",
       "      <td>1.23479e+06</td>\n",
       "    </tr>\n",
       "    <tr>\n",
       "      <th>city_id</th>\n",
       "      <td>70</td>\n",
       "    </tr>\n",
       "    <tr>\n",
       "      <th>target_prof</th>\n",
       "      <td>рабочий</td>\n",
       "    </tr>\n",
       "  </tbody>\n",
       "</table>\n",
       "</div>"
      ],
      "text/plain": [
       "                                                                             0\n",
       "id                                                                      268842\n",
       "custom_position                                              Подсобный рабочий\n",
       "operating_schedule_id                                                        1\n",
       "description                  <strong>Обязанности:</strong><br />\\r\\n<ul>\\r\\...\n",
       "salary_from                                                              34000\n",
       "offer_education_id                                                           0\n",
       "age_from                                                                   NaN\n",
       "age_to                                                                     NaN\n",
       "is_agency                                                                 True\n",
       "is_nonresident                                                            True\n",
       "offer_experience_year_count                                                  1\n",
       "salary_to                                                                41000\n",
       "is_male                                                                   True\n",
       "driving_license                                                             []\n",
       "region_id                                                               {1783}\n",
       "company_id                                                         1.23479e+06\n",
       "city_id                                                                     70\n",
       "target_prof                                                            рабочий"
      ]
     },
     "execution_count": 198,
     "metadata": {},
     "output_type": "execute_result"
    }
   ],
   "source": [
    "data.head(1).T"
   ]
  },
  {
   "cell_type": "markdown",
   "metadata": {},
   "source": [
    "### Описание фичей\n",
    "\n",
    "  - **id** - Идентификатор вакансии\n",
    "  - **custom_position** - Название вакансии\n",
    "  - **operating_schedule_id** - идентификатор графика работы, возможные значения указаны ниже\n",
    "  - **salary_from** - зарплата от (всегда есть)\n",
    "  - **salary_to** - потолок зарплаты\n",
    "  - **description** - текстовое описание вакансии вместе с html тегами и знаками препинания\n",
    "  - **offer_education_id** - идентификатор образования, расшифровку см. ниже\n",
    "  - **offer_experience_year_count** - требуемый опыт (лет)\n",
    "  - **age_from** - минимальный возраст работы\n",
    "  - **age_to** - максимальный возраст работы\n",
    "  - **company_id** - идентификатор компании, встречаются вакансии без компаний\n",
    "  - **city_id** - идентификатор региона размещения (Москва и МО, ), крупные аггломерации\n",
    "  - **is_agency** - является ли компания агенством\n",
    "  - **is_nonresident** - доступна ли вакансия для иностранных граждан\n",
    "  - **is_male** - ищут работников мужского (True), женского (False) пола, в случае пустого значения пол не имеет значения\n",
    "  - **driving_license** - требуемые категории водительсктх прав\n",
    "  - **region_id** - города в которых есть офисы компании и куда производится набор сотрудников (Set)\n",
    "  - **target_prof** - рекомендуемая групповая профессия"
   ]
  },
  {
   "cell_type": "code",
   "execution_count": 199,
   "metadata": {},
   "outputs": [
    {
     "data": {
      "text/plain": [
       "id                               int64\n",
       "custom_position                 object\n",
       "operating_schedule_id            int64\n",
       "description                     object\n",
       "salary_from                      int64\n",
       "offer_education_id               int64\n",
       "age_from                       float64\n",
       "age_to                         float64\n",
       "is_agency                         bool\n",
       "is_nonresident                    bool\n",
       "offer_experience_year_count    float64\n",
       "salary_to                      float64\n",
       "is_male                         object\n",
       "driving_license                 object\n",
       "region_id                       object\n",
       "company_id                     float64\n",
       "city_id                          int64\n",
       "target_prof                     object\n",
       "dtype: object"
      ]
     },
     "execution_count": 199,
     "metadata": {},
     "output_type": "execute_result"
    }
   ],
   "source": [
    "# типы данных \n",
    "data.dtypes"
   ]
  },
  {
   "cell_type": "code",
   "execution_count": 200,
   "metadata": {},
   "outputs": [],
   "source": [
    "# меняем тип некоторых колонок на категориальный\n",
    "data['operating_schedule_id'] = data['operating_schedule_id'].astype('object')\n",
    "data['offer_education_id'] = data['offer_education_id'].astype('object')\n",
    "#data['is_male'] = data['is_male'].astype('bool')\n",
    "data['company_id'] = data['company_id'].astype('object')\n",
    "data['city_id'] = data['city_id'].astype('object')"
   ]
  },
  {
   "cell_type": "code",
   "execution_count": 201,
   "metadata": {},
   "outputs": [
    {
     "name": "stdout",
     "output_type": "stream",
     "text": [
      "Категориальные признаки:  ['custom_position', 'operating_schedule_id', 'description', 'offer_education_id', 'is_male', 'driving_license', 'region_id', 'company_id', 'city_id', 'target_prof']\n",
      "Числовые признаки:  ['id', 'salary_from', 'age_from', 'age_to', 'is_agency', 'is_nonresident', 'offer_experience_year_count', 'salary_to']\n"
     ]
    }
   ],
   "source": [
    "categorical_columns = [c for c in data.columns if data[c].dtype.name == 'object']\n",
    "numerical_columns   = [c for c in data.columns if data[c].dtype.name != 'object']\n",
    "print('Категориальные признаки: ', categorical_columns)\n",
    "print('Числовые признаки: ', numerical_columns)"
   ]
  },
  {
   "cell_type": "code",
   "execution_count": 202,
   "metadata": {},
   "outputs": [
    {
     "data": {
      "text/plain": [
       "(56297, 18)"
      ]
     },
     "execution_count": 202,
     "metadata": {},
     "output_type": "execute_result"
    }
   ],
   "source": [
    "# кол-во строк (вакансий) и колонок (их признаков)\n",
    "data.shape"
   ]
  },
  {
   "cell_type": "code",
   "execution_count": 203,
   "metadata": {},
   "outputs": [
    {
     "name": "stdout",
     "output_type": "stream",
     "text": [
      "<class 'pandas.core.frame.DataFrame'>\n",
      "RangeIndex: 56297 entries, 0 to 56296\n",
      "Data columns (total 18 columns):\n",
      " #   Column                       Non-Null Count  Dtype  \n",
      "---  ------                       --------------  -----  \n",
      " 0   id                           56297 non-null  int64  \n",
      " 1   custom_position              56297 non-null  object \n",
      " 2   operating_schedule_id        56297 non-null  object \n",
      " 3   description                  56297 non-null  object \n",
      " 4   salary_from                  56297 non-null  int64  \n",
      " 5   offer_education_id           56297 non-null  object \n",
      " 6   age_from                     15798 non-null  float64\n",
      " 7   age_to                       12931 non-null  float64\n",
      " 8   is_agency                    56297 non-null  bool   \n",
      " 9   is_nonresident               56297 non-null  bool   \n",
      " 10  offer_experience_year_count  38622 non-null  float64\n",
      " 11  salary_to                    34829 non-null  float64\n",
      " 12  is_male                      8804 non-null   object \n",
      " 13  driving_license              56297 non-null  object \n",
      " 14  region_id                    56297 non-null  object \n",
      " 15  company_id                   42499 non-null  object \n",
      " 16  city_id                      56297 non-null  object \n",
      " 17  target_prof                  56297 non-null  object \n",
      "dtypes: bool(2), float64(4), int64(2), object(10)\n",
      "memory usage: 7.0+ MB\n"
     ]
    }
   ],
   "source": [
    "data.info()"
   ]
  },
  {
   "cell_type": "code",
   "execution_count": 204,
   "metadata": {},
   "outputs": [
    {
     "data": {
      "text/html": [
       "<div>\n",
       "<style scoped>\n",
       "    .dataframe tbody tr th:only-of-type {\n",
       "        vertical-align: middle;\n",
       "    }\n",
       "\n",
       "    .dataframe tbody tr th {\n",
       "        vertical-align: top;\n",
       "    }\n",
       "\n",
       "    .dataframe thead th {\n",
       "        text-align: right;\n",
       "    }\n",
       "</style>\n",
       "<table border=\"1\" class=\"dataframe\">\n",
       "  <thead>\n",
       "    <tr style=\"text-align: right;\">\n",
       "      <th></th>\n",
       "      <th>count</th>\n",
       "      <th>mean</th>\n",
       "      <th>std</th>\n",
       "      <th>min</th>\n",
       "      <th>25%</th>\n",
       "      <th>50%</th>\n",
       "      <th>75%</th>\n",
       "      <th>max</th>\n",
       "    </tr>\n",
       "  </thead>\n",
       "  <tbody>\n",
       "    <tr>\n",
       "      <th>id</th>\n",
       "      <td>56297.0</td>\n",
       "      <td>235876.626019</td>\n",
       "      <td>135901.728858</td>\n",
       "      <td>18.0</td>\n",
       "      <td>118547.0</td>\n",
       "      <td>235786.0</td>\n",
       "      <td>353529.0</td>\n",
       "      <td>471177.0</td>\n",
       "    </tr>\n",
       "    <tr>\n",
       "      <th>salary_from</th>\n",
       "      <td>56297.0</td>\n",
       "      <td>38151.308773</td>\n",
       "      <td>86681.631959</td>\n",
       "      <td>-1.0</td>\n",
       "      <td>20000.0</td>\n",
       "      <td>35000.0</td>\n",
       "      <td>53000.0</td>\n",
       "      <td>19002500.0</td>\n",
       "    </tr>\n",
       "    <tr>\n",
       "      <th>age_from</th>\n",
       "      <td>15798.0</td>\n",
       "      <td>20.425434</td>\n",
       "      <td>4.056352</td>\n",
       "      <td>14.0</td>\n",
       "      <td>18.0</td>\n",
       "      <td>18.0</td>\n",
       "      <td>22.0</td>\n",
       "      <td>60.0</td>\n",
       "    </tr>\n",
       "    <tr>\n",
       "      <th>age_to</th>\n",
       "      <td>12931.0</td>\n",
       "      <td>53.606604</td>\n",
       "      <td>12.556347</td>\n",
       "      <td>22.0</td>\n",
       "      <td>45.0</td>\n",
       "      <td>52.0</td>\n",
       "      <td>60.0</td>\n",
       "      <td>99.0</td>\n",
       "    </tr>\n",
       "    <tr>\n",
       "      <th>offer_experience_year_count</th>\n",
       "      <td>38622.0</td>\n",
       "      <td>-34.882140</td>\n",
       "      <td>48.606458</td>\n",
       "      <td>-100.0</td>\n",
       "      <td>-100.0</td>\n",
       "      <td>0.0</td>\n",
       "      <td>1.0</td>\n",
       "      <td>10.0</td>\n",
       "    </tr>\n",
       "    <tr>\n",
       "      <th>salary_to</th>\n",
       "      <td>34829.0</td>\n",
       "      <td>46912.823423</td>\n",
       "      <td>111741.706222</td>\n",
       "      <td>-1.0</td>\n",
       "      <td>20000.0</td>\n",
       "      <td>40000.0</td>\n",
       "      <td>65000.0</td>\n",
       "      <td>19002500.0</td>\n",
       "    </tr>\n",
       "  </tbody>\n",
       "</table>\n",
       "</div>"
      ],
      "text/plain": [
       "                               count           mean            std    min  \\\n",
       "id                           56297.0  235876.626019  135901.728858   18.0   \n",
       "salary_from                  56297.0   38151.308773   86681.631959   -1.0   \n",
       "age_from                     15798.0      20.425434       4.056352   14.0   \n",
       "age_to                       12931.0      53.606604      12.556347   22.0   \n",
       "offer_experience_year_count  38622.0     -34.882140      48.606458 -100.0   \n",
       "salary_to                    34829.0   46912.823423  111741.706222   -1.0   \n",
       "\n",
       "                                  25%       50%       75%         max  \n",
       "id                           118547.0  235786.0  353529.0    471177.0  \n",
       "salary_from                   20000.0   35000.0   53000.0  19002500.0  \n",
       "age_from                         18.0      18.0      22.0        60.0  \n",
       "age_to                           45.0      52.0      60.0        99.0  \n",
       "offer_experience_year_count    -100.0       0.0       1.0        10.0  \n",
       "salary_to                     20000.0   40000.0   65000.0  19002500.0  "
      ]
     },
     "execution_count": 204,
     "metadata": {},
     "output_type": "execute_result"
    }
   ],
   "source": [
    "# описательная статистика по числоавым признакам\n",
    "data.describe().T"
   ]
  },
  {
   "cell_type": "code",
   "execution_count": 205,
   "metadata": {},
   "outputs": [
    {
     "data": {
      "text/html": [
       "<div>\n",
       "<style scoped>\n",
       "    .dataframe tbody tr th:only-of-type {\n",
       "        vertical-align: middle;\n",
       "    }\n",
       "\n",
       "    .dataframe tbody tr th {\n",
       "        vertical-align: top;\n",
       "    }\n",
       "\n",
       "    .dataframe thead th {\n",
       "        text-align: right;\n",
       "    }\n",
       "</style>\n",
       "<table border=\"1\" class=\"dataframe\">\n",
       "  <thead>\n",
       "    <tr style=\"text-align: right;\">\n",
       "      <th></th>\n",
       "      <th>count</th>\n",
       "      <th>unique</th>\n",
       "      <th>top</th>\n",
       "      <th>freq</th>\n",
       "    </tr>\n",
       "  </thead>\n",
       "  <tbody>\n",
       "    <tr>\n",
       "      <th>custom_position</th>\n",
       "      <td>56297</td>\n",
       "      <td>14345</td>\n",
       "      <td>Грузчик</td>\n",
       "      <td>981</td>\n",
       "    </tr>\n",
       "    <tr>\n",
       "      <th>operating_schedule_id</th>\n",
       "      <td>56297</td>\n",
       "      <td>6</td>\n",
       "      <td>1</td>\n",
       "      <td>27010</td>\n",
       "    </tr>\n",
       "    <tr>\n",
       "      <th>description</th>\n",
       "      <td>56297</td>\n",
       "      <td>41692</td>\n",
       "      <td>&lt;br /&gt;\\nТребования: &lt;br&gt; &lt;br /&gt;\\nИнформация о ...</td>\n",
       "      <td>293</td>\n",
       "    </tr>\n",
       "    <tr>\n",
       "      <th>offer_education_id</th>\n",
       "      <td>56297</td>\n",
       "      <td>5</td>\n",
       "      <td>0</td>\n",
       "      <td>47394</td>\n",
       "    </tr>\n",
       "    <tr>\n",
       "      <th>is_male</th>\n",
       "      <td>8804</td>\n",
       "      <td>2</td>\n",
       "      <td>True</td>\n",
       "      <td>6912</td>\n",
       "    </tr>\n",
       "    <tr>\n",
       "      <th>driving_license</th>\n",
       "      <td>56297</td>\n",
       "      <td>16</td>\n",
       "      <td>[]</td>\n",
       "      <td>54806</td>\n",
       "    </tr>\n",
       "    <tr>\n",
       "      <th>region_id</th>\n",
       "      <td>56297</td>\n",
       "      <td>1486</td>\n",
       "      <td>{3}</td>\n",
       "      <td>18167</td>\n",
       "    </tr>\n",
       "    <tr>\n",
       "      <th>company_id</th>\n",
       "      <td>42499</td>\n",
       "      <td>10218</td>\n",
       "      <td>1.23479e+06</td>\n",
       "      <td>2040</td>\n",
       "    </tr>\n",
       "    <tr>\n",
       "      <th>city_id</th>\n",
       "      <td>56297</td>\n",
       "      <td>67</td>\n",
       "      <td>1</td>\n",
       "      <td>16144</td>\n",
       "    </tr>\n",
       "    <tr>\n",
       "      <th>target_prof</th>\n",
       "      <td>56297</td>\n",
       "      <td>521</td>\n",
       "      <td>водитель</td>\n",
       "      <td>4885</td>\n",
       "    </tr>\n",
       "  </tbody>\n",
       "</table>\n",
       "</div>"
      ],
      "text/plain": [
       "                       count unique  \\\n",
       "custom_position        56297  14345   \n",
       "operating_schedule_id  56297      6   \n",
       "description            56297  41692   \n",
       "offer_education_id     56297      5   \n",
       "is_male                 8804      2   \n",
       "driving_license        56297     16   \n",
       "region_id              56297   1486   \n",
       "company_id             42499  10218   \n",
       "city_id                56297     67   \n",
       "target_prof            56297    521   \n",
       "\n",
       "                                                                     top  \\\n",
       "custom_position                                                  Грузчик   \n",
       "operating_schedule_id                                                  1   \n",
       "description            <br />\\nТребования: <br> <br />\\nИнформация о ...   \n",
       "offer_education_id                                                     0   \n",
       "is_male                                                             True   \n",
       "driving_license                                                       []   \n",
       "region_id                                                            {3}   \n",
       "company_id                                                   1.23479e+06   \n",
       "city_id                                                                1   \n",
       "target_prof                                                     водитель   \n",
       "\n",
       "                        freq  \n",
       "custom_position          981  \n",
       "operating_schedule_id  27010  \n",
       "description              293  \n",
       "offer_education_id     47394  \n",
       "is_male                 6912  \n",
       "driving_license        54806  \n",
       "region_id              18167  \n",
       "company_id              2040  \n",
       "city_id                16144  \n",
       "target_prof             4885  "
      ]
     },
     "execution_count": 205,
     "metadata": {},
     "output_type": "execute_result"
    }
   ],
   "source": [
    "# описательная статистика по категориальным признакам\n",
    "data.describe(include=[object]).T"
   ]
  },
  {
   "cell_type": "markdown",
   "metadata": {},
   "source": [
    "## Исследование признаков"
   ]
  },
  {
   "cell_type": "markdown",
   "metadata": {},
   "source": [
    "### рекомендуемая групповая профессия (целевая переменная)"
   ]
  },
  {
   "cell_type": "code",
   "execution_count": 206,
   "metadata": {},
   "outputs": [
    {
     "data": {
      "text/plain": [
       "521"
      ]
     },
     "execution_count": 206,
     "metadata": {},
     "output_type": "execute_result"
    }
   ],
   "source": [
    "# сколько уникальных групповых профессий ?\n",
    "data['target_prof'].nunique()"
   ]
  },
  {
   "cell_type": "code",
   "execution_count": 207,
   "metadata": {},
   "outputs": [
    {
     "data": {
      "text/plain": [
       "array(['рабочий', 'разнорабочий', 'повар', 'представитель', 'слесарь',\n",
       "       'специалист', 'электромонтер', 'колорист', 'водитель',\n",
       "       'администратор'], dtype=object)"
      ]
     },
     "execution_count": 207,
     "metadata": {},
     "output_type": "execute_result"
    }
   ],
   "source": [
    "data['target_prof'].unique()[:10]"
   ]
  },
  {
   "cell_type": "code",
   "execution_count": 208,
   "metadata": {},
   "outputs": [
    {
     "data": {
      "text/plain": [
       "водитель       4885\n",
       "продавец       3360\n",
       "менеджер       2399\n",
       "повар          2284\n",
       "грузчик        2137\n",
       "               ... \n",
       "дознаватель       1\n",
       "землекоп          1\n",
       "лектор            1\n",
       "антенщик          1\n",
       "кеттельщик        1\n",
       "Name: target_prof, Length: 521, dtype: int64"
      ]
     },
     "execution_count": 208,
     "metadata": {},
     "output_type": "execute_result"
    }
   ],
   "source": [
    "# статистика распределения профессий (в абсолютных значениях)\n",
    "data['target_prof'].value_counts()"
   ]
  },
  {
   "cell_type": "code",
   "execution_count": 209,
   "metadata": {},
   "outputs": [
    {
     "data": {
      "text/plain": [
       "водитель       0.086772\n",
       "продавец       0.059683\n",
       "менеджер       0.042613\n",
       "повар          0.040571\n",
       "грузчик        0.037959\n",
       "                 ...   \n",
       "дознаватель    0.000018\n",
       "землекоп       0.000018\n",
       "лектор         0.000018\n",
       "антенщик       0.000018\n",
       "кеттельщик     0.000018\n",
       "Name: target_prof, Length: 521, dtype: float64"
      ]
     },
     "execution_count": 209,
     "metadata": {},
     "output_type": "execute_result"
    }
   ],
   "source": [
    "# статистика распределения профессий (в относительных долях)\n",
    "data['target_prof'].value_counts(normalize = True)"
   ]
  },
  {
   "cell_type": "code",
   "execution_count": 210,
   "metadata": {},
   "outputs": [],
   "source": [
    "#data['target_prof'].hist()"
   ]
  },
  {
   "cell_type": "markdown",
   "metadata": {},
   "source": [
    "## Визуализация"
   ]
  },
  {
   "cell_type": "code",
   "execution_count": 211,
   "metadata": {},
   "outputs": [],
   "source": [
    "#sns.pairplot(data)"
   ]
  },
  {
   "cell_type": "code",
   "execution_count": 212,
   "metadata": {},
   "outputs": [
    {
     "data": {
      "text/html": [
       "<div>\n",
       "<style scoped>\n",
       "    .dataframe tbody tr th:only-of-type {\n",
       "        vertical-align: middle;\n",
       "    }\n",
       "\n",
       "    .dataframe tbody tr th {\n",
       "        vertical-align: top;\n",
       "    }\n",
       "\n",
       "    .dataframe thead th {\n",
       "        text-align: right;\n",
       "    }\n",
       "</style>\n",
       "<table border=\"1\" class=\"dataframe\">\n",
       "  <thead>\n",
       "    <tr style=\"text-align: right;\">\n",
       "      <th></th>\n",
       "      <th>id</th>\n",
       "      <th>salary_from</th>\n",
       "      <th>age_from</th>\n",
       "      <th>age_to</th>\n",
       "      <th>is_agency</th>\n",
       "      <th>is_nonresident</th>\n",
       "      <th>offer_experience_year_count</th>\n",
       "      <th>salary_to</th>\n",
       "    </tr>\n",
       "  </thead>\n",
       "  <tbody>\n",
       "    <tr>\n",
       "      <th>id</th>\n",
       "      <td>1.000000</td>\n",
       "      <td>0.000573</td>\n",
       "      <td>0.009224</td>\n",
       "      <td>-0.150269</td>\n",
       "      <td>-0.048694</td>\n",
       "      <td>0.048434</td>\n",
       "      <td>-0.029145</td>\n",
       "      <td>0.010016</td>\n",
       "    </tr>\n",
       "    <tr>\n",
       "      <th>salary_from</th>\n",
       "      <td>0.000573</td>\n",
       "      <td>1.000000</td>\n",
       "      <td>0.207308</td>\n",
       "      <td>0.000840</td>\n",
       "      <td>0.046251</td>\n",
       "      <td>0.049817</td>\n",
       "      <td>0.166805</td>\n",
       "      <td>0.966633</td>\n",
       "    </tr>\n",
       "    <tr>\n",
       "      <th>age_from</th>\n",
       "      <td>0.009224</td>\n",
       "      <td>0.207308</td>\n",
       "      <td>1.000000</td>\n",
       "      <td>-0.107405</td>\n",
       "      <td>-0.006695</td>\n",
       "      <td>-0.002874</td>\n",
       "      <td>0.422167</td>\n",
       "      <td>0.092278</td>\n",
       "    </tr>\n",
       "    <tr>\n",
       "      <th>age_to</th>\n",
       "      <td>-0.150269</td>\n",
       "      <td>0.000840</td>\n",
       "      <td>-0.107405</td>\n",
       "      <td>1.000000</td>\n",
       "      <td>-0.017456</td>\n",
       "      <td>0.184849</td>\n",
       "      <td>-0.230461</td>\n",
       "      <td>-0.026269</td>\n",
       "    </tr>\n",
       "    <tr>\n",
       "      <th>is_agency</th>\n",
       "      <td>-0.048694</td>\n",
       "      <td>0.046251</td>\n",
       "      <td>-0.006695</td>\n",
       "      <td>-0.017456</td>\n",
       "      <td>1.000000</td>\n",
       "      <td>0.066788</td>\n",
       "      <td>0.008550</td>\n",
       "      <td>0.044461</td>\n",
       "    </tr>\n",
       "    <tr>\n",
       "      <th>is_nonresident</th>\n",
       "      <td>0.048434</td>\n",
       "      <td>0.049817</td>\n",
       "      <td>-0.002874</td>\n",
       "      <td>0.184849</td>\n",
       "      <td>0.066788</td>\n",
       "      <td>1.000000</td>\n",
       "      <td>0.079616</td>\n",
       "      <td>0.065214</td>\n",
       "    </tr>\n",
       "    <tr>\n",
       "      <th>offer_experience_year_count</th>\n",
       "      <td>-0.029145</td>\n",
       "      <td>0.166805</td>\n",
       "      <td>0.422167</td>\n",
       "      <td>-0.230461</td>\n",
       "      <td>0.008550</td>\n",
       "      <td>0.079616</td>\n",
       "      <td>1.000000</td>\n",
       "      <td>0.059082</td>\n",
       "    </tr>\n",
       "    <tr>\n",
       "      <th>salary_to</th>\n",
       "      <td>0.010016</td>\n",
       "      <td>0.966633</td>\n",
       "      <td>0.092278</td>\n",
       "      <td>-0.026269</td>\n",
       "      <td>0.044461</td>\n",
       "      <td>0.065214</td>\n",
       "      <td>0.059082</td>\n",
       "      <td>1.000000</td>\n",
       "    </tr>\n",
       "  </tbody>\n",
       "</table>\n",
       "</div>"
      ],
      "text/plain": [
       "                                   id  salary_from  age_from    age_to  \\\n",
       "id                           1.000000     0.000573  0.009224 -0.150269   \n",
       "salary_from                  0.000573     1.000000  0.207308  0.000840   \n",
       "age_from                     0.009224     0.207308  1.000000 -0.107405   \n",
       "age_to                      -0.150269     0.000840 -0.107405  1.000000   \n",
       "is_agency                   -0.048694     0.046251 -0.006695 -0.017456   \n",
       "is_nonresident               0.048434     0.049817 -0.002874  0.184849   \n",
       "offer_experience_year_count -0.029145     0.166805  0.422167 -0.230461   \n",
       "salary_to                    0.010016     0.966633  0.092278 -0.026269   \n",
       "\n",
       "                             is_agency  is_nonresident  \\\n",
       "id                           -0.048694        0.048434   \n",
       "salary_from                   0.046251        0.049817   \n",
       "age_from                     -0.006695       -0.002874   \n",
       "age_to                       -0.017456        0.184849   \n",
       "is_agency                     1.000000        0.066788   \n",
       "is_nonresident                0.066788        1.000000   \n",
       "offer_experience_year_count   0.008550        0.079616   \n",
       "salary_to                     0.044461        0.065214   \n",
       "\n",
       "                             offer_experience_year_count  salary_to  \n",
       "id                                             -0.029145   0.010016  \n",
       "salary_from                                     0.166805   0.966633  \n",
       "age_from                                        0.422167   0.092278  \n",
       "age_to                                         -0.230461  -0.026269  \n",
       "is_agency                                       0.008550   0.044461  \n",
       "is_nonresident                                  0.079616   0.065214  \n",
       "offer_experience_year_count                     1.000000   0.059082  \n",
       "salary_to                                       0.059082   1.000000  "
      ]
     },
     "execution_count": 212,
     "metadata": {},
     "output_type": "execute_result"
    }
   ],
   "source": [
    "# матрица корреляций\n",
    "data.corr()"
   ]
  },
  {
   "cell_type": "code",
   "execution_count": 213,
   "metadata": {},
   "outputs": [],
   "source": [
    "#sns.heatmap(data[numerical_columns])"
   ]
  },
  {
   "cell_type": "markdown",
   "metadata": {},
   "source": [
    "## Предобработка данных"
   ]
  },
  {
   "cell_type": "markdown",
   "metadata": {},
   "source": [
    "### Удаление выбросов в числовых полях (salary_from, salary_to)"
   ]
  },
  {
   "cell_type": "code",
   "execution_count": 214,
   "metadata": {},
   "outputs": [
    {
     "data": {
      "text/plain": [
       "count    5.629700e+04\n",
       "mean     3.815131e+04\n",
       "std      8.668163e+04\n",
       "min     -1.000000e+00\n",
       "25%      2.000000e+04\n",
       "50%      3.500000e+04\n",
       "75%      5.300000e+04\n",
       "max      1.900250e+07\n",
       "Name: salary_from, dtype: float64"
      ]
     },
     "execution_count": 214,
     "metadata": {},
     "output_type": "execute_result"
    }
   ],
   "source": [
    "data['salary_from'].describe()"
   ]
  },
  {
   "cell_type": "code",
   "execution_count": 215,
   "metadata": {},
   "outputs": [
    {
     "data": {
      "text/plain": [
       "56297"
      ]
     },
     "execution_count": 215,
     "metadata": {},
     "output_type": "execute_result"
    }
   ],
   "source": [
    "data['salary_from'].count()"
   ]
  },
  {
   "cell_type": "code",
   "execution_count": 216,
   "metadata": {},
   "outputs": [],
   "source": [
    "#data['salary_from'].plot()"
   ]
  },
  {
   "cell_type": "code",
   "execution_count": 217,
   "metadata": {},
   "outputs": [
    {
     "data": {
      "text/plain": [
       "19002500"
      ]
     },
     "execution_count": 217,
     "metadata": {},
     "output_type": "execute_result"
    }
   ],
   "source": [
    "max(data['salary_from'])"
   ]
  },
  {
   "cell_type": "code",
   "execution_count": 218,
   "metadata": {},
   "outputs": [],
   "source": [
    "z_scores = scipy.stats.zscore(data['salary_from'])\n",
    "abs_z_scores  = np.abs(z_scores)\n",
    "\n",
    "#outliers_indeces = data['salary_from'][abs_z_scores > 4].index\n",
    "#data.iloc[ outliers_indeces ]\n",
    "#outliers_indeces.remove(46401)\n",
    "\n",
    "#len(data.drop(data['salary_from'][abs_z_scores > 4].index))\n",
    "#data.drop(data['salary_from'][abs_z_scores > 5].index, inplace=True)"
   ]
  },
  {
   "cell_type": "code",
   "execution_count": 219,
   "metadata": {},
   "outputs": [
    {
     "name": "stdout",
     "output_type": "stream",
     "text": [
      "34829\n"
     ]
    },
    {
     "data": {
      "text/plain": [
       "count    3.482900e+04\n",
       "mean     4.691282e+04\n",
       "std      1.117417e+05\n",
       "min     -1.000000e+00\n",
       "25%      2.000000e+04\n",
       "50%      4.000000e+04\n",
       "75%      6.500000e+04\n",
       "max      1.900250e+07\n",
       "Name: salary_to, dtype: float64"
      ]
     },
     "execution_count": 219,
     "metadata": {},
     "output_type": "execute_result"
    }
   ],
   "source": [
    "print(data['salary_to'].count())\n",
    "data['salary_to'].describe()"
   ]
  },
  {
   "cell_type": "code",
   "execution_count": 220,
   "metadata": {},
   "outputs": [],
   "source": [
    "#data['salary_to'].hist()"
   ]
  },
  {
   "cell_type": "code",
   "execution_count": 221,
   "metadata": {},
   "outputs": [],
   "source": [
    "# удаляем строку с максимальной salary_to - это единственный выброс в этом поле\n",
    "#data['salary_to'].quantile(0.9)\n",
    "#data[ data['salary_to'] == data['salary_to'].max() ]\n",
    "\n",
    "#data.drop( data[data['salary_to'] == data['salary_to'].max()].index, inplace=True)"
   ]
  },
  {
   "cell_type": "code",
   "execution_count": 222,
   "metadata": {},
   "outputs": [],
   "source": [
    "#data.drop( data[data['salary_to'] == -1].index, inplace=True)"
   ]
  },
  {
   "cell_type": "code",
   "execution_count": 223,
   "metadata": {},
   "outputs": [],
   "source": [
    "# значения salary_to == 0 заменяем на salary_from\n",
    "sf = data[data['salary_to'] == 0]['salary_from']\n",
    "#data.loc[data['salary_to'] == 0, 'salary_to'] = sf"
   ]
  },
  {
   "cell_type": "code",
   "execution_count": 224,
   "metadata": {},
   "outputs": [],
   "source": [
    "#data.drop( data[data['salary_to'] == 0].index, inplace=True)"
   ]
  },
  {
   "cell_type": "markdown",
   "metadata": {},
   "source": [
    "### Заполнение пропущенных значений"
   ]
  },
  {
   "cell_type": "code",
   "execution_count": 225,
   "metadata": {},
   "outputs": [
    {
     "data": {
      "text/plain": [
       "id                             56297\n",
       "custom_position                56297\n",
       "operating_schedule_id          56297\n",
       "description                    56297\n",
       "salary_from                    56297\n",
       "offer_education_id             56297\n",
       "age_from                       15798\n",
       "age_to                         12931\n",
       "is_agency                      56297\n",
       "is_nonresident                 56297\n",
       "offer_experience_year_count    38622\n",
       "salary_to                      34829\n",
       "is_male                         8804\n",
       "driving_license                56297\n",
       "region_id                      56297\n",
       "company_id                     42499\n",
       "city_id                        56297\n",
       "target_prof                    56297\n",
       "dtype: int64"
      ]
     },
     "execution_count": 225,
     "metadata": {},
     "output_type": "execute_result"
    }
   ],
   "source": [
    "data.count(axis=0)"
   ]
  },
  {
   "cell_type": "code",
   "execution_count": 226,
   "metadata": {},
   "outputs": [],
   "source": [
    "# для записей, где не указана верхняя планка зарплаты, берём значение из нижней планки\n",
    "data['salary_to'].fillna(data['salary_from'], axis=0, inplace=True)"
   ]
  },
  {
   "cell_type": "code",
   "execution_count": 227,
   "metadata": {},
   "outputs": [
    {
     "data": {
      "text/plain": [
       "count    15798.000000\n",
       "mean        20.425434\n",
       "std          4.056352\n",
       "min         14.000000\n",
       "25%         18.000000\n",
       "50%         18.000000\n",
       "75%         22.000000\n",
       "max         60.000000\n",
       "Name: age_from, dtype: float64"
      ]
     },
     "execution_count": 227,
     "metadata": {},
     "output_type": "execute_result"
    }
   ],
   "source": [
    "data['age_from'].describe()"
   ]
  },
  {
   "cell_type": "code",
   "execution_count": 228,
   "metadata": {},
   "outputs": [
    {
     "data": {
      "text/plain": [
       "0    18.0\n",
       "dtype: float64"
      ]
     },
     "execution_count": 228,
     "metadata": {},
     "output_type": "execute_result"
    }
   ],
   "source": [
    "data['age_from'].mode()"
   ]
  },
  {
   "cell_type": "code",
   "execution_count": 229,
   "metadata": {},
   "outputs": [
    {
     "data": {
      "text/plain": [
       "<AxesSubplot:>"
      ]
     },
     "execution_count": 229,
     "metadata": {},
     "output_type": "execute_result"
    },
    {
     "data": {
      "image/png": "[encoded data removed]",
      "text/plain": [
       "<Figure size 432x288 with 1 Axes>"
      ]
     },
     "metadata": {},
     "output_type": "display_data"
    }
   ],
   "source": [
    "data['age_from'].hist()"
   ]
  },
  {
   "cell_type": "code",
   "execution_count": 230,
   "metadata": {},
   "outputs": [],
   "source": [
    "# \"возраст от\" заменяем на моду (наиболее часто встречающееся значение)\n",
    "data['age_from'].fillna(int(data['age_from'].mode()), axis=0, inplace=True)"
   ]
  },
  {
   "cell_type": "code",
   "execution_count": 231,
   "metadata": {},
   "outputs": [
    {
     "data": {
      "text/plain": [
       "count    12931.000000\n",
       "mean        53.606604\n",
       "std         12.556347\n",
       "min         22.000000\n",
       "25%         45.000000\n",
       "50%         52.000000\n",
       "75%         60.000000\n",
       "max         99.000000\n",
       "Name: age_to, dtype: float64"
      ]
     },
     "execution_count": 231,
     "metadata": {},
     "output_type": "execute_result"
    }
   ],
   "source": [
    "data['age_to'].describe()\n",
    "#data['age_to'].hist()"
   ]
  },
  {
   "cell_type": "code",
   "execution_count": 232,
   "metadata": {},
   "outputs": [],
   "source": [
    "# \"возраст до\" заменяем на среднее значение\n",
    "data['age_to'].fillna(data['age_to'].mean(axis=0), axis=0, inplace=True)"
   ]
  },
  {
   "cell_type": "code",
   "execution_count": 233,
   "metadata": {},
   "outputs": [
    {
     "data": {
      "text/plain": [
       "count    38622.000000\n",
       "mean       -34.882140\n",
       "std         48.606458\n",
       "min       -100.000000\n",
       "25%       -100.000000\n",
       "50%          0.000000\n",
       "75%          1.000000\n",
       "max         10.000000\n",
       "Name: offer_experience_year_count, dtype: float64"
      ]
     },
     "execution_count": 233,
     "metadata": {},
     "output_type": "execute_result"
    }
   ],
   "source": [
    "# исследуем переменную \"требуемый опыт (лет)\"\n",
    "data['offer_experience_year_count'].describe()"
   ]
  },
  {
   "cell_type": "code",
   "execution_count": 234,
   "metadata": {},
   "outputs": [
    {
     "data": {
      "text/plain": [
       "<AxesSubplot:>"
      ]
     },
     "execution_count": 234,
     "metadata": {},
     "output_type": "execute_result"
    },
    {
     "data": {
      "image/png": "[encoded data removed]",
      "text/plain": [
       "<Figure size 432x288 with 1 Axes>"
      ]
     },
     "metadata": {},
     "output_type": "display_data"
    }
   ],
   "source": [
    "data['offer_experience_year_count'].hist()"
   ]
  },
  {
   "cell_type": "code",
   "execution_count": 235,
   "metadata": {},
   "outputs": [
    {
     "data": {
      "text/plain": [
       "<AxesSubplot:>"
      ]
     },
     "execution_count": 235,
     "metadata": {},
     "output_type": "execute_result"
    },
    {
     "data": {
      "image/png": "[encoded data removed]",
      "text/plain": [
       "<Figure size 432x288 with 1 Axes>"
      ]
     },
     "metadata": {},
     "output_type": "display_data"
    }
   ],
   "source": [
    "(data[ data['offer_experience_year_count'] > 0 ]['offer_experience_year_count']).hist()"
   ]
  },
  {
   "cell_type": "code",
   "execution_count": 236,
   "metadata": {},
   "outputs": [],
   "source": [
    "data.loc[ data['offer_experience_year_count'] < 0, 'offer_experience_year_count'] = None"
   ]
  },
  {
   "cell_type": "code",
   "execution_count": 237,
   "metadata": {},
   "outputs": [
    {
     "name": "stdout",
     "output_type": "stream",
     "text": [
      "1.7976722090261283\n"
     ]
    }
   ],
   "source": [
    "# заменяем требуемый опыт на среднее значение\n",
    "print(data['offer_experience_year_count'].mean(axis=0))\n",
    "data['offer_experience_year_count'].fillna(data['offer_experience_year_count'].mean(axis=0), axis=0, inplace=True)"
   ]
  },
  {
   "cell_type": "code",
   "execution_count": 238,
   "metadata": {},
   "outputs": [
    {
     "data": {
      "text/plain": [
       "count       42499.0\n",
       "unique      10218.0\n",
       "top       1234787.0\n",
       "freq         2040.0\n",
       "Name: company_id, dtype: float64"
      ]
     },
     "execution_count": 238,
     "metadata": {},
     "output_type": "execute_result"
    }
   ],
   "source": [
    "# для каиегориальной переменной company_id заменяем пропуски на самое популярное значение\n",
    "data['company_id'].describe()"
   ]
  },
  {
   "cell_type": "code",
   "execution_count": 239,
   "metadata": {},
   "outputs": [],
   "source": [
    "data['company_id'].fillna(data['company_id'].describe().top, axis=0, inplace=True)"
   ]
  },
  {
   "cell_type": "code",
   "execution_count": 240,
   "metadata": {},
   "outputs": [
    {
     "name": "stdout",
     "output_type": "stream",
     "text": [
      "count     56297\n",
      "unique       16\n",
      "top          []\n",
      "freq      54806\n",
      "Name: driving_license, dtype: object\n"
     ]
    }
   ],
   "source": [
    "print(data['driving_license'].describe())\n",
    "data['driving_license'].fillna(data['driving_license'].describe().top, axis=0, inplace=True)"
   ]
  },
  {
   "cell_type": "code",
   "execution_count": 241,
   "metadata": {},
   "outputs": [
    {
     "data": {
      "text/plain": [
       "count     56297\n",
       "unique        6\n",
       "top           1\n",
       "freq      27010\n",
       "Name: operating_schedule_id, dtype: int64"
      ]
     },
     "execution_count": 241,
     "metadata": {},
     "output_type": "execute_result"
    }
   ],
   "source": [
    "# для каиегориальной переменной operating_schedule_id заменяем пропуски на самое популярное значение\n",
    "data['operating_schedule_id'].describe()"
   ]
  },
  {
   "cell_type": "code",
   "execution_count": 242,
   "metadata": {},
   "outputs": [],
   "source": [
    "data['operating_schedule_id'].fillna(data['operating_schedule_id'].describe().top, axis=0, inplace=True)"
   ]
  },
  {
   "cell_type": "code",
   "execution_count": 243,
   "metadata": {},
   "outputs": [],
   "source": [
    "data['offer_education_id'].fillna(data['offer_education_id'].describe().top, axis=0, inplace=True)"
   ]
  },
  {
   "cell_type": "code",
   "execution_count": 244,
   "metadata": {},
   "outputs": [
    {
     "data": {
      "text/plain": [
       "count     8804\n",
       "unique       2\n",
       "top       True\n",
       "freq      6912\n",
       "Name: is_male, dtype: object"
      ]
     },
     "execution_count": 244,
     "metadata": {},
     "output_type": "execute_result"
    }
   ],
   "source": [
    "data['is_male'].describe()"
   ]
  },
  {
   "cell_type": "code",
   "execution_count": 245,
   "metadata": {},
   "outputs": [],
   "source": [
    "# для пола заменяем константы True и False на 1 и 0\n",
    "data.loc[ data['is_male'] == True, 'is_male'] = 1\n",
    "data.loc[ data['is_male'] == False, 'is_male'] = 0"
   ]
  },
  {
   "cell_type": "code",
   "execution_count": 246,
   "metadata": {},
   "outputs": [],
   "source": [
    "# для каиегориальной переменной is_male заменяем пропуски на новое значение - 2 (не указан)\n",
    "data['is_male'].fillna(2, axis=0, inplace=True) "
   ]
  },
  {
   "cell_type": "code",
   "execution_count": 247,
   "metadata": {},
   "outputs": [
    {
     "data": {
      "text/plain": [
       "count     56297\n",
       "unique        2\n",
       "top       False\n",
       "freq      49062\n",
       "Name: is_agency, dtype: object"
      ]
     },
     "execution_count": 247,
     "metadata": {},
     "output_type": "execute_result"
    }
   ],
   "source": [
    "data['is_agency'].describe()"
   ]
  },
  {
   "cell_type": "code",
   "execution_count": 248,
   "metadata": {},
   "outputs": [],
   "source": [
    "# для is_agency заменяем константы True и False на 1 и 0\n",
    "data.loc[ data['is_agency'] == True, 'is_agency'] = 1\n",
    "data.loc[ data['is_agency'] == False, 'is_agency'] = 0\n",
    "\n",
    "# для каиегориальной переменной is_agency заменяем пропуски на самое популярное значение\n",
    "data['is_agency'].fillna(data['is_agency'].describe().top, axis=0, inplace=True)"
   ]
  },
  {
   "cell_type": "code",
   "execution_count": 249,
   "metadata": {},
   "outputs": [
    {
     "data": {
      "text/plain": [
       "count     56297\n",
       "unique        2\n",
       "top        True\n",
       "freq      30716\n",
       "Name: is_nonresident, dtype: object"
      ]
     },
     "execution_count": 249,
     "metadata": {},
     "output_type": "execute_result"
    }
   ],
   "source": [
    "data['is_nonresident'].describe()"
   ]
  },
  {
   "cell_type": "code",
   "execution_count": 250,
   "metadata": {},
   "outputs": [],
   "source": [
    "# для is_nonresident заменяем константы True и False на 1 и 0\n",
    "data.loc[ data['is_nonresident'] == True, 'is_nonresident'] = 1\n",
    "data.loc[ data['is_nonresident'] == False, 'is_nonresident'] = 0\n",
    "\n",
    "# для каиегориальной переменной is_nonresident заменяем пропуски на самое популярное значение\n",
    "data['is_nonresident'].fillna(data['is_nonresident'].describe().top, axis=0, inplace=True)"
   ]
  },
  {
   "cell_type": "code",
   "execution_count": 251,
   "metadata": {},
   "outputs": [
    {
     "name": "stdout",
     "output_type": "stream",
     "text": [
      "<class 'pandas.core.frame.DataFrame'>\n",
      "RangeIndex: 56297 entries, 0 to 56296\n",
      "Data columns (total 18 columns):\n",
      " #   Column                       Non-Null Count  Dtype  \n",
      "---  ------                       --------------  -----  \n",
      " 0   id                           56297 non-null  int64  \n",
      " 1   custom_position              56297 non-null  object \n",
      " 2   operating_schedule_id        56297 non-null  int64  \n",
      " 3   description                  56297 non-null  object \n",
      " 4   salary_from                  56297 non-null  int64  \n",
      " 5   offer_education_id           56297 non-null  int64  \n",
      " 6   age_from                     56297 non-null  float64\n",
      " 7   age_to                       56297 non-null  float64\n",
      " 8   is_agency                    56297 non-null  int64  \n",
      " 9   is_nonresident               56297 non-null  int64  \n",
      " 10  offer_experience_year_count  56297 non-null  float64\n",
      " 11  salary_to                    56297 non-null  float64\n",
      " 12  is_male                      56297 non-null  int64  \n",
      " 13  driving_license              56297 non-null  object \n",
      " 14  region_id                    56297 non-null  object \n",
      " 15  company_id                   56297 non-null  float64\n",
      " 16  city_id                      56297 non-null  object \n",
      " 17  target_prof                  56297 non-null  object \n",
      "dtypes: float64(5), int64(7), object(6)\n",
      "memory usage: 7.7+ MB\n"
     ]
    }
   ],
   "source": [
    "# проверяем, что во всех колонках отсутствуют пропуски\n",
    "data.info()"
   ]
  },
  {
   "cell_type": "markdown",
   "metadata": {},
   "source": [
    "## Нормализация числовых данных"
   ]
  },
  {
   "cell_type": "code",
   "execution_count": 252,
   "metadata": {},
   "outputs": [],
   "source": [
    "# 'salary_from', , 'salary_to'\n",
    "numerical_columns = [ 'age_from', 'age_to', 'offer_experience_year_count' ]"
   ]
  },
  {
   "cell_type": "code",
   "execution_count": 253,
   "metadata": {},
   "outputs": [
    {
     "data": {
      "text/html": [
       "<div>\n",
       "<style scoped>\n",
       "    .dataframe tbody tr th:only-of-type {\n",
       "        vertical-align: middle;\n",
       "    }\n",
       "\n",
       "    .dataframe tbody tr th {\n",
       "        vertical-align: top;\n",
       "    }\n",
       "\n",
       "    .dataframe thead th {\n",
       "        text-align: right;\n",
       "    }\n",
       "</style>\n",
       "<table border=\"1\" class=\"dataframe\">\n",
       "  <thead>\n",
       "    <tr style=\"text-align: right;\">\n",
       "      <th></th>\n",
       "      <th>age_from</th>\n",
       "      <th>age_to</th>\n",
       "      <th>offer_experience_year_count</th>\n",
       "    </tr>\n",
       "  </thead>\n",
       "  <tbody>\n",
       "    <tr>\n",
       "      <th>count</th>\n",
       "      <td>5.629700e+04</td>\n",
       "      <td>5.629700e+04</td>\n",
       "      <td>5.629700e+04</td>\n",
       "    </tr>\n",
       "    <tr>\n",
       "      <th>mean</th>\n",
       "      <td>-4.404783e-16</td>\n",
       "      <td>1.698584e-12</td>\n",
       "      <td>1.162118e-12</td>\n",
       "    </tr>\n",
       "    <tr>\n",
       "      <th>std</th>\n",
       "      <td>1.000000e+00</td>\n",
       "      <td>1.000000e+00</td>\n",
       "      <td>1.000000e+00</td>\n",
       "    </tr>\n",
       "    <tr>\n",
       "      <th>min</th>\n",
       "      <td>-1.942741e+00</td>\n",
       "      <td>-5.252354e+00</td>\n",
       "      <td>-2.200734e+00</td>\n",
       "    </tr>\n",
       "    <tr>\n",
       "      <th>25%</th>\n",
       "      <td>-2.824994e-01</td>\n",
       "      <td>1.697951e-12</td>\n",
       "      <td>1.160170e-12</td>\n",
       "    </tr>\n",
       "    <tr>\n",
       "      <th>50%</th>\n",
       "      <td>-2.824994e-01</td>\n",
       "      <td>1.697951e-12</td>\n",
       "      <td>1.160170e-12</td>\n",
       "    </tr>\n",
       "    <tr>\n",
       "      <th>75%</th>\n",
       "      <td>-2.824994e-01</td>\n",
       "      <td>1.697951e-12</td>\n",
       "      <td>1.160170e-12</td>\n",
       "    </tr>\n",
       "    <tr>\n",
       "      <th>max</th>\n",
       "      <td>1.715004e+01</td>\n",
       "      <td>7.543430e+00</td>\n",
       "      <td>1.004140e+01</td>\n",
       "    </tr>\n",
       "  </tbody>\n",
       "</table>\n",
       "</div>"
      ],
      "text/plain": [
       "           age_from        age_to  offer_experience_year_count\n",
       "count  5.629700e+04  5.629700e+04                 5.629700e+04\n",
       "mean  -4.404783e-16  1.698584e-12                 1.162118e-12\n",
       "std    1.000000e+00  1.000000e+00                 1.000000e+00\n",
       "min   -1.942741e+00 -5.252354e+00                -2.200734e+00\n",
       "25%   -2.824994e-01  1.697951e-12                 1.160170e-12\n",
       "50%   -2.824994e-01  1.697951e-12                 1.160170e-12\n",
       "75%   -2.824994e-01  1.697951e-12                 1.160170e-12\n",
       "max    1.715004e+01  7.543430e+00                 1.004140e+01"
      ]
     },
     "execution_count": 253,
     "metadata": {},
     "output_type": "execute_result"
    }
   ],
   "source": [
    "# выделяем датафрейм с числовыми признаками и нормируем значения\n",
    "data_numerical = data[numerical_columns]\n",
    "data_numerical = (data_numerical - data_numerical.mean()) / data_numerical.std()\n",
    "data_numerical.describe()"
   ]
  },
  {
   "cell_type": "code",
   "execution_count": 254,
   "metadata": {},
   "outputs": [
    {
     "name": "stdout",
     "output_type": "stream",
     "text": [
      "<class 'pandas.core.frame.DataFrame'>\n",
      "RangeIndex: 56297 entries, 0 to 56296\n",
      "Data columns (total 18 columns):\n",
      " #   Column                       Non-Null Count  Dtype  \n",
      "---  ------                       --------------  -----  \n",
      " 0   id                           56297 non-null  int64  \n",
      " 1   custom_position              56297 non-null  object \n",
      " 2   operating_schedule_id        56297 non-null  int64  \n",
      " 3   description                  56297 non-null  object \n",
      " 4   salary_from                  56297 non-null  int64  \n",
      " 5   offer_education_id           56297 non-null  int64  \n",
      " 6   age_from                     56297 non-null  float64\n",
      " 7   age_to                       56297 non-null  float64\n",
      " 8   is_agency                    56297 non-null  int64  \n",
      " 9   is_nonresident               56297 non-null  int64  \n",
      " 10  offer_experience_year_count  56297 non-null  float64\n",
      " 11  salary_to                    56297 non-null  float64\n",
      " 12  is_male                      56297 non-null  int64  \n",
      " 13  driving_license              56297 non-null  object \n",
      " 14  region_id                    56297 non-null  object \n",
      " 15  company_id                   56297 non-null  float64\n",
      " 16  city_id                      56297 non-null  object \n",
      " 17  target_prof                  56297 non-null  object \n",
      "dtypes: float64(5), int64(7), object(6)\n",
      "memory usage: 7.7+ MB\n"
     ]
    }
   ],
   "source": [
    "data.info()"
   ]
  },
  {
   "cell_type": "code",
   "execution_count": 255,
   "metadata": {},
   "outputs": [
    {
     "data": {
      "text/plain": [
       "count       56297\n",
       "unique      14345\n",
       "top       Грузчик\n",
       "freq          981\n",
       "Name: custom_position, dtype: object"
      ]
     },
     "execution_count": 255,
     "metadata": {},
     "output_type": "execute_result"
    }
   ],
   "source": [
    "data['custom_position'].describe()"
   ]
  },
  {
   "cell_type": "code",
   "execution_count": null,
   "metadata": {},
   "outputs": [],
   "source": []
  },
  {
   "cell_type": "markdown",
   "metadata": {},
   "source": [
    "## Векторизация категориальных признаков"
   ]
  },
  {
   "cell_type": "code",
   "execution_count": 256,
   "metadata": {},
   "outputs": [
    {
     "data": {
      "text/html": [
       "<div>\n",
       "<style scoped>\n",
       "    .dataframe tbody tr th:only-of-type {\n",
       "        vertical-align: middle;\n",
       "    }\n",
       "\n",
       "    .dataframe tbody tr th {\n",
       "        vertical-align: top;\n",
       "    }\n",
       "\n",
       "    .dataframe thead th {\n",
       "        text-align: right;\n",
       "    }\n",
       "</style>\n",
       "<table border=\"1\" class=\"dataframe\">\n",
       "  <thead>\n",
       "    <tr style=\"text-align: right;\">\n",
       "      <th></th>\n",
       "      <th>custom_position</th>\n",
       "      <th>operating_schedule_id</th>\n",
       "      <th>description</th>\n",
       "      <th>offer_education_id</th>\n",
       "      <th>is_agency</th>\n",
       "      <th>is_nonresident</th>\n",
       "      <th>is_male</th>\n",
       "      <th>driving_license</th>\n",
       "      <th>region_id</th>\n",
       "      <th>company_id</th>\n",
       "      <th>city_id</th>\n",
       "      <th>target_prof</th>\n",
       "    </tr>\n",
       "  </thead>\n",
       "  <tbody>\n",
       "    <tr>\n",
       "      <th>count</th>\n",
       "      <td>56297</td>\n",
       "      <td>56297</td>\n",
       "      <td>56297</td>\n",
       "      <td>56297</td>\n",
       "      <td>56297</td>\n",
       "      <td>56297</td>\n",
       "      <td>56297</td>\n",
       "      <td>56297</td>\n",
       "      <td>56297</td>\n",
       "      <td>56297.0</td>\n",
       "      <td>56297</td>\n",
       "      <td>56297</td>\n",
       "    </tr>\n",
       "    <tr>\n",
       "      <th>unique</th>\n",
       "      <td>14345</td>\n",
       "      <td>6</td>\n",
       "      <td>41692</td>\n",
       "      <td>5</td>\n",
       "      <td>2</td>\n",
       "      <td>2</td>\n",
       "      <td>3</td>\n",
       "      <td>16</td>\n",
       "      <td>1486</td>\n",
       "      <td>10218.0</td>\n",
       "      <td>67</td>\n",
       "      <td>521</td>\n",
       "    </tr>\n",
       "    <tr>\n",
       "      <th>top</th>\n",
       "      <td>Грузчик</td>\n",
       "      <td>1</td>\n",
       "      <td>&lt;br /&gt;\\nТребования: &lt;br&gt; &lt;br /&gt;\\nИнформация о ...</td>\n",
       "      <td>0</td>\n",
       "      <td>0</td>\n",
       "      <td>1</td>\n",
       "      <td>2</td>\n",
       "      <td>[]</td>\n",
       "      <td>{3}</td>\n",
       "      <td>1234787.0</td>\n",
       "      <td>1</td>\n",
       "      <td>водитель</td>\n",
       "    </tr>\n",
       "    <tr>\n",
       "      <th>freq</th>\n",
       "      <td>981</td>\n",
       "      <td>27010</td>\n",
       "      <td>293</td>\n",
       "      <td>47394</td>\n",
       "      <td>49062</td>\n",
       "      <td>30716</td>\n",
       "      <td>47493</td>\n",
       "      <td>54806</td>\n",
       "      <td>18167</td>\n",
       "      <td>15838.0</td>\n",
       "      <td>16144</td>\n",
       "      <td>4885</td>\n",
       "    </tr>\n",
       "  </tbody>\n",
       "</table>\n",
       "</div>"
      ],
      "text/plain": [
       "       custom_position  operating_schedule_id  \\\n",
       "count            56297                  56297   \n",
       "unique           14345                      6   \n",
       "top            Грузчик                      1   \n",
       "freq               981                  27010   \n",
       "\n",
       "                                              description  offer_education_id  \\\n",
       "count                                               56297               56297   \n",
       "unique                                              41692                   5   \n",
       "top     <br />\\nТребования: <br> <br />\\nИнформация о ...                   0   \n",
       "freq                                                  293               47394   \n",
       "\n",
       "        is_agency  is_nonresident  is_male driving_license region_id  \\\n",
       "count       56297           56297    56297           56297     56297   \n",
       "unique          2               2        3              16      1486   \n",
       "top             0               1        2              []       {3}   \n",
       "freq        49062           30716    47493           54806     18167   \n",
       "\n",
       "        company_id  city_id target_prof  \n",
       "count      56297.0    56297       56297  \n",
       "unique     10218.0       67         521  \n",
       "top      1234787.0        1    водитель  \n",
       "freq       15838.0    16144        4885  "
      ]
     },
     "execution_count": 256,
     "metadata": {},
     "output_type": "execute_result"
    }
   ],
   "source": [
    "# \n",
    "categorical_columns = ['custom_position', 'region_id', 'operating_schedule_id', 'offer_education_id', 'is_agency', \n",
    "                       'is_nonresident', 'is_male', 'driving_license', 'company_id', 'city_id']\n",
    "\n",
    "data['operating_schedule_id'] = data['operating_schedule_id'].astype('object')\n",
    "data['is_male'] = data['is_male'].astype('object')\n",
    "data['company_id'] = data['company_id'].astype('object')\n",
    "data['is_agency'] = data['is_agency'].astype('object')\n",
    "data['is_nonresident'] = data['is_nonresident'].astype('object')\n",
    "data['offer_education_id'] = data['offer_education_id'].astype('object')\n",
    "\n",
    "data_describe = data.describe(include=[object])\n",
    "data_describe"
   ]
  },
  {
   "cell_type": "code",
   "execution_count": 257,
   "metadata": {},
   "outputs": [
    {
     "name": "stdout",
     "output_type": "stream",
     "text": [
      "Бинарные категориальные признаки:  ['is_agency', 'is_nonresident']\n",
      "Небинарные категориальные признаки:  ['custom_position', 'region_id', 'operating_schedule_id', 'offer_education_id', 'is_male', 'driving_license', 'company_id', 'city_id']\n"
     ]
    }
   ],
   "source": [
    "binary_columns    = [c for c in categorical_columns if data_describe[c]['unique'] == 2]\n",
    "nonbinary_columns = [c for c in categorical_columns if data_describe[c]['unique'] > 2]\n",
    "print('Бинарные категориальные признаки: ', binary_columns)\n",
    "print('Небинарные категориальные признаки: ', nonbinary_columns)"
   ]
  },
  {
   "cell_type": "code",
   "execution_count": 258,
   "metadata": {},
   "outputs": [],
   "source": [
    "# выделяем датафрейм с бинарными признаками\n",
    "#data_binary = data[binary_columns]\n",
    "#data_binary.describe()"
   ]
  },
  {
   "cell_type": "code",
   "execution_count": 259,
   "metadata": {},
   "outputs": [
    {
     "name": "stdout",
     "output_type": "stream",
     "text": [
      "Wall time: 6.28 s\n"
     ]
    }
   ],
   "source": [
    "%%time\n",
    "\n",
    "\n",
    "\n",
    "# для небинарных признаков создаём фиктивные колонки\n",
    "data_nonbinary = pd.get_dummies(data[nonbinary_columns])"
   ]
  },
  {
   "cell_type": "code",
   "execution_count": 260,
   "metadata": {},
   "outputs": [
    {
     "name": "stdout",
     "output_type": "stream",
     "text": [
      "Всего фиктивных признаков 26146\n",
      "Index(['custom_position_(копия)Автокурьер',\n",
      "       'custom_position_(копия)Администратор/приемщик заказов в похоронное бюро',\n",
      "       'custom_position_(копия)Бетонщик-монолитчик',\n",
      "       'custom_position_(копия)Водитель категории B на личном автомобиле',\n",
      "       'custom_position_(копия)Водитель контейнеровоза',\n",
      "       'custom_position_(копия)Водитель с личным автомобилем',\n",
      "       'custom_position_(копия)Водитель такси',\n",
      "       'custom_position_(копия)Водитель такси (аренда)',\n",
      "       'custom_position_(копия)Водитель такси на автомобиле таксопарка',\n",
      "       'custom_position_(копия)Водитель-экспедитор',\n",
      "       ...\n",
      "       'city_id_256', 'city_id_258', 'city_id_259', 'city_id_260',\n",
      "       'city_id_261', 'city_id_263', 'city_id_268', 'city_id_269',\n",
      "       'city_id_270', 'city_id_272'],\n",
      "      dtype='object', length=26146)\n"
     ]
    }
   ],
   "source": [
    "print('Всего фиктивных признаков', len(data_nonbinary.columns))\n",
    "print(data_nonbinary.columns)"
   ]
  },
  {
   "cell_type": "markdown",
   "metadata": {},
   "source": [
    "## Соединение признаков всех типов в единый дата-фрейм"
   ]
  },
  {
   "cell_type": "code",
   "execution_count": 261,
   "metadata": {},
   "outputs": [
    {
     "name": "stdout",
     "output_type": "stream",
     "text": [
      "Wall time: 6.4 s\n"
     ]
    }
   ],
   "source": [
    "%%time\n",
    "data_all = pd.concat((data_numerical, data[binary_columns], data_nonbinary), axis=1)\n",
    "data_all = pd.DataFrame(data_all, dtype=float)"
   ]
  },
  {
   "cell_type": "code",
   "execution_count": 262,
   "metadata": {},
   "outputs": [
    {
     "data": {
      "text/plain": [
       "(56297, 26151)"
      ]
     },
     "execution_count": 262,
     "metadata": {},
     "output_type": "execute_result"
    }
   ],
   "source": [
    "# размеры\n",
    "data_all.shape"
   ]
  },
  {
   "cell_type": "code",
   "execution_count": 263,
   "metadata": {},
   "outputs": [
    {
     "data": {
      "text/html": [
       "<div>\n",
       "<style scoped>\n",
       "    .dataframe tbody tr th:only-of-type {\n",
       "        vertical-align: middle;\n",
       "    }\n",
       "\n",
       "    .dataframe tbody tr th {\n",
       "        vertical-align: top;\n",
       "    }\n",
       "\n",
       "    .dataframe thead th {\n",
       "        text-align: right;\n",
       "    }\n",
       "</style>\n",
       "<table border=\"1\" class=\"dataframe\">\n",
       "  <thead>\n",
       "    <tr style=\"text-align: right;\">\n",
       "      <th></th>\n",
       "      <th>age_from</th>\n",
       "      <th>age_to</th>\n",
       "      <th>offer_experience_year_count</th>\n",
       "      <th>is_agency</th>\n",
       "      <th>is_nonresident</th>\n",
       "      <th>custom_position_(копия)Автокурьер</th>\n",
       "      <th>custom_position_(копия)Администратор/приемщик заказов в похоронное бюро</th>\n",
       "      <th>custom_position_(копия)Бетонщик-монолитчик</th>\n",
       "      <th>custom_position_(копия)Водитель категории B на личном автомобиле</th>\n",
       "      <th>custom_position_(копия)Водитель контейнеровоза</th>\n",
       "      <th>...</th>\n",
       "      <th>city_id_256</th>\n",
       "      <th>city_id_258</th>\n",
       "      <th>city_id_259</th>\n",
       "      <th>city_id_260</th>\n",
       "      <th>city_id_261</th>\n",
       "      <th>city_id_263</th>\n",
       "      <th>city_id_268</th>\n",
       "      <th>city_id_269</th>\n",
       "      <th>city_id_270</th>\n",
       "      <th>city_id_272</th>\n",
       "    </tr>\n",
       "  </thead>\n",
       "  <tbody>\n",
       "    <tr>\n",
       "      <th>0</th>\n",
       "      <td>-0.282499</td>\n",
       "      <td>1.697951e-12</td>\n",
       "      <td>-9.765207e-01</td>\n",
       "      <td>1.0</td>\n",
       "      <td>1.0</td>\n",
       "      <td>0.0</td>\n",
       "      <td>0.0</td>\n",
       "      <td>0.0</td>\n",
       "      <td>0.0</td>\n",
       "      <td>0.0</td>\n",
       "      <td>...</td>\n",
       "      <td>0.0</td>\n",
       "      <td>0.0</td>\n",
       "      <td>0.0</td>\n",
       "      <td>0.0</td>\n",
       "      <td>0.0</td>\n",
       "      <td>0.0</td>\n",
       "      <td>0.0</td>\n",
       "      <td>0.0</td>\n",
       "      <td>0.0</td>\n",
       "      <td>0.0</td>\n",
       "    </tr>\n",
       "    <tr>\n",
       "      <th>1</th>\n",
       "      <td>-0.282499</td>\n",
       "      <td>1.697951e-12</td>\n",
       "      <td>1.160170e-12</td>\n",
       "      <td>0.0</td>\n",
       "      <td>0.0</td>\n",
       "      <td>0.0</td>\n",
       "      <td>0.0</td>\n",
       "      <td>0.0</td>\n",
       "      <td>0.0</td>\n",
       "      <td>0.0</td>\n",
       "      <td>...</td>\n",
       "      <td>0.0</td>\n",
       "      <td>0.0</td>\n",
       "      <td>0.0</td>\n",
       "      <td>0.0</td>\n",
       "      <td>0.0</td>\n",
       "      <td>0.0</td>\n",
       "      <td>0.0</td>\n",
       "      <td>0.0</td>\n",
       "      <td>0.0</td>\n",
       "      <td>0.0</td>\n",
       "    </tr>\n",
       "    <tr>\n",
       "      <th>2</th>\n",
       "      <td>-0.282499</td>\n",
       "      <td>1.697951e-12</td>\n",
       "      <td>1.160170e-12</td>\n",
       "      <td>0.0</td>\n",
       "      <td>0.0</td>\n",
       "      <td>0.0</td>\n",
       "      <td>0.0</td>\n",
       "      <td>0.0</td>\n",
       "      <td>0.0</td>\n",
       "      <td>0.0</td>\n",
       "      <td>...</td>\n",
       "      <td>0.0</td>\n",
       "      <td>0.0</td>\n",
       "      <td>0.0</td>\n",
       "      <td>0.0</td>\n",
       "      <td>0.0</td>\n",
       "      <td>0.0</td>\n",
       "      <td>0.0</td>\n",
       "      <td>0.0</td>\n",
       "      <td>0.0</td>\n",
       "      <td>0.0</td>\n",
       "    </tr>\n",
       "    <tr>\n",
       "      <th>3</th>\n",
       "      <td>-0.282499</td>\n",
       "      <td>1.697951e-12</td>\n",
       "      <td>1.160170e-12</td>\n",
       "      <td>0.0</td>\n",
       "      <td>1.0</td>\n",
       "      <td>0.0</td>\n",
       "      <td>0.0</td>\n",
       "      <td>0.0</td>\n",
       "      <td>0.0</td>\n",
       "      <td>0.0</td>\n",
       "      <td>...</td>\n",
       "      <td>0.0</td>\n",
       "      <td>0.0</td>\n",
       "      <td>0.0</td>\n",
       "      <td>0.0</td>\n",
       "      <td>0.0</td>\n",
       "      <td>0.0</td>\n",
       "      <td>0.0</td>\n",
       "      <td>0.0</td>\n",
       "      <td>0.0</td>\n",
       "      <td>0.0</td>\n",
       "    </tr>\n",
       "    <tr>\n",
       "      <th>4</th>\n",
       "      <td>-0.282499</td>\n",
       "      <td>1.697951e-12</td>\n",
       "      <td>2.476923e-01</td>\n",
       "      <td>0.0</td>\n",
       "      <td>1.0</td>\n",
       "      <td>0.0</td>\n",
       "      <td>0.0</td>\n",
       "      <td>0.0</td>\n",
       "      <td>0.0</td>\n",
       "      <td>0.0</td>\n",
       "      <td>...</td>\n",
       "      <td>0.0</td>\n",
       "      <td>1.0</td>\n",
       "      <td>0.0</td>\n",
       "      <td>0.0</td>\n",
       "      <td>0.0</td>\n",
       "      <td>0.0</td>\n",
       "      <td>0.0</td>\n",
       "      <td>0.0</td>\n",
       "      <td>0.0</td>\n",
       "      <td>0.0</td>\n",
       "    </tr>\n",
       "  </tbody>\n",
       "</table>\n",
       "<p>5 rows × 26151 columns</p>\n",
       "</div>"
      ],
      "text/plain": [
       "   age_from        age_to  offer_experience_year_count  is_agency  \\\n",
       "0 -0.282499  1.697951e-12                -9.765207e-01        1.0   \n",
       "1 -0.282499  1.697951e-12                 1.160170e-12        0.0   \n",
       "2 -0.282499  1.697951e-12                 1.160170e-12        0.0   \n",
       "3 -0.282499  1.697951e-12                 1.160170e-12        0.0   \n",
       "4 -0.282499  1.697951e-12                 2.476923e-01        0.0   \n",
       "\n",
       "   is_nonresident  custom_position_(копия)Автокурьер  \\\n",
       "0             1.0                                0.0   \n",
       "1             0.0                                0.0   \n",
       "2             0.0                                0.0   \n",
       "3             1.0                                0.0   \n",
       "4             1.0                                0.0   \n",
       "\n",
       "   custom_position_(копия)Администратор/приемщик заказов в похоронное бюро  \\\n",
       "0                                                0.0                         \n",
       "1                                                0.0                         \n",
       "2                                                0.0                         \n",
       "3                                                0.0                         \n",
       "4                                                0.0                         \n",
       "\n",
       "   custom_position_(копия)Бетонщик-монолитчик  \\\n",
       "0                                         0.0   \n",
       "1                                         0.0   \n",
       "2                                         0.0   \n",
       "3                                         0.0   \n",
       "4                                         0.0   \n",
       "\n",
       "   custom_position_(копия)Водитель категории B на личном автомобиле  \\\n",
       "0                                                0.0                  \n",
       "1                                                0.0                  \n",
       "2                                                0.0                  \n",
       "3                                                0.0                  \n",
       "4                                                0.0                  \n",
       "\n",
       "   custom_position_(копия)Водитель контейнеровоза  ...  city_id_256  \\\n",
       "0                                             0.0  ...          0.0   \n",
       "1                                             0.0  ...          0.0   \n",
       "2                                             0.0  ...          0.0   \n",
       "3                                             0.0  ...          0.0   \n",
       "4                                             0.0  ...          0.0   \n",
       "\n",
       "   city_id_258  city_id_259  city_id_260  city_id_261  city_id_263  \\\n",
       "0          0.0          0.0          0.0          0.0          0.0   \n",
       "1          0.0          0.0          0.0          0.0          0.0   \n",
       "2          0.0          0.0          0.0          0.0          0.0   \n",
       "3          0.0          0.0          0.0          0.0          0.0   \n",
       "4          1.0          0.0          0.0          0.0          0.0   \n",
       "\n",
       "   city_id_268  city_id_269  city_id_270  city_id_272  \n",
       "0          0.0          0.0          0.0          0.0  \n",
       "1          0.0          0.0          0.0          0.0  \n",
       "2          0.0          0.0          0.0          0.0  \n",
       "3          0.0          0.0          0.0          0.0  \n",
       "4          0.0          0.0          0.0          0.0  \n",
       "\n",
       "[5 rows x 26151 columns]"
      ]
     },
     "execution_count": 263,
     "metadata": {},
     "output_type": "execute_result"
    }
   ],
   "source": [
    "data_all.head()"
   ]
  },
  {
   "cell_type": "code",
   "execution_count": 264,
   "metadata": {},
   "outputs": [
    {
     "data": {
      "text/plain": [
       "0          рабочий\n",
       "1     разнорабочий\n",
       "2            повар\n",
       "3     разнорабочий\n",
       "4    представитель\n",
       "Name: target_prof, dtype: object"
      ]
     },
     "execution_count": 264,
     "metadata": {},
     "output_type": "execute_result"
    }
   ],
   "source": [
    "# выделяем отдельный вектор-столбец с целевой переменной - target_prof\n",
    "y = data['target_prof']\n",
    "y.head()"
   ]
  },
  {
   "cell_type": "code",
   "execution_count": 265,
   "metadata": {},
   "outputs": [],
   "source": [
    "X = data_all\n",
    "feature_names = X.columns"
   ]
  },
  {
   "cell_type": "code",
   "execution_count": 266,
   "metadata": {},
   "outputs": [
    {
     "data": {
      "text/plain": [
       "count        56297\n",
       "unique         521\n",
       "top       водитель\n",
       "freq          4885\n",
       "Name: target_prof, dtype: object"
      ]
     },
     "execution_count": 266,
     "metadata": {},
     "output_type": "execute_result"
    }
   ],
   "source": [
    "y.describe()"
   ]
  },
  {
   "cell_type": "markdown",
   "metadata": {},
   "source": [
    "## Обучение на всех данных"
   ]
  },
  {
   "cell_type": "code",
   "execution_count": 137,
   "metadata": {},
   "outputs": [
    {
     "name": "stdout",
     "output_type": "stream",
     "text": [
      "Wall time: 12min 28s\n"
     ]
    },
    {
     "data": {
      "text/plain": [
       "RandomForestClassifier(random_state=11)"
      ]
     },
     "execution_count": 137,
     "metadata": {},
     "output_type": "execute_result"
    }
   ],
   "source": [
    "%%time\n",
    "from sklearn import ensemble\n",
    "rf = ensemble.RandomForestClassifier(n_estimators=100, random_state=11)\n",
    "rf.fit(X, y)"
   ]
  },
  {
   "cell_type": "code",
   "execution_count": 138,
   "metadata": {},
   "outputs": [
    {
     "data": {
      "text/plain": [
       "['rf_1.joblib']"
      ]
     },
     "execution_count": 138,
     "metadata": {},
     "output_type": "execute_result"
    }
   ],
   "source": [
    "from joblib import dump, load\n",
    "dump(rf, 'rf_1.joblib') "
   ]
  },
  {
   "cell_type": "code",
   "execution_count": 267,
   "metadata": {},
   "outputs": [],
   "source": [
    "data = pd.read_csv('rabotaru_ru/data/test.csv')"
   ]
  },
  {
   "cell_type": "code",
   "execution_count": 268,
   "metadata": {},
   "outputs": [
    {
     "data": {
      "text/plain": [
       "(14074, 15)"
      ]
     },
     "execution_count": 268,
     "metadata": {},
     "output_type": "execute_result"
    }
   ],
   "source": [
    "data.shape"
   ]
  },
  {
   "cell_type": "code",
   "execution_count": 269,
   "metadata": {},
   "outputs": [
    {
     "data": {
      "text/html": [
       "<div>\n",
       "<style scoped>\n",
       "    .dataframe tbody tr th:only-of-type {\n",
       "        vertical-align: middle;\n",
       "    }\n",
       "\n",
       "    .dataframe tbody tr th {\n",
       "        vertical-align: top;\n",
       "    }\n",
       "\n",
       "    .dataframe thead th {\n",
       "        text-align: right;\n",
       "    }\n",
       "</style>\n",
       "<table border=\"1\" class=\"dataframe\">\n",
       "  <thead>\n",
       "    <tr style=\"text-align: right;\">\n",
       "      <th></th>\n",
       "      <th>id</th>\n",
       "      <th>custom_position</th>\n",
       "      <th>operating_schedule_id</th>\n",
       "      <th>description</th>\n",
       "      <th>offer_education_id</th>\n",
       "      <th>age_from</th>\n",
       "      <th>age_to</th>\n",
       "      <th>is_agency</th>\n",
       "      <th>is_nonresident</th>\n",
       "      <th>offer_experience_year_count</th>\n",
       "      <th>is_male</th>\n",
       "      <th>driving_license</th>\n",
       "      <th>region_id</th>\n",
       "      <th>company_id</th>\n",
       "      <th>city_id</th>\n",
       "    </tr>\n",
       "  </thead>\n",
       "  <tbody>\n",
       "    <tr>\n",
       "      <th>0</th>\n",
       "      <td>286961</td>\n",
       "      <td>Водитель-курьер по доставке еды</td>\n",
       "      <td>3</td>\n",
       "      <td>&lt;strong&gt;Приглашаем на работу ВОДИТЕЛЕЙ-КУРЬЕРО...</td>\n",
       "      <td>0</td>\n",
       "      <td>18.0</td>\n",
       "      <td>50.0</td>\n",
       "      <td>False</td>\n",
       "      <td>True</td>\n",
       "      <td>-100.0</td>\n",
       "      <td>NaN</td>\n",
       "      <td>['B']</td>\n",
       "      <td>{209}</td>\n",
       "      <td>1172596.0</td>\n",
       "      <td>57</td>\n",
       "    </tr>\n",
       "    <tr>\n",
       "      <th>1</th>\n",
       "      <td>423834</td>\n",
       "      <td>Упаковщик печенья  (вахта)</td>\n",
       "      <td>7</td>\n",
       "      <td>Прямой работодатель, с сезонным расширением пр...</td>\n",
       "      <td>0</td>\n",
       "      <td>NaN</td>\n",
       "      <td>NaN</td>\n",
       "      <td>False</td>\n",
       "      <td>False</td>\n",
       "      <td>NaN</td>\n",
       "      <td>NaN</td>\n",
       "      <td>[]</td>\n",
       "      <td>{3}</td>\n",
       "      <td>1879927.0</td>\n",
       "      <td>1</td>\n",
       "    </tr>\n",
       "    <tr>\n",
       "      <th>2</th>\n",
       "      <td>336464</td>\n",
       "      <td>Менеджер по туризму</td>\n",
       "      <td>3</td>\n",
       "      <td>&lt;strong&gt;Обязанности:&lt;/strong&gt;&lt;br /&gt;\\r\\n&lt;ul&gt;\\r\\...</td>\n",
       "      <td>4</td>\n",
       "      <td>NaN</td>\n",
       "      <td>NaN</td>\n",
       "      <td>False</td>\n",
       "      <td>False</td>\n",
       "      <td>1.0</td>\n",
       "      <td>NaN</td>\n",
       "      <td>[]</td>\n",
       "      <td>{1278}</td>\n",
       "      <td>2724192.0</td>\n",
       "      <td>57</td>\n",
       "    </tr>\n",
       "    <tr>\n",
       "      <th>3</th>\n",
       "      <td>287634</td>\n",
       "      <td>Повар - сушист</td>\n",
       "      <td>1</td>\n",
       "      <td>Компания PIZZASUSHIWOK приглашает на работу по...</td>\n",
       "      <td>0</td>\n",
       "      <td>18.0</td>\n",
       "      <td>50.0</td>\n",
       "      <td>False</td>\n",
       "      <td>True</td>\n",
       "      <td>-100.0</td>\n",
       "      <td>NaN</td>\n",
       "      <td>[]</td>\n",
       "      <td>{3}</td>\n",
       "      <td>1172596.0</td>\n",
       "      <td>1</td>\n",
       "    </tr>\n",
       "    <tr>\n",
       "      <th>4</th>\n",
       "      <td>174883</td>\n",
       "      <td>Уборщик/Уборщица АЗС 145</td>\n",
       "      <td>3</td>\n",
       "      <td>&lt;br /&gt; &lt;br /&gt;Требуется уборщик/ца на АЗС 145.&lt;...</td>\n",
       "      <td>0</td>\n",
       "      <td>NaN</td>\n",
       "      <td>NaN</td>\n",
       "      <td>False</td>\n",
       "      <td>True</td>\n",
       "      <td>-1.0</td>\n",
       "      <td>NaN</td>\n",
       "      <td>[]</td>\n",
       "      <td>{1278}</td>\n",
       "      <td>1952643.0</td>\n",
       "      <td>1</td>\n",
       "    </tr>\n",
       "  </tbody>\n",
       "</table>\n",
       "</div>"
      ],
      "text/plain": [
       "       id                  custom_position  operating_schedule_id  \\\n",
       "0  286961  Водитель-курьер по доставке еды                      3   \n",
       "1  423834       Упаковщик печенья  (вахта)                      7   \n",
       "2  336464              Менеджер по туризму                      3   \n",
       "3  287634                   Повар - сушист                      1   \n",
       "4  174883         Уборщик/Уборщица АЗС 145                      3   \n",
       "\n",
       "                                         description  offer_education_id  \\\n",
       "0  <strong>Приглашаем на работу ВОДИТЕЛЕЙ-КУРЬЕРО...                   0   \n",
       "1  Прямой работодатель, с сезонным расширением пр...                   0   \n",
       "2  <strong>Обязанности:</strong><br />\\r\\n<ul>\\r\\...                   4   \n",
       "3  Компания PIZZASUSHIWOK приглашает на работу по...                   0   \n",
       "4  <br /> <br />Требуется уборщик/ца на АЗС 145.<...                   0   \n",
       "\n",
       "   age_from  age_to  is_agency  is_nonresident  offer_experience_year_count  \\\n",
       "0      18.0    50.0      False            True                       -100.0   \n",
       "1       NaN     NaN      False           False                          NaN   \n",
       "2       NaN     NaN      False           False                          1.0   \n",
       "3      18.0    50.0      False            True                       -100.0   \n",
       "4       NaN     NaN      False            True                         -1.0   \n",
       "\n",
       "  is_male driving_license region_id  company_id  city_id  \n",
       "0     NaN           ['B']     {209}   1172596.0       57  \n",
       "1     NaN              []       {3}   1879927.0        1  \n",
       "2     NaN              []    {1278}   2724192.0       57  \n",
       "3     NaN              []       {3}   1172596.0        1  \n",
       "4     NaN              []    {1278}   1952643.0        1  "
      ]
     },
     "execution_count": 269,
     "metadata": {},
     "output_type": "execute_result"
    }
   ],
   "source": [
    "data.head()"
   ]
  },
  {
   "cell_type": "code",
   "execution_count": 270,
   "metadata": {},
   "outputs": [],
   "source": [
    "# меняем тип некоторых колонок на категориальный\n",
    "data['operating_schedule_id'] = data['operating_schedule_id'].astype('object')\n",
    "data['is_male'] = data['is_male'].astype('object')\n",
    "data['company_id'] = data['company_id'].astype('object')\n",
    "data['is_agency'] = data['is_agency'].astype('object')\n",
    "data['is_nonresident'] = data['is_nonresident'].astype('object')\n",
    "data['offer_education_id'] = data['offer_education_id'].astype('object')"
   ]
  },
  {
   "cell_type": "code",
   "execution_count": 271,
   "metadata": {},
   "outputs": [],
   "source": [
    "# \"возраст от\" заменяем на моду (наиболее часто встречающееся значение)\n",
    "data['age_from'].fillna(int(data['age_from'].mode()), axis=0, inplace=True)"
   ]
  },
  {
   "cell_type": "code",
   "execution_count": 272,
   "metadata": {},
   "outputs": [],
   "source": [
    "# \"возраст до\" заменяем на среднее значение\n",
    "data['age_to'].fillna(data['age_to'].mean(axis=0), axis=0, inplace=True)"
   ]
  },
  {
   "cell_type": "code",
   "execution_count": 273,
   "metadata": {},
   "outputs": [
    {
     "name": "stdout",
     "output_type": "stream",
     "text": [
      "1.826244516498188\n"
     ]
    }
   ],
   "source": [
    "data.loc[ data['offer_experience_year_count'] < 0, 'offer_experience_year_count'] = None\n",
    "\n",
    "# заменяем требуемый опыт на среднее значение\n",
    "print(data['offer_experience_year_count'].mean(axis=0))\n",
    "data['offer_experience_year_count'].fillna(data['offer_experience_year_count'].mean(axis=0), axis=0, inplace=True)"
   ]
  },
  {
   "cell_type": "code",
   "execution_count": 274,
   "metadata": {},
   "outputs": [],
   "source": [
    "# для каиегориальной переменной company_id заменяем пропуски на самое популярное значение\n",
    "data['company_id'].fillna(data['company_id'].describe().top, axis=0, inplace=True)"
   ]
  },
  {
   "cell_type": "code",
   "execution_count": 275,
   "metadata": {},
   "outputs": [],
   "source": [
    "data['operating_schedule_id'].fillna(data['operating_schedule_id'].describe().top, axis=0, inplace=True)"
   ]
  },
  {
   "cell_type": "code",
   "execution_count": 276,
   "metadata": {},
   "outputs": [],
   "source": [
    "data['driving_license'].fillna(data['driving_license'].describe().top, axis=0, inplace=True)"
   ]
  },
  {
   "cell_type": "code",
   "execution_count": 277,
   "metadata": {},
   "outputs": [],
   "source": [
    "data['offer_education_id'].fillna(data['offer_education_id'].describe().top, axis=0, inplace=True)"
   ]
  },
  {
   "cell_type": "code",
   "execution_count": 278,
   "metadata": {},
   "outputs": [],
   "source": [
    "# для пола заменяем константы True и False на 1 и 0\n",
    "data.loc[ data['is_male'] == True, 'is_male'] = 1\n",
    "data.loc[ data['is_male'] == False, 'is_male'] = 0"
   ]
  },
  {
   "cell_type": "code",
   "execution_count": 279,
   "metadata": {},
   "outputs": [],
   "source": [
    "# для каиегориальной переменной is_male заменяем пропуски на 2\n",
    "data['is_male'].fillna(2, axis=0, inplace=True)"
   ]
  },
  {
   "cell_type": "code",
   "execution_count": 280,
   "metadata": {},
   "outputs": [],
   "source": [
    "# для is_agency заменяем константы True и False на 1 и 0\n",
    "data.loc[ data['is_agency'] == True, 'is_agency'] = 1\n",
    "data.loc[ data['is_agency'] == False, 'is_agency'] = 0"
   ]
  },
  {
   "cell_type": "code",
   "execution_count": 281,
   "metadata": {},
   "outputs": [],
   "source": [
    "# для каиегориальной переменной is_agency заменяем пропуски на самое популярное значение\n",
    "data['is_agency'].fillna(data['is_agency'].describe().top, axis=0, inplace=True)"
   ]
  },
  {
   "cell_type": "code",
   "execution_count": 282,
   "metadata": {},
   "outputs": [],
   "source": [
    "# для is_nonresident заменяем константы True и False на 1 и 0\n",
    "data.loc[ data['is_nonresident'] == True, 'is_nonresident'] = 1\n",
    "data.loc[ data['is_nonresident'] == False, 'is_nonresident'] = 0\n",
    "\n",
    "data['is_nonresident'].fillna(data['is_nonresident'].describe().top, axis=0, inplace=True)"
   ]
  },
  {
   "cell_type": "code",
   "execution_count": 283,
   "metadata": {},
   "outputs": [
    {
     "name": "stdout",
     "output_type": "stream",
     "text": [
      "<class 'pandas.core.frame.DataFrame'>\n",
      "RangeIndex: 14074 entries, 0 to 14073\n",
      "Data columns (total 15 columns):\n",
      " #   Column                       Non-Null Count  Dtype  \n",
      "---  ------                       --------------  -----  \n",
      " 0   id                           14074 non-null  int64  \n",
      " 1   custom_position              14074 non-null  object \n",
      " 2   operating_schedule_id        14074 non-null  int64  \n",
      " 3   description                  14074 non-null  object \n",
      " 4   offer_education_id           14074 non-null  int64  \n",
      " 5   age_from                     14074 non-null  float64\n",
      " 6   age_to                       14074 non-null  float64\n",
      " 7   is_agency                    14074 non-null  int64  \n",
      " 8   is_nonresident               14074 non-null  int64  \n",
      " 9   offer_experience_year_count  14074 non-null  float64\n",
      " 10  is_male                      14074 non-null  int64  \n",
      " 11  driving_license              14074 non-null  object \n",
      " 12  region_id                    14074 non-null  object \n",
      " 13  company_id                   14074 non-null  float64\n",
      " 14  city_id                      14074 non-null  int64  \n",
      "dtypes: float64(4), int64(7), object(4)\n",
      "memory usage: 1.6+ MB\n"
     ]
    }
   ],
   "source": [
    "data.info()"
   ]
  },
  {
   "cell_type": "code",
   "execution_count": 284,
   "metadata": {},
   "outputs": [
    {
     "data": {
      "text/html": [
       "<div>\n",
       "<style scoped>\n",
       "    .dataframe tbody tr th:only-of-type {\n",
       "        vertical-align: middle;\n",
       "    }\n",
       "\n",
       "    .dataframe tbody tr th {\n",
       "        vertical-align: top;\n",
       "    }\n",
       "\n",
       "    .dataframe thead th {\n",
       "        text-align: right;\n",
       "    }\n",
       "</style>\n",
       "<table border=\"1\" class=\"dataframe\">\n",
       "  <thead>\n",
       "    <tr style=\"text-align: right;\">\n",
       "      <th></th>\n",
       "      <th>custom_position</th>\n",
       "      <th>operating_schedule_id</th>\n",
       "      <th>description</th>\n",
       "      <th>offer_education_id</th>\n",
       "      <th>is_agency</th>\n",
       "      <th>is_nonresident</th>\n",
       "      <th>is_male</th>\n",
       "      <th>driving_license</th>\n",
       "      <th>region_id</th>\n",
       "      <th>company_id</th>\n",
       "      <th>city_id</th>\n",
       "    </tr>\n",
       "  </thead>\n",
       "  <tbody>\n",
       "    <tr>\n",
       "      <th>count</th>\n",
       "      <td>14074</td>\n",
       "      <td>14074</td>\n",
       "      <td>14074</td>\n",
       "      <td>14074</td>\n",
       "      <td>14074</td>\n",
       "      <td>14074</td>\n",
       "      <td>14074</td>\n",
       "      <td>14074</td>\n",
       "      <td>14074</td>\n",
       "      <td>14074.0</td>\n",
       "      <td>14074</td>\n",
       "    </tr>\n",
       "    <tr>\n",
       "      <th>unique</th>\n",
       "      <td>5130</td>\n",
       "      <td>6</td>\n",
       "      <td>11953</td>\n",
       "      <td>5</td>\n",
       "      <td>2</td>\n",
       "      <td>2</td>\n",
       "      <td>3</td>\n",
       "      <td>12</td>\n",
       "      <td>839</td>\n",
       "      <td>3541.0</td>\n",
       "      <td>65</td>\n",
       "    </tr>\n",
       "    <tr>\n",
       "      <th>top</th>\n",
       "      <td>Грузчик</td>\n",
       "      <td>1</td>\n",
       "      <td>&lt;br /&gt;\\nТребования: &lt;br&gt; &lt;br /&gt;\\nИнформация о ...</td>\n",
       "      <td>0</td>\n",
       "      <td>0</td>\n",
       "      <td>1</td>\n",
       "      <td>2</td>\n",
       "      <td>[]</td>\n",
       "      <td>{3}</td>\n",
       "      <td>1234787.0</td>\n",
       "      <td>1</td>\n",
       "    </tr>\n",
       "    <tr>\n",
       "      <th>freq</th>\n",
       "      <td>221</td>\n",
       "      <td>6777</td>\n",
       "      <td>67</td>\n",
       "      <td>11817</td>\n",
       "      <td>12272</td>\n",
       "      <td>7671</td>\n",
       "      <td>11963</td>\n",
       "      <td>13741</td>\n",
       "      <td>4482</td>\n",
       "      <td>3993.0</td>\n",
       "      <td>4028</td>\n",
       "    </tr>\n",
       "  </tbody>\n",
       "</table>\n",
       "</div>"
      ],
      "text/plain": [
       "       custom_position  operating_schedule_id  \\\n",
       "count            14074                  14074   \n",
       "unique            5130                      6   \n",
       "top            Грузчик                      1   \n",
       "freq               221                   6777   \n",
       "\n",
       "                                              description  offer_education_id  \\\n",
       "count                                               14074               14074   \n",
       "unique                                              11953                   5   \n",
       "top     <br />\\nТребования: <br> <br />\\nИнформация о ...                   0   \n",
       "freq                                                   67               11817   \n",
       "\n",
       "        is_agency  is_nonresident  is_male driving_license region_id  \\\n",
       "count       14074           14074    14074           14074     14074   \n",
       "unique          2               2        3              12       839   \n",
       "top             0               1        2              []       {3}   \n",
       "freq        12272            7671    11963           13741      4482   \n",
       "\n",
       "        company_id  city_id  \n",
       "count      14074.0    14074  \n",
       "unique      3541.0       65  \n",
       "top      1234787.0        1  \n",
       "freq        3993.0     4028  "
      ]
     },
     "execution_count": 284,
     "metadata": {},
     "output_type": "execute_result"
    }
   ],
   "source": [
    "categorical_columns = ['custom_position', 'region_id', 'operating_schedule_id', 'offer_education_id', 'is_agency', \n",
    "                       'is_nonresident', 'is_male', 'driving_license', 'company_id', 'city_id']\n",
    "\n",
    "data['operating_schedule_id'] = data['operating_schedule_id'].astype('object')\n",
    "data['is_male'] = data['is_male'].astype('object')\n",
    "data['company_id'] = data['company_id'].astype('object')\n",
    "data['is_agency'] = data['is_agency'].astype('object')\n",
    "data['is_nonresident'] = data['is_nonresident'].astype('object')\n",
    "data['offer_education_id'] = data['offer_education_id'].astype('object')\n",
    "data['city_id'] = data['city_id'].astype('object')\n",
    "\n",
    "data_describe = data.describe(include=[object])\n",
    "data_describe"
   ]
  },
  {
   "cell_type": "code",
   "execution_count": 285,
   "metadata": {},
   "outputs": [
    {
     "name": "stdout",
     "output_type": "stream",
     "text": [
      "Бинарные категориальные признаки:  ['is_agency', 'is_nonresident']\n",
      "Небинарные категориальные признаки:  ['custom_position', 'region_id', 'operating_schedule_id', 'offer_education_id', 'is_male', 'driving_license', 'company_id', 'city_id']\n"
     ]
    }
   ],
   "source": [
    "binary_columns    = [c for c in categorical_columns if data_describe[c]['unique'] == 2]\n",
    "nonbinary_columns = [c for c in categorical_columns if data_describe[c]['unique'] > 2]\n",
    "print('Бинарные категориальные признаки: ', binary_columns)\n",
    "print('Небинарные категориальные признаки: ', nonbinary_columns)"
   ]
  },
  {
   "cell_type": "code",
   "execution_count": 286,
   "metadata": {},
   "outputs": [
    {
     "data": {
      "text/html": [
       "<div>\n",
       "<style scoped>\n",
       "    .dataframe tbody tr th:only-of-type {\n",
       "        vertical-align: middle;\n",
       "    }\n",
       "\n",
       "    .dataframe tbody tr th {\n",
       "        vertical-align: top;\n",
       "    }\n",
       "\n",
       "    .dataframe thead th {\n",
       "        text-align: right;\n",
       "    }\n",
       "</style>\n",
       "<table border=\"1\" class=\"dataframe\">\n",
       "  <thead>\n",
       "    <tr style=\"text-align: right;\">\n",
       "      <th></th>\n",
       "      <th>age_from</th>\n",
       "      <th>age_to</th>\n",
       "      <th>offer_experience_year_count</th>\n",
       "    </tr>\n",
       "  </thead>\n",
       "  <tbody>\n",
       "    <tr>\n",
       "      <th>count</th>\n",
       "      <td>1.407400e+04</td>\n",
       "      <td>1.407400e+04</td>\n",
       "      <td>1.407400e+04</td>\n",
       "    </tr>\n",
       "    <tr>\n",
       "      <th>mean</th>\n",
       "      <td>1.259788e-17</td>\n",
       "      <td>-2.272954e-13</td>\n",
       "      <td>-5.494061e-14</td>\n",
       "    </tr>\n",
       "    <tr>\n",
       "      <th>std</th>\n",
       "      <td>1.000000e+00</td>\n",
       "      <td>1.000000e+00</td>\n",
       "      <td>1.000000e+00</td>\n",
       "    </tr>\n",
       "    <tr>\n",
       "      <th>min</th>\n",
       "      <td>-1.934553e+00</td>\n",
       "      <td>-5.832125e+00</td>\n",
       "      <td>-2.156495e+00</td>\n",
       "    </tr>\n",
       "    <tr>\n",
       "      <th>25%</th>\n",
       "      <td>-2.772563e-01</td>\n",
       "      <td>-2.277007e-13</td>\n",
       "      <td>-5.348843e-14</td>\n",
       "    </tr>\n",
       "    <tr>\n",
       "      <th>50%</th>\n",
       "      <td>-2.772563e-01</td>\n",
       "      <td>-2.277007e-13</td>\n",
       "      <td>-5.348843e-14</td>\n",
       "    </tr>\n",
       "    <tr>\n",
       "      <th>75%</th>\n",
       "      <td>-2.772563e-01</td>\n",
       "      <td>-2.277007e-13</td>\n",
       "      <td>-5.348843e-14</td>\n",
       "    </tr>\n",
       "    <tr>\n",
       "      <th>max</th>\n",
       "      <td>1.505274e+01</td>\n",
       "      <td>7.660935e+00</td>\n",
       "      <td>9.651862e+00</td>\n",
       "    </tr>\n",
       "  </tbody>\n",
       "</table>\n",
       "</div>"
      ],
      "text/plain": [
       "           age_from        age_to  offer_experience_year_count\n",
       "count  1.407400e+04  1.407400e+04                 1.407400e+04\n",
       "mean   1.259788e-17 -2.272954e-13                -5.494061e-14\n",
       "std    1.000000e+00  1.000000e+00                 1.000000e+00\n",
       "min   -1.934553e+00 -5.832125e+00                -2.156495e+00\n",
       "25%   -2.772563e-01 -2.277007e-13                -5.348843e-14\n",
       "50%   -2.772563e-01 -2.277007e-13                -5.348843e-14\n",
       "75%   -2.772563e-01 -2.277007e-13                -5.348843e-14\n",
       "max    1.505274e+01  7.660935e+00                 9.651862e+00"
      ]
     },
     "execution_count": 286,
     "metadata": {},
     "output_type": "execute_result"
    }
   ],
   "source": [
    "numerical_columns = ['age_from', 'age_to', 'offer_experience_year_count']\n",
    "\n",
    "# выделяем датафрейм с числовыми признаками и нормируем значения\n",
    "data_numerical = data[numerical_columns]\n",
    "data_numerical = (data_numerical - data_numerical.mean()) / data_numerical.std()\n",
    "data_numerical.describe()"
   ]
  },
  {
   "cell_type": "code",
   "execution_count": 287,
   "metadata": {},
   "outputs": [
    {
     "data": {
      "text/plain": [
       "5130"
      ]
     },
     "execution_count": 287,
     "metadata": {},
     "output_type": "execute_result"
    }
   ],
   "source": [
    "data['custom_position'].nunique()"
   ]
  },
  {
   "cell_type": "code",
   "execution_count": 288,
   "metadata": {},
   "outputs": [],
   "source": [
    "# для небинарных признаков создаём фиктивные колонки\n",
    "data_nonbinary = pd.get_dummies(data[nonbinary_columns])"
   ]
  },
  {
   "cell_type": "code",
   "execution_count": 289,
   "metadata": {},
   "outputs": [
    {
     "data": {
      "text/plain": [
       "(14074, 9601)"
      ]
     },
     "execution_count": 289,
     "metadata": {},
     "output_type": "execute_result"
    }
   ],
   "source": [
    "data_nonbinary.shape"
   ]
  },
  {
   "cell_type": "code",
   "execution_count": 292,
   "metadata": {},
   "outputs": [
    {
     "name": "stdout",
     "output_type": "stream",
     "text": [
      "Wall time: 187 ms\n"
     ]
    }
   ],
   "source": [
    "%%time\n",
    "X_test = pd.concat((data_numerical, data[binary_columns], data_nonbinary), axis=1)\n",
    "X_test = pd.DataFrame(X_test, dtype=float)"
   ]
  },
  {
   "cell_type": "code",
   "execution_count": 293,
   "metadata": {},
   "outputs": [
    {
     "data": {
      "text/plain": [
       "(14074, 9606)"
      ]
     },
     "execution_count": 293,
     "metadata": {},
     "output_type": "execute_result"
    }
   ],
   "source": [
    "X_test.shape"
   ]
  },
  {
   "cell_type": "code",
   "execution_count": 305,
   "metadata": {},
   "outputs": [
    {
     "data": {
      "text/plain": [
       "0"
      ]
     },
     "execution_count": 305,
     "metadata": {},
     "output_type": "execute_result"
    }
   ],
   "source": [
    "missing_cols = set( X.columns ) - set( X_test.columns )\n",
    "len(list(missing_cols))"
   ]
  },
  {
   "cell_type": "code",
   "execution_count": 296,
   "metadata": {},
   "outputs": [],
   "source": [
    "%%time\n",
    "for c in missing_cols:\n",
    "    X_test[c] = 0\n",
    "X_test = X_test[X.columns]"
   ]
  },
  {
   "cell_type": "code",
   "execution_count": null,
   "metadata": {},
   "outputs": [],
   "source": []
  },
  {
   "cell_type": "code",
   "execution_count": 300,
   "metadata": {},
   "outputs": [],
   "source": [
    "y_test = rf.predict(X_test)"
   ]
  },
  {
   "cell_type": "code",
   "execution_count": 307,
   "metadata": {},
   "outputs": [
    {
     "data": {
      "text/plain": [
       "array(['водитель', 'упаковщик', 'врач', 'повар', 'заправщик', 'почтальон',\n",
       "       'рабочий', 'аналитик', 'сварщик', 'столяр'], dtype=object)"
      ]
     },
     "execution_count": 307,
     "metadata": {},
     "output_type": "execute_result"
    }
   ],
   "source": [
    "y_test.shape\n",
    "y_test[:10]"
   ]
  },
  {
   "cell_type": "code",
   "execution_count": 318,
   "metadata": {},
   "outputs": [
    {
     "data": {
      "text/html": [
       "<div>\n",
       "<style scoped>\n",
       "    .dataframe tbody tr th:only-of-type {\n",
       "        vertical-align: middle;\n",
       "    }\n",
       "\n",
       "    .dataframe tbody tr th {\n",
       "        vertical-align: top;\n",
       "    }\n",
       "\n",
       "    .dataframe thead th {\n",
       "        text-align: right;\n",
       "    }\n",
       "</style>\n",
       "<table border=\"1\" class=\"dataframe\">\n",
       "  <thead>\n",
       "    <tr style=\"text-align: right;\">\n",
       "      <th></th>\n",
       "      <th>id</th>\n",
       "      <th>salary_from</th>\n",
       "      <th>salary_to</th>\n",
       "      <th>target_prof</th>\n",
       "    </tr>\n",
       "  </thead>\n",
       "  <tbody>\n",
       "    <tr>\n",
       "      <th>0</th>\n",
       "      <td>286961</td>\n",
       "      <td>0</td>\n",
       "      <td>0</td>\n",
       "      <td>водитель</td>\n",
       "    </tr>\n",
       "    <tr>\n",
       "      <th>1</th>\n",
       "      <td>423834</td>\n",
       "      <td>0</td>\n",
       "      <td>0</td>\n",
       "      <td>упаковщик</td>\n",
       "    </tr>\n",
       "    <tr>\n",
       "      <th>2</th>\n",
       "      <td>336464</td>\n",
       "      <td>0</td>\n",
       "      <td>0</td>\n",
       "      <td>врач</td>\n",
       "    </tr>\n",
       "    <tr>\n",
       "      <th>3</th>\n",
       "      <td>287634</td>\n",
       "      <td>0</td>\n",
       "      <td>0</td>\n",
       "      <td>повар</td>\n",
       "    </tr>\n",
       "    <tr>\n",
       "      <th>4</th>\n",
       "      <td>174883</td>\n",
       "      <td>0</td>\n",
       "      <td>0</td>\n",
       "      <td>заправщик</td>\n",
       "    </tr>\n",
       "    <tr>\n",
       "      <th>...</th>\n",
       "      <td>...</td>\n",
       "      <td>...</td>\n",
       "      <td>...</td>\n",
       "      <td>...</td>\n",
       "    </tr>\n",
       "    <tr>\n",
       "      <th>14069</th>\n",
       "      <td>290923</td>\n",
       "      <td>0</td>\n",
       "      <td>0</td>\n",
       "      <td>рабочий</td>\n",
       "    </tr>\n",
       "    <tr>\n",
       "      <th>14070</th>\n",
       "      <td>175080</td>\n",
       "      <td>0</td>\n",
       "      <td>0</td>\n",
       "      <td>упаковщик</td>\n",
       "    </tr>\n",
       "    <tr>\n",
       "      <th>14071</th>\n",
       "      <td>451820</td>\n",
       "      <td>0</td>\n",
       "      <td>0</td>\n",
       "      <td>инженер</td>\n",
       "    </tr>\n",
       "    <tr>\n",
       "      <th>14072</th>\n",
       "      <td>257668</td>\n",
       "      <td>0</td>\n",
       "      <td>0</td>\n",
       "      <td>ассистент</td>\n",
       "    </tr>\n",
       "    <tr>\n",
       "      <th>14073</th>\n",
       "      <td>213393</td>\n",
       "      <td>0</td>\n",
       "      <td>0</td>\n",
       "      <td>мастер</td>\n",
       "    </tr>\n",
       "  </tbody>\n",
       "</table>\n",
       "<p>14074 rows × 4 columns</p>\n",
       "</div>"
      ],
      "text/plain": [
       "           id  salary_from  salary_to target_prof\n",
       "0      286961            0          0    водитель\n",
       "1      423834            0          0   упаковщик\n",
       "2      336464            0          0        врач\n",
       "3      287634            0          0       повар\n",
       "4      174883            0          0   заправщик\n",
       "...       ...          ...        ...         ...\n",
       "14069  290923            0          0     рабочий\n",
       "14070  175080            0          0   упаковщик\n",
       "14071  451820            0          0     инженер\n",
       "14072  257668            0          0   ассистент\n",
       "14073  213393            0          0      мастер\n",
       "\n",
       "[14074 rows x 4 columns]"
      ]
     },
     "execution_count": 318,
     "metadata": {},
     "output_type": "execute_result"
    }
   ],
   "source": [
    "res_columns = ['id','salary_from','salary_to','target_prof']\n",
    "zero_list =  [0] * len(y_test)\n",
    "\n",
    "df_res = pd.DataFrame(list(zip(data['id'], zero_list, zero_list, y_test)), \n",
    "                      columns=res_columns)\n",
    "df_res"
   ]
  },
  {
   "cell_type": "code",
   "execution_count": 319,
   "metadata": {},
   "outputs": [],
   "source": [
    "df_res.to_csv('submit.csv', index=False)"
   ]
  },
  {
   "cell_type": "markdown",
   "metadata": {},
   "source": [
    "## Разделение выборок"
   ]
  },
  {
   "cell_type": "code",
   "execution_count": 72,
   "metadata": {},
   "outputs": [
    {
     "name": "stdout",
     "output_type": "stream",
     "text": [
      "Wall time: 21.1 s\n"
     ]
    }
   ],
   "source": [
    "# для классификации\n",
    "%%time\n",
    "X_train, X_test, y_train, y_test = train_test_split(X, y, test_size = 0.1, random_state = 11)"
   ]
  },
  {
   "cell_type": "code",
   "execution_count": null,
   "metadata": {},
   "outputs": [],
   "source": [
    "# для регрессии"
   ]
  },
  {
   "cell_type": "code",
   "execution_count": 73,
   "metadata": {},
   "outputs": [],
   "source": [
    "del X\n",
    "gc.collect()"
   ]
  },
  {
   "cell_type": "code",
   "execution_count": 75,
   "metadata": {},
   "outputs": [
    {
     "name": "stdout",
     "output_type": "stream",
     "text": [
      "39044 9762\n"
     ]
    }
   ],
   "source": [
    "N_train, _ = X_train.shape \n",
    "N_test,  _ = X_test.shape \n",
    "print(N_train, N_test)"
   ]
  },
  {
   "cell_type": "code",
   "execution_count": 75,
   "metadata": {},
   "outputs": [],
   "source": [
    "from sklearn.ensemble import GradientBoostingClassifier\n",
    "\n",
    "clf = GradientBoostingClassifier(n_estimators=100, random_state=11)"
   ]
  },
  {
   "cell_type": "code",
   "execution_count": 76,
   "metadata": {},
   "outputs": [
    {
     "ename": "KeyboardInterrupt",
     "evalue": "",
     "output_type": "error",
     "traceback": [
      "\u001b[1;31m---------------------------------------------------------------------------\u001b[0m",
      "\u001b[1;31mKeyboardInterrupt\u001b[0m                         Traceback (most recent call last)",
      "\u001b[1;32m<timed eval>\u001b[0m in \u001b[0;36m<module>\u001b[1;34m\u001b[0m\n",
      "\u001b[1;32mC:\\ProgramData\\Anaconda3\\lib\\site-packages\\sklearn\\ensemble\\_gb.py\u001b[0m in \u001b[0;36mfit\u001b[1;34m(self, X, y, sample_weight, monitor)\u001b[0m\n\u001b[0;32m    496\u001b[0m \u001b[1;33m\u001b[0m\u001b[0m\n\u001b[0;32m    497\u001b[0m         \u001b[1;31m# fit the boosting stages\u001b[0m\u001b[1;33m\u001b[0m\u001b[1;33m\u001b[0m\u001b[1;33m\u001b[0m\u001b[0m\n\u001b[1;32m--> 498\u001b[1;33m         n_stages = self._fit_stages(\n\u001b[0m\u001b[0;32m    499\u001b[0m             \u001b[0mX\u001b[0m\u001b[1;33m,\u001b[0m \u001b[0my\u001b[0m\u001b[1;33m,\u001b[0m \u001b[0mraw_predictions\u001b[0m\u001b[1;33m,\u001b[0m \u001b[0msample_weight\u001b[0m\u001b[1;33m,\u001b[0m \u001b[0mself\u001b[0m\u001b[1;33m.\u001b[0m\u001b[0m_rng\u001b[0m\u001b[1;33m,\u001b[0m \u001b[0mX_val\u001b[0m\u001b[1;33m,\u001b[0m \u001b[0my_val\u001b[0m\u001b[1;33m,\u001b[0m\u001b[1;33m\u001b[0m\u001b[1;33m\u001b[0m\u001b[0m\n\u001b[0;32m    500\u001b[0m             sample_weight_val, begin_at_stage, monitor, X_idx_sorted)\n",
      "\u001b[1;32mC:\\ProgramData\\Anaconda3\\lib\\site-packages\\sklearn\\ensemble\\_gb.py\u001b[0m in \u001b[0;36m_fit_stages\u001b[1;34m(self, X, y, raw_predictions, sample_weight, random_state, X_val, y_val, sample_weight_val, begin_at_stage, monitor, X_idx_sorted)\u001b[0m\n\u001b[0;32m    553\u001b[0m \u001b[1;33m\u001b[0m\u001b[0m\n\u001b[0;32m    554\u001b[0m             \u001b[1;31m# fit next stage of trees\u001b[0m\u001b[1;33m\u001b[0m\u001b[1;33m\u001b[0m\u001b[1;33m\u001b[0m\u001b[0m\n\u001b[1;32m--> 555\u001b[1;33m             raw_predictions = self._fit_stage(\n\u001b[0m\u001b[0;32m    556\u001b[0m                 \u001b[0mi\u001b[0m\u001b[1;33m,\u001b[0m \u001b[0mX\u001b[0m\u001b[1;33m,\u001b[0m \u001b[0my\u001b[0m\u001b[1;33m,\u001b[0m \u001b[0mraw_predictions\u001b[0m\u001b[1;33m,\u001b[0m \u001b[0msample_weight\u001b[0m\u001b[1;33m,\u001b[0m \u001b[0msample_mask\u001b[0m\u001b[1;33m,\u001b[0m\u001b[1;33m\u001b[0m\u001b[1;33m\u001b[0m\u001b[0m\n\u001b[0;32m    557\u001b[0m                 random_state, X_idx_sorted, X_csc, X_csr)\n",
      "\u001b[1;32mC:\\ProgramData\\Anaconda3\\lib\\site-packages\\sklearn\\ensemble\\_gb.py\u001b[0m in \u001b[0;36m_fit_stage\u001b[1;34m(self, i, X, y, raw_predictions, sample_weight, sample_mask, random_state, X_idx_sorted, X_csc, X_csr)\u001b[0m\n\u001b[0;32m    209\u001b[0m \u001b[1;33m\u001b[0m\u001b[0m\n\u001b[0;32m    210\u001b[0m             \u001b[0mX\u001b[0m \u001b[1;33m=\u001b[0m \u001b[0mX_csr\u001b[0m \u001b[1;32mif\u001b[0m \u001b[0mX_csr\u001b[0m \u001b[1;32mis\u001b[0m \u001b[1;32mnot\u001b[0m \u001b[1;32mNone\u001b[0m \u001b[1;32melse\u001b[0m \u001b[0mX\u001b[0m\u001b[1;33m\u001b[0m\u001b[1;33m\u001b[0m\u001b[0m\n\u001b[1;32m--> 211\u001b[1;33m             tree.fit(X, residual, sample_weight=sample_weight,\n\u001b[0m\u001b[0;32m    212\u001b[0m                      check_input=False, X_idx_sorted=X_idx_sorted)\n\u001b[0;32m    213\u001b[0m \u001b[1;33m\u001b[0m\u001b[0m\n",
      "\u001b[1;32mC:\\ProgramData\\Anaconda3\\lib\\site-packages\\sklearn\\tree\\_classes.py\u001b[0m in \u001b[0;36mfit\u001b[1;34m(self, X, y, sample_weight, check_input, X_idx_sorted)\u001b[0m\n\u001b[0;32m   1240\u001b[0m         \"\"\"\n\u001b[0;32m   1241\u001b[0m \u001b[1;33m\u001b[0m\u001b[0m\n\u001b[1;32m-> 1242\u001b[1;33m         super().fit(\n\u001b[0m\u001b[0;32m   1243\u001b[0m             \u001b[0mX\u001b[0m\u001b[1;33m,\u001b[0m \u001b[0my\u001b[0m\u001b[1;33m,\u001b[0m\u001b[1;33m\u001b[0m\u001b[1;33m\u001b[0m\u001b[0m\n\u001b[0;32m   1244\u001b[0m             \u001b[0msample_weight\u001b[0m\u001b[1;33m=\u001b[0m\u001b[0msample_weight\u001b[0m\u001b[1;33m,\u001b[0m\u001b[1;33m\u001b[0m\u001b[1;33m\u001b[0m\u001b[0m\n",
      "\u001b[1;32mC:\\ProgramData\\Anaconda3\\lib\\site-packages\\sklearn\\tree\\_classes.py\u001b[0m in \u001b[0;36mfit\u001b[1;34m(self, X, y, sample_weight, check_input, X_idx_sorted)\u001b[0m\n\u001b[0;32m    373\u001b[0m                                            min_impurity_split)\n\u001b[0;32m    374\u001b[0m \u001b[1;33m\u001b[0m\u001b[0m\n\u001b[1;32m--> 375\u001b[1;33m         \u001b[0mbuilder\u001b[0m\u001b[1;33m.\u001b[0m\u001b[0mbuild\u001b[0m\u001b[1;33m(\u001b[0m\u001b[0mself\u001b[0m\u001b[1;33m.\u001b[0m\u001b[0mtree_\u001b[0m\u001b[1;33m,\u001b[0m \u001b[0mX\u001b[0m\u001b[1;33m,\u001b[0m \u001b[0my\u001b[0m\u001b[1;33m,\u001b[0m \u001b[0msample_weight\u001b[0m\u001b[1;33m,\u001b[0m \u001b[0mX_idx_sorted\u001b[0m\u001b[1;33m)\u001b[0m\u001b[1;33m\u001b[0m\u001b[1;33m\u001b[0m\u001b[0m\n\u001b[0m\u001b[0;32m    376\u001b[0m \u001b[1;33m\u001b[0m\u001b[0m\n\u001b[0;32m    377\u001b[0m         \u001b[1;32mif\u001b[0m \u001b[0mself\u001b[0m\u001b[1;33m.\u001b[0m\u001b[0mn_outputs_\u001b[0m \u001b[1;33m==\u001b[0m \u001b[1;36m1\u001b[0m \u001b[1;32mand\u001b[0m \u001b[0mis_classifier\u001b[0m\u001b[1;33m(\u001b[0m\u001b[0mself\u001b[0m\u001b[1;33m)\u001b[0m\u001b[1;33m:\u001b[0m\u001b[1;33m\u001b[0m\u001b[1;33m\u001b[0m\u001b[0m\n",
      "\u001b[1;31mKeyboardInterrupt\u001b[0m: "
     ]
    }
   ],
   "source": [
    "%%time\n",
    "clf.fit(X_train, y_train)"
   ]
  },
  {
   "cell_type": "code",
   "execution_count": null,
   "metadata": {},
   "outputs": [],
   "source": []
  },
  {
   "cell_type": "code",
   "execution_count": 100,
   "metadata": {},
   "outputs": [
    {
     "data": {
      "text/plain": [
       "KNeighborsClassifier()"
      ]
     },
     "execution_count": 100,
     "metadata": {},
     "output_type": "execute_result"
    }
   ],
   "source": [
    "from sklearn.neighbors import KNeighborsClassifier\n",
    "\n",
    "knn = KNeighborsClassifier()\n",
    "knn.fit(X_train, y_train)"
   ]
  },
  {
   "cell_type": "code",
   "execution_count": 101,
   "metadata": {},
   "outputs": [
    {
     "name": "stdout",
     "output_type": "stream",
     "text": [
      "0.3167661866292003 0.47650594181122796\n"
     ]
    }
   ],
   "source": [
    "y_train_predict = knn.predict(X_train)\n",
    "y_test_predict = knn.predict(X_test)\n",
    "\n",
    "err_train = np.mean(y_train != y_train_predict)\n",
    "err_test  = np.mean(y_test  != y_test_predict)\n",
    "\n",
    "print(err_train, err_test)"
   ]
  },
  {
   "cell_type": "code",
   "execution_count": 77,
   "metadata": {},
   "outputs": [
    {
     "ename": "KeyboardInterrupt",
     "evalue": "",
     "output_type": "error",
     "traceback": [
      "\u001b[1;31m---------------------------------------------------------------------------\u001b[0m",
      "\u001b[1;31mKeyboardInterrupt\u001b[0m                         Traceback (most recent call last)",
      "\u001b[1;32m<timed exec>\u001b[0m in \u001b[0;36m<module>\u001b[1;34m\u001b[0m\n",
      "\u001b[1;32mC:\\ProgramData\\Anaconda3\\lib\\site-packages\\sklearn\\ensemble\\_forest.py\u001b[0m in \u001b[0;36mfit\u001b[1;34m(self, X, y, sample_weight)\u001b[0m\n\u001b[0;32m    384\u001b[0m             \u001b[1;31m# parallel_backend contexts set at a higher level,\u001b[0m\u001b[1;33m\u001b[0m\u001b[1;33m\u001b[0m\u001b[1;33m\u001b[0m\u001b[0m\n\u001b[0;32m    385\u001b[0m             \u001b[1;31m# since correctness does not rely on using threads.\u001b[0m\u001b[1;33m\u001b[0m\u001b[1;33m\u001b[0m\u001b[1;33m\u001b[0m\u001b[0m\n\u001b[1;32m--> 386\u001b[1;33m             trees = Parallel(n_jobs=self.n_jobs, verbose=self.verbose,\n\u001b[0m\u001b[0;32m    387\u001b[0m                              \u001b[1;33m**\u001b[0m\u001b[0m_joblib_parallel_args\u001b[0m\u001b[1;33m(\u001b[0m\u001b[0mprefer\u001b[0m\u001b[1;33m=\u001b[0m\u001b[1;34m'threads'\u001b[0m\u001b[1;33m)\u001b[0m\u001b[1;33m)\u001b[0m\u001b[1;33m(\u001b[0m\u001b[1;33m\u001b[0m\u001b[1;33m\u001b[0m\u001b[0m\n\u001b[0;32m    388\u001b[0m                 delayed(_parallel_build_trees)(\n",
      "\u001b[1;32mC:\\ProgramData\\Anaconda3\\lib\\site-packages\\joblib\\parallel.py\u001b[0m in \u001b[0;36m__call__\u001b[1;34m(self, iterable)\u001b[0m\n\u001b[0;32m   1049\u001b[0m                 \u001b[0mself\u001b[0m\u001b[1;33m.\u001b[0m\u001b[0m_iterating\u001b[0m \u001b[1;33m=\u001b[0m \u001b[0mself\u001b[0m\u001b[1;33m.\u001b[0m\u001b[0m_original_iterator\u001b[0m \u001b[1;32mis\u001b[0m \u001b[1;32mnot\u001b[0m \u001b[1;32mNone\u001b[0m\u001b[1;33m\u001b[0m\u001b[1;33m\u001b[0m\u001b[0m\n\u001b[0;32m   1050\u001b[0m \u001b[1;33m\u001b[0m\u001b[0m\n\u001b[1;32m-> 1051\u001b[1;33m             \u001b[1;32mwhile\u001b[0m \u001b[0mself\u001b[0m\u001b[1;33m.\u001b[0m\u001b[0mdispatch_one_batch\u001b[0m\u001b[1;33m(\u001b[0m\u001b[0miterator\u001b[0m\u001b[1;33m)\u001b[0m\u001b[1;33m:\u001b[0m\u001b[1;33m\u001b[0m\u001b[1;33m\u001b[0m\u001b[0m\n\u001b[0m\u001b[0;32m   1052\u001b[0m                 \u001b[1;32mpass\u001b[0m\u001b[1;33m\u001b[0m\u001b[1;33m\u001b[0m\u001b[0m\n\u001b[0;32m   1053\u001b[0m \u001b[1;33m\u001b[0m\u001b[0m\n",
      "\u001b[1;32mC:\\ProgramData\\Anaconda3\\lib\\site-packages\\joblib\\parallel.py\u001b[0m in \u001b[0;36mdispatch_one_batch\u001b[1;34m(self, iterator)\u001b[0m\n\u001b[0;32m    864\u001b[0m                 \u001b[1;32mreturn\u001b[0m \u001b[1;32mFalse\u001b[0m\u001b[1;33m\u001b[0m\u001b[1;33m\u001b[0m\u001b[0m\n\u001b[0;32m    865\u001b[0m             \u001b[1;32melse\u001b[0m\u001b[1;33m:\u001b[0m\u001b[1;33m\u001b[0m\u001b[1;33m\u001b[0m\u001b[0m\n\u001b[1;32m--> 866\u001b[1;33m                 \u001b[0mself\u001b[0m\u001b[1;33m.\u001b[0m\u001b[0m_dispatch\u001b[0m\u001b[1;33m(\u001b[0m\u001b[0mtasks\u001b[0m\u001b[1;33m)\u001b[0m\u001b[1;33m\u001b[0m\u001b[1;33m\u001b[0m\u001b[0m\n\u001b[0m\u001b[0;32m    867\u001b[0m                 \u001b[1;32mreturn\u001b[0m \u001b[1;32mTrue\u001b[0m\u001b[1;33m\u001b[0m\u001b[1;33m\u001b[0m\u001b[0m\n\u001b[0;32m    868\u001b[0m \u001b[1;33m\u001b[0m\u001b[0m\n",
      "\u001b[1;32mC:\\ProgramData\\Anaconda3\\lib\\site-packages\\joblib\\parallel.py\u001b[0m in \u001b[0;36m_dispatch\u001b[1;34m(self, batch)\u001b[0m\n\u001b[0;32m    782\u001b[0m         \u001b[1;32mwith\u001b[0m \u001b[0mself\u001b[0m\u001b[1;33m.\u001b[0m\u001b[0m_lock\u001b[0m\u001b[1;33m:\u001b[0m\u001b[1;33m\u001b[0m\u001b[1;33m\u001b[0m\u001b[0m\n\u001b[0;32m    783\u001b[0m             \u001b[0mjob_idx\u001b[0m \u001b[1;33m=\u001b[0m \u001b[0mlen\u001b[0m\u001b[1;33m(\u001b[0m\u001b[0mself\u001b[0m\u001b[1;33m.\u001b[0m\u001b[0m_jobs\u001b[0m\u001b[1;33m)\u001b[0m\u001b[1;33m\u001b[0m\u001b[1;33m\u001b[0m\u001b[0m\n\u001b[1;32m--> 784\u001b[1;33m             \u001b[0mjob\u001b[0m \u001b[1;33m=\u001b[0m \u001b[0mself\u001b[0m\u001b[1;33m.\u001b[0m\u001b[0m_backend\u001b[0m\u001b[1;33m.\u001b[0m\u001b[0mapply_async\u001b[0m\u001b[1;33m(\u001b[0m\u001b[0mbatch\u001b[0m\u001b[1;33m,\u001b[0m \u001b[0mcallback\u001b[0m\u001b[1;33m=\u001b[0m\u001b[0mcb\u001b[0m\u001b[1;33m)\u001b[0m\u001b[1;33m\u001b[0m\u001b[1;33m\u001b[0m\u001b[0m\n\u001b[0m\u001b[0;32m    785\u001b[0m             \u001b[1;31m# A job can complete so quickly than its callback is\u001b[0m\u001b[1;33m\u001b[0m\u001b[1;33m\u001b[0m\u001b[1;33m\u001b[0m\u001b[0m\n\u001b[0;32m    786\u001b[0m             \u001b[1;31m# called before we get here, causing self._jobs to\u001b[0m\u001b[1;33m\u001b[0m\u001b[1;33m\u001b[0m\u001b[1;33m\u001b[0m\u001b[0m\n",
      "\u001b[1;32mC:\\ProgramData\\Anaconda3\\lib\\site-packages\\joblib\\_parallel_backends.py\u001b[0m in \u001b[0;36mapply_async\u001b[1;34m(self, func, callback)\u001b[0m\n\u001b[0;32m    206\u001b[0m     \u001b[1;32mdef\u001b[0m \u001b[0mapply_async\u001b[0m\u001b[1;33m(\u001b[0m\u001b[0mself\u001b[0m\u001b[1;33m,\u001b[0m \u001b[0mfunc\u001b[0m\u001b[1;33m,\u001b[0m \u001b[0mcallback\u001b[0m\u001b[1;33m=\u001b[0m\u001b[1;32mNone\u001b[0m\u001b[1;33m)\u001b[0m\u001b[1;33m:\u001b[0m\u001b[1;33m\u001b[0m\u001b[1;33m\u001b[0m\u001b[0m\n\u001b[0;32m    207\u001b[0m         \u001b[1;34m\"\"\"Schedule a func to be run\"\"\"\u001b[0m\u001b[1;33m\u001b[0m\u001b[1;33m\u001b[0m\u001b[0m\n\u001b[1;32m--> 208\u001b[1;33m         \u001b[0mresult\u001b[0m \u001b[1;33m=\u001b[0m \u001b[0mImmediateResult\u001b[0m\u001b[1;33m(\u001b[0m\u001b[0mfunc\u001b[0m\u001b[1;33m)\u001b[0m\u001b[1;33m\u001b[0m\u001b[1;33m\u001b[0m\u001b[0m\n\u001b[0m\u001b[0;32m    209\u001b[0m         \u001b[1;32mif\u001b[0m \u001b[0mcallback\u001b[0m\u001b[1;33m:\u001b[0m\u001b[1;33m\u001b[0m\u001b[1;33m\u001b[0m\u001b[0m\n\u001b[0;32m    210\u001b[0m             \u001b[0mcallback\u001b[0m\u001b[1;33m(\u001b[0m\u001b[0mresult\u001b[0m\u001b[1;33m)\u001b[0m\u001b[1;33m\u001b[0m\u001b[1;33m\u001b[0m\u001b[0m\n",
      "\u001b[1;32mC:\\ProgramData\\Anaconda3\\lib\\site-packages\\joblib\\_parallel_backends.py\u001b[0m in \u001b[0;36m__init__\u001b[1;34m(self, batch)\u001b[0m\n\u001b[0;32m    570\u001b[0m         \u001b[1;31m# Don't delay the application, to avoid keeping the input\u001b[0m\u001b[1;33m\u001b[0m\u001b[1;33m\u001b[0m\u001b[1;33m\u001b[0m\u001b[0m\n\u001b[0;32m    571\u001b[0m         \u001b[1;31m# arguments in memory\u001b[0m\u001b[1;33m\u001b[0m\u001b[1;33m\u001b[0m\u001b[1;33m\u001b[0m\u001b[0m\n\u001b[1;32m--> 572\u001b[1;33m         \u001b[0mself\u001b[0m\u001b[1;33m.\u001b[0m\u001b[0mresults\u001b[0m \u001b[1;33m=\u001b[0m \u001b[0mbatch\u001b[0m\u001b[1;33m(\u001b[0m\u001b[1;33m)\u001b[0m\u001b[1;33m\u001b[0m\u001b[1;33m\u001b[0m\u001b[0m\n\u001b[0m\u001b[0;32m    573\u001b[0m \u001b[1;33m\u001b[0m\u001b[0m\n\u001b[0;32m    574\u001b[0m     \u001b[1;32mdef\u001b[0m \u001b[0mget\u001b[0m\u001b[1;33m(\u001b[0m\u001b[0mself\u001b[0m\u001b[1;33m)\u001b[0m\u001b[1;33m:\u001b[0m\u001b[1;33m\u001b[0m\u001b[1;33m\u001b[0m\u001b[0m\n",
      "\u001b[1;32mC:\\ProgramData\\Anaconda3\\lib\\site-packages\\joblib\\parallel.py\u001b[0m in \u001b[0;36m__call__\u001b[1;34m(self)\u001b[0m\n\u001b[0;32m    260\u001b[0m         \u001b[1;31m# change the default number of processes to -1\u001b[0m\u001b[1;33m\u001b[0m\u001b[1;33m\u001b[0m\u001b[1;33m\u001b[0m\u001b[0m\n\u001b[0;32m    261\u001b[0m         \u001b[1;32mwith\u001b[0m \u001b[0mparallel_backend\u001b[0m\u001b[1;33m(\u001b[0m\u001b[0mself\u001b[0m\u001b[1;33m.\u001b[0m\u001b[0m_backend\u001b[0m\u001b[1;33m,\u001b[0m \u001b[0mn_jobs\u001b[0m\u001b[1;33m=\u001b[0m\u001b[0mself\u001b[0m\u001b[1;33m.\u001b[0m\u001b[0m_n_jobs\u001b[0m\u001b[1;33m)\u001b[0m\u001b[1;33m:\u001b[0m\u001b[1;33m\u001b[0m\u001b[1;33m\u001b[0m\u001b[0m\n\u001b[1;32m--> 262\u001b[1;33m             return [func(*args, **kwargs)\n\u001b[0m\u001b[0;32m    263\u001b[0m                     for func, args, kwargs in self.items]\n\u001b[0;32m    264\u001b[0m \u001b[1;33m\u001b[0m\u001b[0m\n",
      "\u001b[1;32mC:\\ProgramData\\Anaconda3\\lib\\site-packages\\joblib\\parallel.py\u001b[0m in \u001b[0;36m<listcomp>\u001b[1;34m(.0)\u001b[0m\n\u001b[0;32m    260\u001b[0m         \u001b[1;31m# change the default number of processes to -1\u001b[0m\u001b[1;33m\u001b[0m\u001b[1;33m\u001b[0m\u001b[1;33m\u001b[0m\u001b[0m\n\u001b[0;32m    261\u001b[0m         \u001b[1;32mwith\u001b[0m \u001b[0mparallel_backend\u001b[0m\u001b[1;33m(\u001b[0m\u001b[0mself\u001b[0m\u001b[1;33m.\u001b[0m\u001b[0m_backend\u001b[0m\u001b[1;33m,\u001b[0m \u001b[0mn_jobs\u001b[0m\u001b[1;33m=\u001b[0m\u001b[0mself\u001b[0m\u001b[1;33m.\u001b[0m\u001b[0m_n_jobs\u001b[0m\u001b[1;33m)\u001b[0m\u001b[1;33m:\u001b[0m\u001b[1;33m\u001b[0m\u001b[1;33m\u001b[0m\u001b[0m\n\u001b[1;32m--> 262\u001b[1;33m             return [func(*args, **kwargs)\n\u001b[0m\u001b[0;32m    263\u001b[0m                     for func, args, kwargs in self.items]\n\u001b[0;32m    264\u001b[0m \u001b[1;33m\u001b[0m\u001b[0m\n",
      "\u001b[1;32mC:\\ProgramData\\Anaconda3\\lib\\site-packages\\sklearn\\ensemble\\_forest.py\u001b[0m in \u001b[0;36m_parallel_build_trees\u001b[1;34m(tree, forest, X, y, sample_weight, tree_idx, n_trees, verbose, class_weight, n_samples_bootstrap)\u001b[0m\n\u001b[0;32m    166\u001b[0m                                                         indices=indices)\n\u001b[0;32m    167\u001b[0m \u001b[1;33m\u001b[0m\u001b[0m\n\u001b[1;32m--> 168\u001b[1;33m         \u001b[0mtree\u001b[0m\u001b[1;33m.\u001b[0m\u001b[0mfit\u001b[0m\u001b[1;33m(\u001b[0m\u001b[0mX\u001b[0m\u001b[1;33m,\u001b[0m \u001b[0my\u001b[0m\u001b[1;33m,\u001b[0m \u001b[0msample_weight\u001b[0m\u001b[1;33m=\u001b[0m\u001b[0mcurr_sample_weight\u001b[0m\u001b[1;33m,\u001b[0m \u001b[0mcheck_input\u001b[0m\u001b[1;33m=\u001b[0m\u001b[1;32mFalse\u001b[0m\u001b[1;33m)\u001b[0m\u001b[1;33m\u001b[0m\u001b[1;33m\u001b[0m\u001b[0m\n\u001b[0m\u001b[0;32m    169\u001b[0m     \u001b[1;32melse\u001b[0m\u001b[1;33m:\u001b[0m\u001b[1;33m\u001b[0m\u001b[1;33m\u001b[0m\u001b[0m\n\u001b[0;32m    170\u001b[0m         \u001b[0mtree\u001b[0m\u001b[1;33m.\u001b[0m\u001b[0mfit\u001b[0m\u001b[1;33m(\u001b[0m\u001b[0mX\u001b[0m\u001b[1;33m,\u001b[0m \u001b[0my\u001b[0m\u001b[1;33m,\u001b[0m \u001b[0msample_weight\u001b[0m\u001b[1;33m=\u001b[0m\u001b[0msample_weight\u001b[0m\u001b[1;33m,\u001b[0m \u001b[0mcheck_input\u001b[0m\u001b[1;33m=\u001b[0m\u001b[1;32mFalse\u001b[0m\u001b[1;33m)\u001b[0m\u001b[1;33m\u001b[0m\u001b[1;33m\u001b[0m\u001b[0m\n",
      "\u001b[1;32mC:\\ProgramData\\Anaconda3\\lib\\site-packages\\sklearn\\tree\\_classes.py\u001b[0m in \u001b[0;36mfit\u001b[1;34m(self, X, y, sample_weight, check_input, X_idx_sorted)\u001b[0m\n\u001b[0;32m    888\u001b[0m         \"\"\"\n\u001b[0;32m    889\u001b[0m \u001b[1;33m\u001b[0m\u001b[0m\n\u001b[1;32m--> 890\u001b[1;33m         super().fit(\n\u001b[0m\u001b[0;32m    891\u001b[0m             \u001b[0mX\u001b[0m\u001b[1;33m,\u001b[0m \u001b[0my\u001b[0m\u001b[1;33m,\u001b[0m\u001b[1;33m\u001b[0m\u001b[1;33m\u001b[0m\u001b[0m\n\u001b[0;32m    892\u001b[0m             \u001b[0msample_weight\u001b[0m\u001b[1;33m=\u001b[0m\u001b[0msample_weight\u001b[0m\u001b[1;33m,\u001b[0m\u001b[1;33m\u001b[0m\u001b[1;33m\u001b[0m\u001b[0m\n",
      "\u001b[1;32mC:\\ProgramData\\Anaconda3\\lib\\site-packages\\sklearn\\tree\\_classes.py\u001b[0m in \u001b[0;36mfit\u001b[1;34m(self, X, y, sample_weight, check_input, X_idx_sorted)\u001b[0m\n\u001b[0;32m    373\u001b[0m                                            min_impurity_split)\n\u001b[0;32m    374\u001b[0m \u001b[1;33m\u001b[0m\u001b[0m\n\u001b[1;32m--> 375\u001b[1;33m         \u001b[0mbuilder\u001b[0m\u001b[1;33m.\u001b[0m\u001b[0mbuild\u001b[0m\u001b[1;33m(\u001b[0m\u001b[0mself\u001b[0m\u001b[1;33m.\u001b[0m\u001b[0mtree_\u001b[0m\u001b[1;33m,\u001b[0m \u001b[0mX\u001b[0m\u001b[1;33m,\u001b[0m \u001b[0my\u001b[0m\u001b[1;33m,\u001b[0m \u001b[0msample_weight\u001b[0m\u001b[1;33m,\u001b[0m \u001b[0mX_idx_sorted\u001b[0m\u001b[1;33m)\u001b[0m\u001b[1;33m\u001b[0m\u001b[1;33m\u001b[0m\u001b[0m\n\u001b[0m\u001b[0;32m    376\u001b[0m \u001b[1;33m\u001b[0m\u001b[0m\n\u001b[0;32m    377\u001b[0m         \u001b[1;32mif\u001b[0m \u001b[0mself\u001b[0m\u001b[1;33m.\u001b[0m\u001b[0mn_outputs_\u001b[0m \u001b[1;33m==\u001b[0m \u001b[1;36m1\u001b[0m \u001b[1;32mand\u001b[0m \u001b[0mis_classifier\u001b[0m\u001b[1;33m(\u001b[0m\u001b[0mself\u001b[0m\u001b[1;33m)\u001b[0m\u001b[1;33m:\u001b[0m\u001b[1;33m\u001b[0m\u001b[1;33m\u001b[0m\u001b[0m\n",
      "\u001b[1;31mKeyboardInterrupt\u001b[0m: "
     ]
    }
   ],
   "source": [
    "%%time\n",
    "from sklearn import ensemble\n",
    "rf = ensemble.RandomForestClassifier(n_estimators=100, random_state=11)\n",
    "rf.fit(X_train, y_train)"
   ]
  },
  {
   "cell_type": "code",
   "execution_count": 77,
   "metadata": {},
   "outputs": [
    {
     "name": "stdout",
     "output_type": "stream",
     "text": [
      "Wall time: 40.3 s\n"
     ]
    }
   ],
   "source": [
    "%%time\n",
    "y_train_predict = rf.predict(X_train)\n",
    "y_test_predict = rf.predict(X_test)\n"
   ]
  },
  {
   "cell_type": "code",
   "execution_count": 79,
   "metadata": {},
   "outputs": [
    {
     "name": "stdout",
     "output_type": "stream",
     "text": [
      "0.7340438129070456 0.4893812095334472\n"
     ]
    }
   ],
   "source": [
    "acc = accuracy_score(y_test, y_test_predict)\n",
    "f1 = f1_score(y_test, y_test_predict, average = 'macro')\n",
    "print(acc, f1)"
   ]
  },
  {
   "cell_type": "code",
   "execution_count": 80,
   "metadata": {},
   "outputs": [
    {
     "data": {
      "text/plain": [
       "array(['слесарь', 'водитель', 'курьер', 'водитель', 'маркетолог',\n",
       "       'токарь', 'водитель', 'программист', 'работник', 'охранник'],\n",
       "      dtype=object)"
      ]
     },
     "execution_count": 80,
     "metadata": {},
     "output_type": "execute_result"
    }
   ],
   "source": [
    "y_test_predict[:10]"
   ]
  },
  {
   "cell_type": "code",
   "execution_count": null,
   "metadata": {},
   "outputs": [],
   "source": [
    "from sklearn import ensemble\n",
    "gbt = ensemble.GradientBoostingClassifier(n_estimators=100, random_state=11)\n",
    "gbt.fit(X_train, y_train)"
   ]
  },
  {
   "cell_type": "code",
   "execution_count": null,
   "metadata": {},
   "outputs": [],
   "source": []
  }
 ],
 "metadata": {
  "kernelspec": {
   "display_name": "Python 3",
   "language": "python",
   "name": "python3"
  },
  "language_info": {
   "codemirror_mode": {
    "name": "ipython",
    "version": 3
   },
   "file_extension": ".py",
   "mimetype": "text/x-python",
   "name": "python",
   "nbconvert_exporter": "python",
   "pygments_lexer": "ipython3",
   "version": "3.8.5"
  }
 },
 "nbformat": 4,
 "nbformat_minor": 5
}
