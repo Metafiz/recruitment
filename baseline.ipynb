{
 "cells": [
  {
   "cell_type": "markdown",
   "id": "1e169b4b",
   "metadata": {},
   "source": [
    "# Подбор персонала"
   ]
  },
  {
   "cell_type": "code",
   "execution_count": 125,
   "id": "4f217b1d",
   "metadata": {},
   "outputs": [],
   "source": [
    "import numpy as np\n",
    "import scipy.stats\n",
    "import pandas as pd\n",
    "import matplotlib.pyplot as plt\n",
    "import seaborn as sns\n",
    "from sklearn.model_selection import train_test_split\n",
    "\n",
    "sns.set(); # более красивый внешний вид графиков по умолчанию\n"
   ]
  },
  {
   "cell_type": "code",
   "execution_count": 126,
   "id": "78ed0264",
   "metadata": {},
   "outputs": [],
   "source": [
    "data = pd.read_csv('rabotaru_ru/data/train_public.csv')"
   ]
  },
  {
   "cell_type": "code",
   "execution_count": 127,
   "id": "ecaaf874",
   "metadata": {},
   "outputs": [
    {
     "data": {
      "text/html": [
       "<div>\n",
       "<style scoped>\n",
       "    .dataframe tbody tr th:only-of-type {\n",
       "        vertical-align: middle;\n",
       "    }\n",
       "\n",
       "    .dataframe tbody tr th {\n",
       "        vertical-align: top;\n",
       "    }\n",
       "\n",
       "    .dataframe thead th {\n",
       "        text-align: right;\n",
       "    }\n",
       "</style>\n",
       "<table border=\"1\" class=\"dataframe\">\n",
       "  <thead>\n",
       "    <tr style=\"text-align: right;\">\n",
       "      <th></th>\n",
       "      <th>id</th>\n",
       "      <th>custom_position</th>\n",
       "      <th>operating_schedule_id</th>\n",
       "      <th>description</th>\n",
       "      <th>salary_from</th>\n",
       "      <th>offer_education_id</th>\n",
       "      <th>age_from</th>\n",
       "      <th>age_to</th>\n",
       "      <th>is_agency</th>\n",
       "      <th>is_nonresident</th>\n",
       "      <th>offer_experience_year_count</th>\n",
       "      <th>salary_to</th>\n",
       "      <th>is_male</th>\n",
       "      <th>driving_license</th>\n",
       "      <th>region_id</th>\n",
       "      <th>company_id</th>\n",
       "      <th>city_id</th>\n",
       "      <th>target_prof</th>\n",
       "    </tr>\n",
       "  </thead>\n",
       "  <tbody>\n",
       "    <tr>\n",
       "      <th>0</th>\n",
       "      <td>268842</td>\n",
       "      <td>Подсобный рабочий</td>\n",
       "      <td>1</td>\n",
       "      <td>&lt;strong&gt;Обязанности:&lt;/strong&gt;&lt;br /&gt;\\r\\n&lt;ul&gt;\\r\\...</td>\n",
       "      <td>34000</td>\n",
       "      <td>0</td>\n",
       "      <td>NaN</td>\n",
       "      <td>NaN</td>\n",
       "      <td>True</td>\n",
       "      <td>True</td>\n",
       "      <td>1.0</td>\n",
       "      <td>41000.0</td>\n",
       "      <td>True</td>\n",
       "      <td>[]</td>\n",
       "      <td>{1783}</td>\n",
       "      <td>1234787.0</td>\n",
       "      <td>70</td>\n",
       "      <td>рабочий</td>\n",
       "    </tr>\n",
       "    <tr>\n",
       "      <th>1</th>\n",
       "      <td>19090</td>\n",
       "      <td>Разнорабочий</td>\n",
       "      <td>7</td>\n",
       "      <td>&lt;br /&gt;\\nТребования: &lt;br&gt;На овощную базу в Подм...</td>\n",
       "      <td>66000</td>\n",
       "      <td>0</td>\n",
       "      <td>NaN</td>\n",
       "      <td>NaN</td>\n",
       "      <td>False</td>\n",
       "      <td>False</td>\n",
       "      <td>NaN</td>\n",
       "      <td>NaN</td>\n",
       "      <td>NaN</td>\n",
       "      <td>[]</td>\n",
       "      <td>{3}</td>\n",
       "      <td>NaN</td>\n",
       "      <td>1</td>\n",
       "      <td>разнорабочий</td>\n",
       "    </tr>\n",
       "    <tr>\n",
       "      <th>2</th>\n",
       "      <td>315832</td>\n",
       "      <td>Повар холодного цеха</td>\n",
       "      <td>1</td>\n",
       "      <td>&lt;br /&gt;\\nТребования: &lt;br&gt;Приготовление салатов....</td>\n",
       "      <td>40000</td>\n",
       "      <td>0</td>\n",
       "      <td>NaN</td>\n",
       "      <td>NaN</td>\n",
       "      <td>False</td>\n",
       "      <td>False</td>\n",
       "      <td>NaN</td>\n",
       "      <td>40000.0</td>\n",
       "      <td>NaN</td>\n",
       "      <td>[]</td>\n",
       "      <td>{3}</td>\n",
       "      <td>NaN</td>\n",
       "      <td>1</td>\n",
       "      <td>повар</td>\n",
       "    </tr>\n",
       "    <tr>\n",
       "      <th>3</th>\n",
       "      <td>365230</td>\n",
       "      <td>Разнорабочий</td>\n",
       "      <td>7</td>\n",
       "      <td>&lt;strong&gt;Обязанности:&lt;/strong&gt;&lt;br /&gt;\\r\\n&lt;ul&gt;\\r\\...</td>\n",
       "      <td>35000</td>\n",
       "      <td>0</td>\n",
       "      <td>NaN</td>\n",
       "      <td>NaN</td>\n",
       "      <td>False</td>\n",
       "      <td>True</td>\n",
       "      <td>-100.0</td>\n",
       "      <td>40000.0</td>\n",
       "      <td>NaN</td>\n",
       "      <td>[]</td>\n",
       "      <td>{5807}</td>\n",
       "      <td>2784163.0</td>\n",
       "      <td>70</td>\n",
       "      <td>разнорабочий</td>\n",
       "    </tr>\n",
       "    <tr>\n",
       "      <th>4</th>\n",
       "      <td>154105</td>\n",
       "      <td>Региональный торговый представитель по Смоленс...</td>\n",
       "      <td>1</td>\n",
       "      <td>&lt;strong&gt;Обязанности:&lt;/strong&gt;&lt;br /&gt; &amp;nbsp;&lt;br ...</td>\n",
       "      <td>30000</td>\n",
       "      <td>4</td>\n",
       "      <td>NaN</td>\n",
       "      <td>NaN</td>\n",
       "      <td>False</td>\n",
       "      <td>True</td>\n",
       "      <td>2.0</td>\n",
       "      <td>70000.0</td>\n",
       "      <td>NaN</td>\n",
       "      <td>[]</td>\n",
       "      <td>{362}</td>\n",
       "      <td>1703984.0</td>\n",
       "      <td>258</td>\n",
       "      <td>представитель</td>\n",
       "    </tr>\n",
       "  </tbody>\n",
       "</table>\n",
       "</div>"
      ],
      "text/plain": [
       "       id                                    custom_position  \\\n",
       "0  268842                                  Подсобный рабочий   \n",
       "1   19090                                       Разнорабочий   \n",
       "2  315832                               Повар холодного цеха   \n",
       "3  365230                                       Разнорабочий   \n",
       "4  154105  Региональный торговый представитель по Смоленс...   \n",
       "\n",
       "   operating_schedule_id                                        description  \\\n",
       "0                      1  <strong>Обязанности:</strong><br />\\r\\n<ul>\\r\\...   \n",
       "1                      7  <br />\\nТребования: <br>На овощную базу в Подм...   \n",
       "2                      1  <br />\\nТребования: <br>Приготовление салатов....   \n",
       "3                      7  <strong>Обязанности:</strong><br />\\r\\n<ul>\\r\\...   \n",
       "4                      1  <strong>Обязанности:</strong><br /> &nbsp;<br ...   \n",
       "\n",
       "   salary_from  offer_education_id  age_from  age_to  is_agency  \\\n",
       "0        34000                   0       NaN     NaN       True   \n",
       "1        66000                   0       NaN     NaN      False   \n",
       "2        40000                   0       NaN     NaN      False   \n",
       "3        35000                   0       NaN     NaN      False   \n",
       "4        30000                   4       NaN     NaN      False   \n",
       "\n",
       "   is_nonresident  offer_experience_year_count  salary_to is_male  \\\n",
       "0            True                          1.0    41000.0    True   \n",
       "1           False                          NaN        NaN     NaN   \n",
       "2           False                          NaN    40000.0     NaN   \n",
       "3            True                       -100.0    40000.0     NaN   \n",
       "4            True                          2.0    70000.0     NaN   \n",
       "\n",
       "  driving_license region_id  company_id  city_id    target_prof  \n",
       "0              []    {1783}   1234787.0       70        рабочий  \n",
       "1              []       {3}         NaN        1   разнорабочий  \n",
       "2              []       {3}         NaN        1          повар  \n",
       "3              []    {5807}   2784163.0       70   разнорабочий  \n",
       "4              []     {362}   1703984.0      258  представитель  "
      ]
     },
     "execution_count": 127,
     "metadata": {},
     "output_type": "execute_result"
    }
   ],
   "source": [
    "data.head(5)"
   ]
  },
  {
   "cell_type": "code",
   "execution_count": 128,
   "id": "643bdbce",
   "metadata": {},
   "outputs": [
    {
     "data": {
      "text/plain": [
       "Index(['id', 'custom_position', 'operating_schedule_id', 'description',\n",
       "       'salary_from', 'offer_education_id', 'age_from', 'age_to', 'is_agency',\n",
       "       'is_nonresident', 'offer_experience_year_count', 'salary_to', 'is_male',\n",
       "       'driving_license', 'region_id', 'company_id', 'city_id', 'target_prof'],\n",
       "      dtype='object')"
      ]
     },
     "execution_count": 128,
     "metadata": {},
     "output_type": "execute_result"
    }
   ],
   "source": [
    "data.columns"
   ]
  },
  {
   "cell_type": "code",
   "execution_count": 129,
   "id": "875af5e5",
   "metadata": {},
   "outputs": [
    {
     "data": {
      "text/html": [
       "<div>\n",
       "<style scoped>\n",
       "    .dataframe tbody tr th:only-of-type {\n",
       "        vertical-align: middle;\n",
       "    }\n",
       "\n",
       "    .dataframe tbody tr th {\n",
       "        vertical-align: top;\n",
       "    }\n",
       "\n",
       "    .dataframe thead th {\n",
       "        text-align: right;\n",
       "    }\n",
       "</style>\n",
       "<table border=\"1\" class=\"dataframe\">\n",
       "  <thead>\n",
       "    <tr style=\"text-align: right;\">\n",
       "      <th></th>\n",
       "      <th>0</th>\n",
       "    </tr>\n",
       "  </thead>\n",
       "  <tbody>\n",
       "    <tr>\n",
       "      <th>id</th>\n",
       "      <td>268842</td>\n",
       "    </tr>\n",
       "    <tr>\n",
       "      <th>custom_position</th>\n",
       "      <td>Подсобный рабочий</td>\n",
       "    </tr>\n",
       "    <tr>\n",
       "      <th>operating_schedule_id</th>\n",
       "      <td>1</td>\n",
       "    </tr>\n",
       "    <tr>\n",
       "      <th>description</th>\n",
       "      <td>&lt;strong&gt;Обязанности:&lt;/strong&gt;&lt;br /&gt;\\r\\n&lt;ul&gt;\\r\\...</td>\n",
       "    </tr>\n",
       "    <tr>\n",
       "      <th>salary_from</th>\n",
       "      <td>34000</td>\n",
       "    </tr>\n",
       "    <tr>\n",
       "      <th>offer_education_id</th>\n",
       "      <td>0</td>\n",
       "    </tr>\n",
       "    <tr>\n",
       "      <th>age_from</th>\n",
       "      <td>NaN</td>\n",
       "    </tr>\n",
       "    <tr>\n",
       "      <th>age_to</th>\n",
       "      <td>NaN</td>\n",
       "    </tr>\n",
       "    <tr>\n",
       "      <th>is_agency</th>\n",
       "      <td>True</td>\n",
       "    </tr>\n",
       "    <tr>\n",
       "      <th>is_nonresident</th>\n",
       "      <td>True</td>\n",
       "    </tr>\n",
       "    <tr>\n",
       "      <th>offer_experience_year_count</th>\n",
       "      <td>1.0</td>\n",
       "    </tr>\n",
       "    <tr>\n",
       "      <th>salary_to</th>\n",
       "      <td>41000.0</td>\n",
       "    </tr>\n",
       "    <tr>\n",
       "      <th>is_male</th>\n",
       "      <td>True</td>\n",
       "    </tr>\n",
       "    <tr>\n",
       "      <th>driving_license</th>\n",
       "      <td>[]</td>\n",
       "    </tr>\n",
       "    <tr>\n",
       "      <th>region_id</th>\n",
       "      <td>{1783}</td>\n",
       "    </tr>\n",
       "    <tr>\n",
       "      <th>company_id</th>\n",
       "      <td>1234787.0</td>\n",
       "    </tr>\n",
       "    <tr>\n",
       "      <th>city_id</th>\n",
       "      <td>70</td>\n",
       "    </tr>\n",
       "    <tr>\n",
       "      <th>target_prof</th>\n",
       "      <td>рабочий</td>\n",
       "    </tr>\n",
       "  </tbody>\n",
       "</table>\n",
       "</div>"
      ],
      "text/plain": [
       "                                                                             0\n",
       "id                                                                      268842\n",
       "custom_position                                              Подсобный рабочий\n",
       "operating_schedule_id                                                        1\n",
       "description                  <strong>Обязанности:</strong><br />\\r\\n<ul>\\r\\...\n",
       "salary_from                                                              34000\n",
       "offer_education_id                                                           0\n",
       "age_from                                                                   NaN\n",
       "age_to                                                                     NaN\n",
       "is_agency                                                                 True\n",
       "is_nonresident                                                            True\n",
       "offer_experience_year_count                                                1.0\n",
       "salary_to                                                              41000.0\n",
       "is_male                                                                   True\n",
       "driving_license                                                             []\n",
       "region_id                                                               {1783}\n",
       "company_id                                                           1234787.0\n",
       "city_id                                                                     70\n",
       "target_prof                                                            рабочий"
      ]
     },
     "execution_count": 129,
     "metadata": {},
     "output_type": "execute_result"
    }
   ],
   "source": [
    "data.head(1).T"
   ]
  },
  {
   "cell_type": "markdown",
   "id": "448bea7a",
   "metadata": {},
   "source": [
    "### Описание фичей\n",
    "\n",
    "  - **id** - Идентификатор вакансии\n",
    "  - **custom_position** - Название вакансии\n",
    "  - **operating_schedule_id** - идентификатор графика работы, возможные значения указаны ниже\n",
    "  - **salary_from** - зарплата от (всегда есть)\n",
    "  - **salary_to** - потолок зарплаты\n",
    "  - **description** - текстовое описание вакансии вместе с html тегами и знаками препинания\n",
    "  - **offer_education_id** - идентификатор образования, расшифровку см. ниже\n",
    "  - **offer_experience_year_count** - требуемый опыт (лет)\n",
    "  - **age_from** - минимальный возраст работы\n",
    "  - **age_to** - максимальный возраст работы\n",
    "  - **company_id** - идентификатор компании, встречаются вакансии без компаний\n",
    "  - **city_id** - идентификатор региона размещения (Москва и МО, ), крупные аггломерации\n",
    "  - **is_agency** - является ли компания агенством\n",
    "  - **is_nonresident** - доступна ли вакансия для иностранных граждан\n",
    "  - **is_male** - ищут работников мужского (True), женского (False) пола, в случае пустого значения пол не имеет значения\n",
    "  - **driving_license** - требуемые категории водительсктх прав\n",
    "  - **region_id** - города в которых есть офисы компании и куда производится набор сотрудников (Set)\n",
    "  - **target_prof** - рекомендуемая групповая профессия"
   ]
  },
  {
   "cell_type": "code",
   "execution_count": 130,
   "id": "59bf3093",
   "metadata": {},
   "outputs": [
    {
     "data": {
      "text/plain": [
       "id                               int64\n",
       "custom_position                 object\n",
       "operating_schedule_id            int64\n",
       "description                     object\n",
       "salary_from                      int64\n",
       "offer_education_id               int64\n",
       "age_from                       float64\n",
       "age_to                         float64\n",
       "is_agency                         bool\n",
       "is_nonresident                    bool\n",
       "offer_experience_year_count    float64\n",
       "salary_to                      float64\n",
       "is_male                         object\n",
       "driving_license                 object\n",
       "region_id                       object\n",
       "company_id                     float64\n",
       "city_id                          int64\n",
       "target_prof                     object\n",
       "dtype: object"
      ]
     },
     "execution_count": 130,
     "metadata": {},
     "output_type": "execute_result"
    }
   ],
   "source": [
    "# типы данных \n",
    "data.dtypes"
   ]
  },
  {
   "cell_type": "code",
   "execution_count": 131,
   "id": "5ff23e8a",
   "metadata": {},
   "outputs": [],
   "source": [
    "# меняем тип некоторых колонок на категориальный\n",
    "data['operating_schedule_id'] = data['operating_schedule_id'].astype('object')\n",
    "data['offer_education_id'] = data['offer_education_id'].astype('object')\n",
    "data['is_male'] = data['is_male'].astype('bool')\n",
    "data['company_id'] = data['company_id'].astype('object')\n",
    "data['city_id'] = data['city_id'].astype('object')"
   ]
  },
  {
   "cell_type": "code",
   "execution_count": 132,
   "id": "743ac605",
   "metadata": {},
   "outputs": [
    {
     "name": "stdout",
     "output_type": "stream",
     "text": [
      "Категориальные признаки:  ['custom_position', 'operating_schedule_id', 'description', 'offer_education_id', 'driving_license', 'region_id', 'company_id', 'city_id', 'target_prof']\n",
      "Числовые признаки:  ['id', 'salary_from', 'age_from', 'age_to', 'is_agency', 'is_nonresident', 'offer_experience_year_count', 'salary_to', 'is_male']\n"
     ]
    }
   ],
   "source": [
    "categorical_columns = [c for c in data.columns if data[c].dtype.name == 'object']\n",
    "numerical_columns   = [c for c in data.columns if data[c].dtype.name != 'object']\n",
    "print('Категориальные признаки: ', categorical_columns)\n",
    "print('Числовые признаки: ', numerical_columns)"
   ]
  },
  {
   "cell_type": "code",
   "execution_count": 133,
   "id": "2c614b98",
   "metadata": {},
   "outputs": [
    {
     "data": {
      "text/plain": [
       "(56297, 18)"
      ]
     },
     "execution_count": 133,
     "metadata": {},
     "output_type": "execute_result"
    }
   ],
   "source": [
    "# кол-во строк (вакансий) и колонок (их признаков)\n",
    "data.shape"
   ]
  },
  {
   "cell_type": "code",
   "execution_count": 134,
   "id": "99c17121",
   "metadata": {},
   "outputs": [
    {
     "name": "stdout",
     "output_type": "stream",
     "text": [
      "<class 'pandas.core.frame.DataFrame'>\n",
      "RangeIndex: 56297 entries, 0 to 56296\n",
      "Data columns (total 18 columns):\n",
      " #   Column                       Non-Null Count  Dtype  \n",
      "---  ------                       --------------  -----  \n",
      " 0   id                           56297 non-null  int64  \n",
      " 1   custom_position              56297 non-null  object \n",
      " 2   operating_schedule_id        56297 non-null  object \n",
      " 3   description                  56297 non-null  object \n",
      " 4   salary_from                  56297 non-null  int64  \n",
      " 5   offer_education_id           56297 non-null  object \n",
      " 6   age_from                     15798 non-null  float64\n",
      " 7   age_to                       12931 non-null  float64\n",
      " 8   is_agency                    56297 non-null  bool   \n",
      " 9   is_nonresident               56297 non-null  bool   \n",
      " 10  offer_experience_year_count  38622 non-null  float64\n",
      " 11  salary_to                    34829 non-null  float64\n",
      " 12  is_male                      56297 non-null  bool   \n",
      " 13  driving_license              56297 non-null  object \n",
      " 14  region_id                    56297 non-null  object \n",
      " 15  company_id                   42499 non-null  object \n",
      " 16  city_id                      56297 non-null  object \n",
      " 17  target_prof                  56297 non-null  object \n",
      "dtypes: bool(3), float64(4), int64(2), object(9)\n",
      "memory usage: 6.6+ MB\n"
     ]
    }
   ],
   "source": [
    "data.info()"
   ]
  },
  {
   "cell_type": "code",
   "execution_count": 135,
   "id": "ba4c1cb3",
   "metadata": {},
   "outputs": [
    {
     "data": {
      "text/html": [
       "<div>\n",
       "<style scoped>\n",
       "    .dataframe tbody tr th:only-of-type {\n",
       "        vertical-align: middle;\n",
       "    }\n",
       "\n",
       "    .dataframe tbody tr th {\n",
       "        vertical-align: top;\n",
       "    }\n",
       "\n",
       "    .dataframe thead th {\n",
       "        text-align: right;\n",
       "    }\n",
       "</style>\n",
       "<table border=\"1\" class=\"dataframe\">\n",
       "  <thead>\n",
       "    <tr style=\"text-align: right;\">\n",
       "      <th></th>\n",
       "      <th>count</th>\n",
       "      <th>mean</th>\n",
       "      <th>std</th>\n",
       "      <th>min</th>\n",
       "      <th>25%</th>\n",
       "      <th>50%</th>\n",
       "      <th>75%</th>\n",
       "      <th>max</th>\n",
       "    </tr>\n",
       "  </thead>\n",
       "  <tbody>\n",
       "    <tr>\n",
       "      <th>id</th>\n",
       "      <td>56297.0</td>\n",
       "      <td>235876.626019</td>\n",
       "      <td>135901.728858</td>\n",
       "      <td>18.0</td>\n",
       "      <td>118547.0</td>\n",
       "      <td>235786.0</td>\n",
       "      <td>353529.0</td>\n",
       "      <td>471177.0</td>\n",
       "    </tr>\n",
       "    <tr>\n",
       "      <th>salary_from</th>\n",
       "      <td>56297.0</td>\n",
       "      <td>38151.308773</td>\n",
       "      <td>86681.631959</td>\n",
       "      <td>-1.0</td>\n",
       "      <td>20000.0</td>\n",
       "      <td>35000.0</td>\n",
       "      <td>53000.0</td>\n",
       "      <td>19002500.0</td>\n",
       "    </tr>\n",
       "    <tr>\n",
       "      <th>age_from</th>\n",
       "      <td>15798.0</td>\n",
       "      <td>20.425434</td>\n",
       "      <td>4.056352</td>\n",
       "      <td>14.0</td>\n",
       "      <td>18.0</td>\n",
       "      <td>18.0</td>\n",
       "      <td>22.0</td>\n",
       "      <td>60.0</td>\n",
       "    </tr>\n",
       "    <tr>\n",
       "      <th>age_to</th>\n",
       "      <td>12931.0</td>\n",
       "      <td>53.606604</td>\n",
       "      <td>12.556347</td>\n",
       "      <td>22.0</td>\n",
       "      <td>45.0</td>\n",
       "      <td>52.0</td>\n",
       "      <td>60.0</td>\n",
       "      <td>99.0</td>\n",
       "    </tr>\n",
       "    <tr>\n",
       "      <th>offer_experience_year_count</th>\n",
       "      <td>38622.0</td>\n",
       "      <td>-34.882140</td>\n",
       "      <td>48.606458</td>\n",
       "      <td>-100.0</td>\n",
       "      <td>-100.0</td>\n",
       "      <td>0.0</td>\n",
       "      <td>1.0</td>\n",
       "      <td>10.0</td>\n",
       "    </tr>\n",
       "    <tr>\n",
       "      <th>salary_to</th>\n",
       "      <td>34829.0</td>\n",
       "      <td>46912.823423</td>\n",
       "      <td>111741.706222</td>\n",
       "      <td>-1.0</td>\n",
       "      <td>20000.0</td>\n",
       "      <td>40000.0</td>\n",
       "      <td>65000.0</td>\n",
       "      <td>19002500.0</td>\n",
       "    </tr>\n",
       "  </tbody>\n",
       "</table>\n",
       "</div>"
      ],
      "text/plain": [
       "                               count           mean            std    min  \\\n",
       "id                           56297.0  235876.626019  135901.728858   18.0   \n",
       "salary_from                  56297.0   38151.308773   86681.631959   -1.0   \n",
       "age_from                     15798.0      20.425434       4.056352   14.0   \n",
       "age_to                       12931.0      53.606604      12.556347   22.0   \n",
       "offer_experience_year_count  38622.0     -34.882140      48.606458 -100.0   \n",
       "salary_to                    34829.0   46912.823423  111741.706222   -1.0   \n",
       "\n",
       "                                  25%       50%       75%         max  \n",
       "id                           118547.0  235786.0  353529.0    471177.0  \n",
       "salary_from                   20000.0   35000.0   53000.0  19002500.0  \n",
       "age_from                         18.0      18.0      22.0        60.0  \n",
       "age_to                           45.0      52.0      60.0        99.0  \n",
       "offer_experience_year_count    -100.0       0.0       1.0        10.0  \n",
       "salary_to                     20000.0   40000.0   65000.0  19002500.0  "
      ]
     },
     "execution_count": 135,
     "metadata": {},
     "output_type": "execute_result"
    }
   ],
   "source": [
    "# описательная статистика по числоавым признакам\n",
    "data.describe().T"
   ]
  },
  {
   "cell_type": "code",
   "execution_count": 136,
   "id": "a019eb91",
   "metadata": {},
   "outputs": [
    {
     "data": {
      "text/html": [
       "<div>\n",
       "<style scoped>\n",
       "    .dataframe tbody tr th:only-of-type {\n",
       "        vertical-align: middle;\n",
       "    }\n",
       "\n",
       "    .dataframe tbody tr th {\n",
       "        vertical-align: top;\n",
       "    }\n",
       "\n",
       "    .dataframe thead th {\n",
       "        text-align: right;\n",
       "    }\n",
       "</style>\n",
       "<table border=\"1\" class=\"dataframe\">\n",
       "  <thead>\n",
       "    <tr style=\"text-align: right;\">\n",
       "      <th></th>\n",
       "      <th>count</th>\n",
       "      <th>unique</th>\n",
       "      <th>top</th>\n",
       "      <th>freq</th>\n",
       "    </tr>\n",
       "  </thead>\n",
       "  <tbody>\n",
       "    <tr>\n",
       "      <th>custom_position</th>\n",
       "      <td>56297</td>\n",
       "      <td>14345</td>\n",
       "      <td>Грузчик</td>\n",
       "      <td>981</td>\n",
       "    </tr>\n",
       "    <tr>\n",
       "      <th>operating_schedule_id</th>\n",
       "      <td>56297</td>\n",
       "      <td>6</td>\n",
       "      <td>1</td>\n",
       "      <td>27010</td>\n",
       "    </tr>\n",
       "    <tr>\n",
       "      <th>description</th>\n",
       "      <td>56297</td>\n",
       "      <td>41692</td>\n",
       "      <td>&lt;br /&gt;\\nТребования: &lt;br&gt; &lt;br /&gt;\\nИнформация о ...</td>\n",
       "      <td>293</td>\n",
       "    </tr>\n",
       "    <tr>\n",
       "      <th>offer_education_id</th>\n",
       "      <td>56297</td>\n",
       "      <td>5</td>\n",
       "      <td>0</td>\n",
       "      <td>47394</td>\n",
       "    </tr>\n",
       "    <tr>\n",
       "      <th>driving_license</th>\n",
       "      <td>56297</td>\n",
       "      <td>16</td>\n",
       "      <td>[]</td>\n",
       "      <td>54806</td>\n",
       "    </tr>\n",
       "    <tr>\n",
       "      <th>region_id</th>\n",
       "      <td>56297</td>\n",
       "      <td>1486</td>\n",
       "      <td>{3}</td>\n",
       "      <td>18167</td>\n",
       "    </tr>\n",
       "    <tr>\n",
       "      <th>company_id</th>\n",
       "      <td>42499.0</td>\n",
       "      <td>10218.0</td>\n",
       "      <td>1234787.0</td>\n",
       "      <td>2040.0</td>\n",
       "    </tr>\n",
       "    <tr>\n",
       "      <th>city_id</th>\n",
       "      <td>56297</td>\n",
       "      <td>67</td>\n",
       "      <td>1</td>\n",
       "      <td>16144</td>\n",
       "    </tr>\n",
       "    <tr>\n",
       "      <th>target_prof</th>\n",
       "      <td>56297</td>\n",
       "      <td>521</td>\n",
       "      <td>водитель</td>\n",
       "      <td>4885</td>\n",
       "    </tr>\n",
       "  </tbody>\n",
       "</table>\n",
       "</div>"
      ],
      "text/plain": [
       "                         count   unique  \\\n",
       "custom_position          56297    14345   \n",
       "operating_schedule_id    56297        6   \n",
       "description              56297    41692   \n",
       "offer_education_id       56297        5   \n",
       "driving_license          56297       16   \n",
       "region_id                56297     1486   \n",
       "company_id             42499.0  10218.0   \n",
       "city_id                  56297       67   \n",
       "target_prof              56297      521   \n",
       "\n",
       "                                                                     top  \\\n",
       "custom_position                                                  Грузчик   \n",
       "operating_schedule_id                                                  1   \n",
       "description            <br />\\nТребования: <br> <br />\\nИнформация о ...   \n",
       "offer_education_id                                                     0   \n",
       "driving_license                                                       []   \n",
       "region_id                                                            {3}   \n",
       "company_id                                                     1234787.0   \n",
       "city_id                                                                1   \n",
       "target_prof                                                     водитель   \n",
       "\n",
       "                         freq  \n",
       "custom_position           981  \n",
       "operating_schedule_id   27010  \n",
       "description               293  \n",
       "offer_education_id      47394  \n",
       "driving_license         54806  \n",
       "region_id               18167  \n",
       "company_id             2040.0  \n",
       "city_id                 16144  \n",
       "target_prof              4885  "
      ]
     },
     "execution_count": 136,
     "metadata": {},
     "output_type": "execute_result"
    }
   ],
   "source": [
    "# описательная статистика по категориальным признакам\n",
    "data[categorical_columns].describe().T"
   ]
  },
  {
   "cell_type": "markdown",
   "id": "6ff1a285",
   "metadata": {},
   "source": [
    "## Исследование признаков"
   ]
  },
  {
   "cell_type": "markdown",
   "id": "713cf617",
   "metadata": {},
   "source": [
    "### рекомендуемая групповая профессия (целевая переменная)"
   ]
  },
  {
   "cell_type": "code",
   "execution_count": 137,
   "id": "649d5bde",
   "metadata": {},
   "outputs": [
    {
     "data": {
      "text/plain": [
       "521"
      ]
     },
     "execution_count": 137,
     "metadata": {},
     "output_type": "execute_result"
    }
   ],
   "source": [
    "# сколько уникальных групповых профессий ?\n",
    "data['target_prof'].nunique()"
   ]
  },
  {
   "cell_type": "code",
   "execution_count": 138,
   "id": "b3751d02",
   "metadata": {},
   "outputs": [
    {
     "data": {
      "text/plain": [
       "array(['рабочий', 'разнорабочий', 'повар', 'представитель', 'слесарь',\n",
       "       'специалист', 'электромонтер', 'колорист', 'водитель',\n",
       "       'администратор'], dtype=object)"
      ]
     },
     "execution_count": 138,
     "metadata": {},
     "output_type": "execute_result"
    }
   ],
   "source": [
    "data['target_prof'].unique()[:10]"
   ]
  },
  {
   "cell_type": "code",
   "execution_count": 139,
   "id": "2f0e80c6",
   "metadata": {},
   "outputs": [
    {
     "data": {
      "text/plain": [
       "водитель      4885\n",
       "продавец      3360\n",
       "менеджер      2399\n",
       "повар         2284\n",
       "грузчик       2137\n",
       "              ... \n",
       "измеритель       1\n",
       "сушильщик        1\n",
       "торцовщик        1\n",
       "гидравлист       1\n",
       "шихтовщик        1\n",
       "Name: target_prof, Length: 521, dtype: int64"
      ]
     },
     "execution_count": 139,
     "metadata": {},
     "output_type": "execute_result"
    }
   ],
   "source": [
    "# статистика распределения профессий (в абсолютных значениях)\n",
    "data['target_prof'].value_counts()"
   ]
  },
  {
   "cell_type": "code",
   "execution_count": 140,
   "id": "d4046648",
   "metadata": {},
   "outputs": [
    {
     "data": {
      "text/plain": [
       "водитель      0.086772\n",
       "продавец      0.059683\n",
       "менеджер      0.042613\n",
       "повар         0.040571\n",
       "грузчик       0.037959\n",
       "                ...   \n",
       "измеритель    0.000018\n",
       "сушильщик     0.000018\n",
       "торцовщик     0.000018\n",
       "гидравлист    0.000018\n",
       "шихтовщик     0.000018\n",
       "Name: target_prof, Length: 521, dtype: float64"
      ]
     },
     "execution_count": 140,
     "metadata": {},
     "output_type": "execute_result"
    }
   ],
   "source": [
    "# статистика распределения профессий (в относительных долях)\n",
    "data['target_prof'].value_counts(normalize = True)"
   ]
  },
  {
   "cell_type": "code",
   "execution_count": 141,
   "id": "d021c491",
   "metadata": {},
   "outputs": [],
   "source": [
    "#data['target_prof'].hist()"
   ]
  },
  {
   "cell_type": "markdown",
   "id": "63296a4c",
   "metadata": {},
   "source": [
    "## Визуализация"
   ]
  },
  {
   "cell_type": "code",
   "execution_count": 142,
   "id": "dc173d97",
   "metadata": {},
   "outputs": [],
   "source": [
    "#sns.pairplot(data)"
   ]
  },
  {
   "cell_type": "code",
   "execution_count": 143,
   "id": "2779b04d",
   "metadata": {},
   "outputs": [
    {
     "data": {
      "text/html": [
       "<div>\n",
       "<style scoped>\n",
       "    .dataframe tbody tr th:only-of-type {\n",
       "        vertical-align: middle;\n",
       "    }\n",
       "\n",
       "    .dataframe tbody tr th {\n",
       "        vertical-align: top;\n",
       "    }\n",
       "\n",
       "    .dataframe thead th {\n",
       "        text-align: right;\n",
       "    }\n",
       "</style>\n",
       "<table border=\"1\" class=\"dataframe\">\n",
       "  <thead>\n",
       "    <tr style=\"text-align: right;\">\n",
       "      <th></th>\n",
       "      <th>id</th>\n",
       "      <th>salary_from</th>\n",
       "      <th>age_from</th>\n",
       "      <th>age_to</th>\n",
       "      <th>is_agency</th>\n",
       "      <th>is_nonresident</th>\n",
       "      <th>offer_experience_year_count</th>\n",
       "      <th>salary_to</th>\n",
       "      <th>is_male</th>\n",
       "    </tr>\n",
       "  </thead>\n",
       "  <tbody>\n",
       "    <tr>\n",
       "      <th>id</th>\n",
       "      <td>1.000000</td>\n",
       "      <td>0.000573</td>\n",
       "      <td>0.009224</td>\n",
       "      <td>-0.150269</td>\n",
       "      <td>-0.048694</td>\n",
       "      <td>0.048434</td>\n",
       "      <td>-0.029145</td>\n",
       "      <td>0.010016</td>\n",
       "      <td>-0.021733</td>\n",
       "    </tr>\n",
       "    <tr>\n",
       "      <th>salary_from</th>\n",
       "      <td>0.000573</td>\n",
       "      <td>1.000000</td>\n",
       "      <td>0.207308</td>\n",
       "      <td>0.000840</td>\n",
       "      <td>0.046251</td>\n",
       "      <td>0.049817</td>\n",
       "      <td>0.166805</td>\n",
       "      <td>0.966633</td>\n",
       "      <td>0.016187</td>\n",
       "    </tr>\n",
       "    <tr>\n",
       "      <th>age_from</th>\n",
       "      <td>0.009224</td>\n",
       "      <td>0.207308</td>\n",
       "      <td>1.000000</td>\n",
       "      <td>-0.107405</td>\n",
       "      <td>-0.006695</td>\n",
       "      <td>-0.002874</td>\n",
       "      <td>0.422167</td>\n",
       "      <td>0.092278</td>\n",
       "      <td>-0.222600</td>\n",
       "    </tr>\n",
       "    <tr>\n",
       "      <th>age_to</th>\n",
       "      <td>-0.150269</td>\n",
       "      <td>0.000840</td>\n",
       "      <td>-0.107405</td>\n",
       "      <td>1.000000</td>\n",
       "      <td>-0.017456</td>\n",
       "      <td>0.184849</td>\n",
       "      <td>-0.230461</td>\n",
       "      <td>-0.026269</td>\n",
       "      <td>0.156960</td>\n",
       "    </tr>\n",
       "    <tr>\n",
       "      <th>is_agency</th>\n",
       "      <td>-0.048694</td>\n",
       "      <td>0.046251</td>\n",
       "      <td>-0.006695</td>\n",
       "      <td>-0.017456</td>\n",
       "      <td>1.000000</td>\n",
       "      <td>0.066788</td>\n",
       "      <td>0.008550</td>\n",
       "      <td>0.044461</td>\n",
       "      <td>0.014770</td>\n",
       "    </tr>\n",
       "    <tr>\n",
       "      <th>is_nonresident</th>\n",
       "      <td>0.048434</td>\n",
       "      <td>0.049817</td>\n",
       "      <td>-0.002874</td>\n",
       "      <td>0.184849</td>\n",
       "      <td>0.066788</td>\n",
       "      <td>1.000000</td>\n",
       "      <td>0.079616</td>\n",
       "      <td>0.065214</td>\n",
       "      <td>-0.061705</td>\n",
       "    </tr>\n",
       "    <tr>\n",
       "      <th>offer_experience_year_count</th>\n",
       "      <td>-0.029145</td>\n",
       "      <td>0.166805</td>\n",
       "      <td>0.422167</td>\n",
       "      <td>-0.230461</td>\n",
       "      <td>0.008550</td>\n",
       "      <td>0.079616</td>\n",
       "      <td>1.000000</td>\n",
       "      <td>0.059082</td>\n",
       "      <td>0.025210</td>\n",
       "    </tr>\n",
       "    <tr>\n",
       "      <th>salary_to</th>\n",
       "      <td>0.010016</td>\n",
       "      <td>0.966633</td>\n",
       "      <td>0.092278</td>\n",
       "      <td>-0.026269</td>\n",
       "      <td>0.044461</td>\n",
       "      <td>0.065214</td>\n",
       "      <td>0.059082</td>\n",
       "      <td>1.000000</td>\n",
       "      <td>0.008329</td>\n",
       "    </tr>\n",
       "    <tr>\n",
       "      <th>is_male</th>\n",
       "      <td>-0.021733</td>\n",
       "      <td>0.016187</td>\n",
       "      <td>-0.222600</td>\n",
       "      <td>0.156960</td>\n",
       "      <td>0.014770</td>\n",
       "      <td>-0.061705</td>\n",
       "      <td>0.025210</td>\n",
       "      <td>0.008329</td>\n",
       "      <td>1.000000</td>\n",
       "    </tr>\n",
       "  </tbody>\n",
       "</table>\n",
       "</div>"
      ],
      "text/plain": [
       "                                   id  salary_from  age_from    age_to  \\\n",
       "id                           1.000000     0.000573  0.009224 -0.150269   \n",
       "salary_from                  0.000573     1.000000  0.207308  0.000840   \n",
       "age_from                     0.009224     0.207308  1.000000 -0.107405   \n",
       "age_to                      -0.150269     0.000840 -0.107405  1.000000   \n",
       "is_agency                   -0.048694     0.046251 -0.006695 -0.017456   \n",
       "is_nonresident               0.048434     0.049817 -0.002874  0.184849   \n",
       "offer_experience_year_count -0.029145     0.166805  0.422167 -0.230461   \n",
       "salary_to                    0.010016     0.966633  0.092278 -0.026269   \n",
       "is_male                     -0.021733     0.016187 -0.222600  0.156960   \n",
       "\n",
       "                             is_agency  is_nonresident  \\\n",
       "id                           -0.048694        0.048434   \n",
       "salary_from                   0.046251        0.049817   \n",
       "age_from                     -0.006695       -0.002874   \n",
       "age_to                       -0.017456        0.184849   \n",
       "is_agency                     1.000000        0.066788   \n",
       "is_nonresident                0.066788        1.000000   \n",
       "offer_experience_year_count   0.008550        0.079616   \n",
       "salary_to                     0.044461        0.065214   \n",
       "is_male                       0.014770       -0.061705   \n",
       "\n",
       "                             offer_experience_year_count  salary_to   is_male  \n",
       "id                                             -0.029145   0.010016 -0.021733  \n",
       "salary_from                                     0.166805   0.966633  0.016187  \n",
       "age_from                                        0.422167   0.092278 -0.222600  \n",
       "age_to                                         -0.230461  -0.026269  0.156960  \n",
       "is_agency                                       0.008550   0.044461  0.014770  \n",
       "is_nonresident                                  0.079616   0.065214 -0.061705  \n",
       "offer_experience_year_count                     1.000000   0.059082  0.025210  \n",
       "salary_to                                       0.059082   1.000000  0.008329  \n",
       "is_male                                         0.025210   0.008329  1.000000  "
      ]
     },
     "execution_count": 143,
     "metadata": {},
     "output_type": "execute_result"
    }
   ],
   "source": [
    "# матрица корреляций\n",
    "data.corr()"
   ]
  },
  {
   "cell_type": "code",
   "execution_count": 144,
   "id": "72c1b58b",
   "metadata": {},
   "outputs": [],
   "source": [
    "#sns.heatmap(data[numerical_columns])"
   ]
  },
  {
   "cell_type": "markdown",
   "id": "741f4abc",
   "metadata": {},
   "source": [
    "## Преобразование признаков"
   ]
  },
  {
   "cell_type": "code",
   "execution_count": 145,
   "id": "ad9bf132",
   "metadata": {},
   "outputs": [
    {
     "data": {
      "text/html": [
       "<div>\n",
       "<style scoped>\n",
       "    .dataframe tbody tr th:only-of-type {\n",
       "        vertical-align: middle;\n",
       "    }\n",
       "\n",
       "    .dataframe tbody tr th {\n",
       "        vertical-align: top;\n",
       "    }\n",
       "\n",
       "    .dataframe thead th {\n",
       "        text-align: right;\n",
       "    }\n",
       "</style>\n",
       "<table border=\"1\" class=\"dataframe\">\n",
       "  <thead>\n",
       "    <tr style=\"text-align: right;\">\n",
       "      <th></th>\n",
       "      <th>count</th>\n",
       "      <th>unique</th>\n",
       "      <th>top</th>\n",
       "      <th>freq</th>\n",
       "    </tr>\n",
       "  </thead>\n",
       "  <tbody>\n",
       "    <tr>\n",
       "      <th>custom_position</th>\n",
       "      <td>56297</td>\n",
       "      <td>14345</td>\n",
       "      <td>Грузчик</td>\n",
       "      <td>981</td>\n",
       "    </tr>\n",
       "    <tr>\n",
       "      <th>operating_schedule_id</th>\n",
       "      <td>56297</td>\n",
       "      <td>6</td>\n",
       "      <td>1</td>\n",
       "      <td>27010</td>\n",
       "    </tr>\n",
       "    <tr>\n",
       "      <th>description</th>\n",
       "      <td>56297</td>\n",
       "      <td>41692</td>\n",
       "      <td>&lt;br /&gt;\\nТребования: &lt;br&gt; &lt;br /&gt;\\nИнформация о ...</td>\n",
       "      <td>293</td>\n",
       "    </tr>\n",
       "    <tr>\n",
       "      <th>offer_education_id</th>\n",
       "      <td>56297</td>\n",
       "      <td>5</td>\n",
       "      <td>0</td>\n",
       "      <td>47394</td>\n",
       "    </tr>\n",
       "    <tr>\n",
       "      <th>driving_license</th>\n",
       "      <td>56297</td>\n",
       "      <td>16</td>\n",
       "      <td>[]</td>\n",
       "      <td>54806</td>\n",
       "    </tr>\n",
       "    <tr>\n",
       "      <th>region_id</th>\n",
       "      <td>56297</td>\n",
       "      <td>1486</td>\n",
       "      <td>{3}</td>\n",
       "      <td>18167</td>\n",
       "    </tr>\n",
       "    <tr>\n",
       "      <th>company_id</th>\n",
       "      <td>42499.0</td>\n",
       "      <td>10218.0</td>\n",
       "      <td>1234787.0</td>\n",
       "      <td>2040.0</td>\n",
       "    </tr>\n",
       "    <tr>\n",
       "      <th>city_id</th>\n",
       "      <td>56297</td>\n",
       "      <td>67</td>\n",
       "      <td>1</td>\n",
       "      <td>16144</td>\n",
       "    </tr>\n",
       "    <tr>\n",
       "      <th>target_prof</th>\n",
       "      <td>56297</td>\n",
       "      <td>521</td>\n",
       "      <td>водитель</td>\n",
       "      <td>4885</td>\n",
       "    </tr>\n",
       "  </tbody>\n",
       "</table>\n",
       "</div>"
      ],
      "text/plain": [
       "                         count   unique  \\\n",
       "custom_position          56297    14345   \n",
       "operating_schedule_id    56297        6   \n",
       "description              56297    41692   \n",
       "offer_education_id       56297        5   \n",
       "driving_license          56297       16   \n",
       "region_id                56297     1486   \n",
       "company_id             42499.0  10218.0   \n",
       "city_id                  56297       67   \n",
       "target_prof              56297      521   \n",
       "\n",
       "                                                                     top  \\\n",
       "custom_position                                                  Грузчик   \n",
       "operating_schedule_id                                                  1   \n",
       "description            <br />\\nТребования: <br> <br />\\nИнформация о ...   \n",
       "offer_education_id                                                     0   \n",
       "driving_license                                                       []   \n",
       "region_id                                                            {3}   \n",
       "company_id                                                     1234787.0   \n",
       "city_id                                                                1   \n",
       "target_prof                                                     водитель   \n",
       "\n",
       "                         freq  \n",
       "custom_position           981  \n",
       "operating_schedule_id   27010  \n",
       "description               293  \n",
       "offer_education_id      47394  \n",
       "driving_license         54806  \n",
       "region_id               18167  \n",
       "company_id             2040.0  \n",
       "city_id                 16144  \n",
       "target_prof              4885  "
      ]
     },
     "execution_count": 145,
     "metadata": {},
     "output_type": "execute_result"
    }
   ],
   "source": [
    "data[categorical_columns].describe().T"
   ]
  },
  {
   "cell_type": "markdown",
   "id": "8bf2934a",
   "metadata": {},
   "source": [
    "## Предобработка данных"
   ]
  },
  {
   "cell_type": "code",
   "execution_count": 146,
   "id": "f1ff2a00",
   "metadata": {},
   "outputs": [
    {
     "data": {
      "text/plain": [
       "1    27010\n",
       "3    12861\n",
       "7    11368\n",
       "2     2943\n",
       "5     1432\n",
       "6      683\n",
       "Name: operating_schedule_id, dtype: int64"
      ]
     },
     "execution_count": 146,
     "metadata": {},
     "output_type": "execute_result"
    }
   ],
   "source": [
    "data['operating_schedule_id'].value_counts()"
   ]
  },
  {
   "cell_type": "markdown",
   "id": "90604f8e",
   "metadata": {},
   "source": [
    "### Удаление выбросов в числовых полях (salary_from, salary_to)"
   ]
  },
  {
   "cell_type": "code",
   "execution_count": 147,
   "id": "81dcca80",
   "metadata": {},
   "outputs": [
    {
     "data": {
      "text/plain": [
       "count    5.629700e+04\n",
       "mean     3.815131e+04\n",
       "std      8.668163e+04\n",
       "min     -1.000000e+00\n",
       "25%      2.000000e+04\n",
       "50%      3.500000e+04\n",
       "75%      5.300000e+04\n",
       "max      1.900250e+07\n",
       "Name: salary_from, dtype: float64"
      ]
     },
     "execution_count": 147,
     "metadata": {},
     "output_type": "execute_result"
    }
   ],
   "source": [
    "data['salary_from'].describe()"
   ]
  },
  {
   "cell_type": "code",
   "execution_count": 148,
   "id": "dcfe143f",
   "metadata": {},
   "outputs": [
    {
     "data": {
      "text/plain": [
       "56297"
      ]
     },
     "execution_count": 148,
     "metadata": {},
     "output_type": "execute_result"
    }
   ],
   "source": [
    "data['salary_from'].count()"
   ]
  },
  {
   "cell_type": "code",
   "execution_count": 149,
   "id": "9571b541",
   "metadata": {},
   "outputs": [
    {
     "data": {
      "text/plain": [
       "<AxesSubplot:>"
      ]
     },
     "execution_count": 149,
     "metadata": {},
     "output_type": "execute_result"
    },
    {
     "data": {
      "image/png": "[encoded data removed]",
      "text/plain": [
       "<Figure size 432x288 with 1 Axes>"
      ]
     },
     "metadata": {},
     "output_type": "display_data"
    }
   ],
   "source": [
    "data['salary_from'].plot()"
   ]
  },
  {
   "cell_type": "code",
   "execution_count": 150,
   "id": "be3610cc",
   "metadata": {},
   "outputs": [
    {
     "data": {
      "text/plain": [
       "19002500"
      ]
     },
     "execution_count": 150,
     "metadata": {},
     "output_type": "execute_result"
    }
   ],
   "source": [
    "max(data['salary_from'])"
   ]
  },
  {
   "cell_type": "code",
   "execution_count": 151,
   "id": "c9378ea0",
   "metadata": {},
   "outputs": [],
   "source": [
    "z_scores = scipy.stats.zscore(data['salary_from'])\n",
    "abs_z_scores  = np.abs(z_scores)\n",
    "\n",
    "#outliers_indeces = data['salary_from'][abs_z_scores > 4].index\n",
    "#data.iloc[ outliers_indeces ]\n",
    "#outliers_indeces.remove(46401)\n",
    "\n",
    "#len(data.drop(data['salary_from'][abs_z_scores > 4].index))\n",
    "data.drop(data['salary_from'][abs_z_scores > 4].index, inplace=True)"
   ]
  },
  {
   "cell_type": "code",
   "execution_count": 152,
   "id": "00ea1ed9",
   "metadata": {},
   "outputs": [
    {
     "name": "stdout",
     "output_type": "stream",
     "text": [
      "34824\n"
     ]
    },
    {
     "data": {
      "text/plain": [
       "count    3.482400e+04\n",
       "mean     4.615565e+04\n",
       "std      4.157114e+04\n",
       "min     -1.000000e+00\n",
       "25%      2.000000e+04\n",
       "50%      4.000000e+04\n",
       "75%      6.500000e+04\n",
       "max      1.150000e+06\n",
       "Name: salary_to, dtype: float64"
      ]
     },
     "execution_count": 152,
     "metadata": {},
     "output_type": "execute_result"
    }
   ],
   "source": [
    "print(data['salary_to'].count())\n",
    "data['salary_to'].describe()"
   ]
  },
  {
   "cell_type": "code",
   "execution_count": 153,
   "id": "52a325e1",
   "metadata": {},
   "outputs": [
    {
     "data": {
      "text/plain": [
       "<AxesSubplot:>"
      ]
     },
     "execution_count": 153,
     "metadata": {},
     "output_type": "execute_result"
    },
    {
     "data": {
      "image/png": "[encoded data removed]",
      "text/plain": [
       "<Figure size 432x288 with 1 Axes>"
      ]
     },
     "metadata": {},
     "output_type": "display_data"
    }
   ],
   "source": [
    "data['salary_to'].hist()"
   ]
  },
  {
   "cell_type": "code",
   "execution_count": 154,
   "id": "b16660c3",
   "metadata": {},
   "outputs": [],
   "source": [
    "# удаляем строку с максимальной salary_to - это единственный выброс в этом поле\n",
    "#data['salary_to'].quantile(0.9)\n",
    "#data[ data['salary_to'] == data['salary_to'].max() ]\n",
    "\n",
    "data.drop( data[data['salary_to'] == data['salary_to'].max()].index, inplace=True)"
   ]
  },
  {
   "cell_type": "code",
   "execution_count": 155,
   "id": "b9a716a8",
   "metadata": {},
   "outputs": [],
   "source": [
    "data.drop( data[data['salary_to'] == -1].index, inplace=True)"
   ]
  },
  {
   "cell_type": "code",
   "execution_count": 156,
   "id": "a711a84f",
   "metadata": {},
   "outputs": [
    {
     "name": "stderr",
     "output_type": "stream",
     "text": [
      "<ipython-input-156-1f2c58dc836d>:3: SettingWithCopyWarning: \n",
      "A value is trying to be set on a copy of a slice from a DataFrame.\n",
      "Try using .loc[row_indexer,col_indexer] = value instead\n",
      "\n",
      "See the caveats in the documentation: https://pandas.pydata.org/pandas-docs/stable/user_guide/indexing.html#returning-a-view-versus-a-copy\n",
      "  data.loc[data['salary_to'] == 0]['salary_to'] = sf\n"
     ]
    }
   ],
   "source": [
    "# значения salary_to == 0 заменяем на salary_from\n",
    "sf = data[data['salary_to'] == 0]['salary_from']\n",
    "data.loc[data['salary_to'] == 0]['salary_to'] = sf"
   ]
  },
  {
   "cell_type": "code",
   "execution_count": 157,
   "id": "dd2f9834",
   "metadata": {},
   "outputs": [],
   "source": [
    "data.drop( data[data['salary_to'] == 0].index, inplace=True)"
   ]
  },
  {
   "cell_type": "markdown",
   "id": "d4ea0d53",
   "metadata": {},
   "source": [
    "### Заполнение пропущенных значений"
   ]
  },
  {
   "cell_type": "code",
   "execution_count": 189,
   "id": "515b4641",
   "metadata": {},
   "outputs": [
    {
     "data": {
      "text/plain": [
       "id                             48805\n",
       "custom_position                48805\n",
       "operating_schedule_id          48805\n",
       "description                    48805\n",
       "salary_from                    48805\n",
       "offer_education_id             48805\n",
       "age_from                       48805\n",
       "age_to                         48805\n",
       "is_agency                      48805\n",
       "is_nonresident                 48805\n",
       "offer_experience_year_count    34800\n",
       "salary_to                      48805\n",
       "is_male                        48805\n",
       "driving_license                48805\n",
       "region_id                      48805\n",
       "company_id                     38736\n",
       "city_id                        48805\n",
       "target_prof                    48805\n",
       "dtype: int64"
      ]
     },
     "execution_count": 189,
     "metadata": {},
     "output_type": "execute_result"
    }
   ],
   "source": [
    "data.count(axis=0)"
   ]
  },
  {
   "cell_type": "code",
   "execution_count": 160,
   "id": "67640d0d",
   "metadata": {},
   "outputs": [],
   "source": [
    "# для записей, где не указана верхняя планка зарплаты, берём значение из нижней планки\n",
    "data['salary_to'].fillna(data['salary_from'], axis=0, inplace=True)"
   ]
  },
  {
   "cell_type": "code",
   "execution_count": 169,
   "id": "5b9f5469",
   "metadata": {},
   "outputs": [
    {
     "data": {
      "text/plain": [
       "count    14796.000000\n",
       "mean        20.371317\n",
       "std          4.013680\n",
       "min         14.000000\n",
       "25%         18.000000\n",
       "50%         18.000000\n",
       "75%         21.000000\n",
       "max         60.000000\n",
       "Name: age_from, dtype: float64"
      ]
     },
     "execution_count": 169,
     "metadata": {},
     "output_type": "execute_result"
    }
   ],
   "source": [
    "data['age_from'].describe()"
   ]
  },
  {
   "cell_type": "code",
   "execution_count": 170,
   "id": "62aef77a",
   "metadata": {},
   "outputs": [
    {
     "data": {
      "text/plain": [
       "0    18.0\n",
       "dtype: float64"
      ]
     },
     "execution_count": 170,
     "metadata": {},
     "output_type": "execute_result"
    }
   ],
   "source": [
    "data['age_from'].mode()"
   ]
  },
  {
   "cell_type": "code",
   "execution_count": 168,
   "id": "00b7a255",
   "metadata": {},
   "outputs": [
    {
     "data": {
      "text/plain": [
       "<AxesSubplot:>"
      ]
     },
     "execution_count": 168,
     "metadata": {},
     "output_type": "execute_result"
    },
    {
     "data": {
      "image/png": "[encoded data removed]",
      "text/plain": [
       "<Figure size 432x288 with 1 Axes>"
      ]
     },
     "metadata": {},
     "output_type": "display_data"
    }
   ],
   "source": [
    "data['age_from'].hist()"
   ]
  },
  {
   "cell_type": "code",
   "execution_count": 181,
   "id": "6831430a",
   "metadata": {},
   "outputs": [],
   "source": [
    "# \"возраст от\" заменяем на моду (наиболее часто встречающееся значение)\n",
    "data['age_from'].fillna(int(data['age_from'].mode()), axis=0, inplace=True)"
   ]
  },
  {
   "cell_type": "code",
   "execution_count": 183,
   "id": "a22bc9ff",
   "metadata": {},
   "outputs": [
    {
     "data": {
      "text/plain": [
       "count    12013.000000\n",
       "mean        53.610422\n",
       "std         12.547986\n",
       "min         22.000000\n",
       "25%         45.000000\n",
       "50%         52.000000\n",
       "75%         60.000000\n",
       "max         99.000000\n",
       "Name: age_to, dtype: float64"
      ]
     },
     "execution_count": 183,
     "metadata": {},
     "output_type": "execute_result"
    }
   ],
   "source": [
    "data['age_to'].describe()\n",
    "#data['age_to'].hist()"
   ]
  },
  {
   "cell_type": "code",
   "execution_count": 188,
   "id": "d7463201",
   "metadata": {},
   "outputs": [],
   "source": [
    "# \"возраст до\" заменяем на среднее значение\n",
    "data['age_to'].fillna(data['age_to'].mean(axis=0), axis=0, inplace=True)"
   ]
  },
  {
   "cell_type": "code",
   "execution_count": 191,
   "id": "e482148b",
   "metadata": {},
   "outputs": [
    {
     "data": {
      "text/plain": [
       "count    34800.000000\n",
       "mean       -36.160489\n",
       "std         48.943320\n",
       "min       -100.000000\n",
       "25%       -100.000000\n",
       "50%          0.000000\n",
       "75%          1.000000\n",
       "max         10.000000\n",
       "Name: offer_experience_year_count, dtype: float64"
      ]
     },
     "execution_count": 191,
     "metadata": {},
     "output_type": "execute_result"
    }
   ],
   "source": [
    "data['offer_experience_year_count'].describe()"
   ]
  },
  {
   "cell_type": "code",
   "execution_count": 192,
   "id": "cb651c6e",
   "metadata": {},
   "outputs": [
    {
     "data": {
      "text/plain": [
       "<AxesSubplot:>"
      ]
     },
     "execution_count": 192,
     "metadata": {},
     "output_type": "execute_result"
    },
    {
     "data": {
      "image/png": "[encoded data removed]",
      "text/plain": [
       "<Figure size 432x288 with 1 Axes>"
      ]
     },
     "metadata": {},
     "output_type": "display_data"
    }
   ],
   "source": [
    "data['offer_experience_year_count'].hist()"
   ]
  },
  {
   "cell_type": "code",
   "execution_count": 194,
   "id": "abfe1472",
   "metadata": {},
   "outputs": [
    {
     "data": {
      "text/plain": [
       "16324"
      ]
     },
     "execution_count": 194,
     "metadata": {},
     "output_type": "execute_result"
    }
   ],
   "source": [
    "len(data[ data['offer_experience_year_count'] < 0 ])"
   ]
  },
  {
   "cell_type": "markdown",
   "id": "6d3df7a3",
   "metadata": {},
   "source": [
    "## Нормализация числовых данных"
   ]
  },
  {
   "cell_type": "code",
   "execution_count": null,
   "id": "459802af",
   "metadata": {},
   "outputs": [],
   "source": []
  },
  {
   "cell_type": "markdown",
   "id": "ef7be4e8",
   "metadata": {},
   "source": [
    "## Векторизация категориальных признаков"
   ]
  },
  {
   "cell_type": "code",
   "execution_count": null,
   "id": "a505602a",
   "metadata": {},
   "outputs": [],
   "source": []
  },
  {
   "cell_type": "markdown",
   "id": "20b9ede3",
   "metadata": {},
   "source": [
    "## Построение классификатора"
   ]
  },
  {
   "cell_type": "code",
   "execution_count": null,
   "id": "2a801380",
   "metadata": {},
   "outputs": [],
   "source": [
    "X_train, X_test, y_train, y_test = train_test_split(X, y, \n",
    "                                                    train_size=0.67, \n",
    "                                                    random_state=42)\n"
   ]
  }
 ],
 "metadata": {
  "kernelspec": {
   "display_name": "Python 3",
   "language": "python",
   "name": "python3"
  },
  "language_info": {
   "codemirror_mode": {
    "name": "ipython",
    "version": 3
   },
   "file_extension": ".py",
   "mimetype": "text/x-python",
   "name": "python",
   "nbconvert_exporter": "python",
   "pygments_lexer": "ipython3",
   "version": "3.8.8"
  }
 },
 "nbformat": 4,
 "nbformat_minor": 5
}
