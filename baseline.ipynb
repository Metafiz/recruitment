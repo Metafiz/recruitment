{
 "cells": [
  {
   "cell_type": "markdown",
   "id": "1e169b4b",
   "metadata": {},
   "source": [
    "# Подбор персонала"
   ]
  },
  {
   "cell_type": "code",
   "execution_count": 1,
   "id": "4f217b1d",
   "metadata": {},
   "outputs": [],
   "source": [
    "import numpy as np\n",
    "import scipy.stats\n",
    "import pandas as pd\n",
    "import matplotlib.pyplot as plt\n",
    "import seaborn as sns\n",
    "from sklearn.model_selection import train_test_split\n",
    "from sklearn.metrics import accuracy_score, f1_score\n",
    "\n",
    "sns.set(); "
   ]
  },
  {
   "cell_type": "code",
   "execution_count": 2,
   "id": "78ed0264",
   "metadata": {},
   "outputs": [],
   "source": [
    "data = pd.read_csv('rabotaru_ru/data/train_public.csv')"
   ]
  },
  {
   "cell_type": "code",
   "execution_count": 3,
   "id": "ecaaf874",
   "metadata": {},
   "outputs": [
    {
     "data": {
      "text/html": [
       "<div>\n",
       "<style scoped>\n",
       "    .dataframe tbody tr th:only-of-type {\n",
       "        vertical-align: middle;\n",
       "    }\n",
       "\n",
       "    .dataframe tbody tr th {\n",
       "        vertical-align: top;\n",
       "    }\n",
       "\n",
       "    .dataframe thead th {\n",
       "        text-align: right;\n",
       "    }\n",
       "</style>\n",
       "<table border=\"1\" class=\"dataframe\">\n",
       "  <thead>\n",
       "    <tr style=\"text-align: right;\">\n",
       "      <th></th>\n",
       "      <th>id</th>\n",
       "      <th>custom_position</th>\n",
       "      <th>operating_schedule_id</th>\n",
       "      <th>description</th>\n",
       "      <th>salary_from</th>\n",
       "      <th>offer_education_id</th>\n",
       "      <th>age_from</th>\n",
       "      <th>age_to</th>\n",
       "      <th>is_agency</th>\n",
       "      <th>is_nonresident</th>\n",
       "      <th>offer_experience_year_count</th>\n",
       "      <th>salary_to</th>\n",
       "      <th>is_male</th>\n",
       "      <th>driving_license</th>\n",
       "      <th>region_id</th>\n",
       "      <th>company_id</th>\n",
       "      <th>city_id</th>\n",
       "      <th>target_prof</th>\n",
       "    </tr>\n",
       "  </thead>\n",
       "  <tbody>\n",
       "    <tr>\n",
       "      <th>0</th>\n",
       "      <td>268842</td>\n",
       "      <td>Подсобный рабочий</td>\n",
       "      <td>1</td>\n",
       "      <td>&lt;strong&gt;Обязанности:&lt;/strong&gt;&lt;br /&gt;\\r\\n&lt;ul&gt;\\r\\...</td>\n",
       "      <td>34000</td>\n",
       "      <td>0</td>\n",
       "      <td>NaN</td>\n",
       "      <td>NaN</td>\n",
       "      <td>True</td>\n",
       "      <td>True</td>\n",
       "      <td>1.0</td>\n",
       "      <td>41000.0</td>\n",
       "      <td>True</td>\n",
       "      <td>[]</td>\n",
       "      <td>{1783}</td>\n",
       "      <td>1234787.0</td>\n",
       "      <td>70</td>\n",
       "      <td>рабочий</td>\n",
       "    </tr>\n",
       "    <tr>\n",
       "      <th>1</th>\n",
       "      <td>19090</td>\n",
       "      <td>Разнорабочий</td>\n",
       "      <td>7</td>\n",
       "      <td>&lt;br /&gt;\\nТребования: &lt;br&gt;На овощную базу в Подм...</td>\n",
       "      <td>66000</td>\n",
       "      <td>0</td>\n",
       "      <td>NaN</td>\n",
       "      <td>NaN</td>\n",
       "      <td>False</td>\n",
       "      <td>False</td>\n",
       "      <td>NaN</td>\n",
       "      <td>NaN</td>\n",
       "      <td>NaN</td>\n",
       "      <td>[]</td>\n",
       "      <td>{3}</td>\n",
       "      <td>NaN</td>\n",
       "      <td>1</td>\n",
       "      <td>разнорабочий</td>\n",
       "    </tr>\n",
       "    <tr>\n",
       "      <th>2</th>\n",
       "      <td>315832</td>\n",
       "      <td>Повар холодного цеха</td>\n",
       "      <td>1</td>\n",
       "      <td>&lt;br /&gt;\\nТребования: &lt;br&gt;Приготовление салатов....</td>\n",
       "      <td>40000</td>\n",
       "      <td>0</td>\n",
       "      <td>NaN</td>\n",
       "      <td>NaN</td>\n",
       "      <td>False</td>\n",
       "      <td>False</td>\n",
       "      <td>NaN</td>\n",
       "      <td>40000.0</td>\n",
       "      <td>NaN</td>\n",
       "      <td>[]</td>\n",
       "      <td>{3}</td>\n",
       "      <td>NaN</td>\n",
       "      <td>1</td>\n",
       "      <td>повар</td>\n",
       "    </tr>\n",
       "    <tr>\n",
       "      <th>3</th>\n",
       "      <td>365230</td>\n",
       "      <td>Разнорабочий</td>\n",
       "      <td>7</td>\n",
       "      <td>&lt;strong&gt;Обязанности:&lt;/strong&gt;&lt;br /&gt;\\r\\n&lt;ul&gt;\\r\\...</td>\n",
       "      <td>35000</td>\n",
       "      <td>0</td>\n",
       "      <td>NaN</td>\n",
       "      <td>NaN</td>\n",
       "      <td>False</td>\n",
       "      <td>True</td>\n",
       "      <td>-100.0</td>\n",
       "      <td>40000.0</td>\n",
       "      <td>NaN</td>\n",
       "      <td>[]</td>\n",
       "      <td>{5807}</td>\n",
       "      <td>2784163.0</td>\n",
       "      <td>70</td>\n",
       "      <td>разнорабочий</td>\n",
       "    </tr>\n",
       "    <tr>\n",
       "      <th>4</th>\n",
       "      <td>154105</td>\n",
       "      <td>Региональный торговый представитель по Смоленс...</td>\n",
       "      <td>1</td>\n",
       "      <td>&lt;strong&gt;Обязанности:&lt;/strong&gt;&lt;br /&gt; &amp;nbsp;&lt;br ...</td>\n",
       "      <td>30000</td>\n",
       "      <td>4</td>\n",
       "      <td>NaN</td>\n",
       "      <td>NaN</td>\n",
       "      <td>False</td>\n",
       "      <td>True</td>\n",
       "      <td>2.0</td>\n",
       "      <td>70000.0</td>\n",
       "      <td>NaN</td>\n",
       "      <td>[]</td>\n",
       "      <td>{362}</td>\n",
       "      <td>1703984.0</td>\n",
       "      <td>258</td>\n",
       "      <td>представитель</td>\n",
       "    </tr>\n",
       "  </tbody>\n",
       "</table>\n",
       "</div>"
      ],
      "text/plain": [
       "       id                                    custom_position  \\\n",
       "0  268842                                  Подсобный рабочий   \n",
       "1   19090                                       Разнорабочий   \n",
       "2  315832                               Повар холодного цеха   \n",
       "3  365230                                       Разнорабочий   \n",
       "4  154105  Региональный торговый представитель по Смоленс...   \n",
       "\n",
       "   operating_schedule_id                                        description  \\\n",
       "0                      1  <strong>Обязанности:</strong><br />\\r\\n<ul>\\r\\...   \n",
       "1                      7  <br />\\nТребования: <br>На овощную базу в Подм...   \n",
       "2                      1  <br />\\nТребования: <br>Приготовление салатов....   \n",
       "3                      7  <strong>Обязанности:</strong><br />\\r\\n<ul>\\r\\...   \n",
       "4                      1  <strong>Обязанности:</strong><br /> &nbsp;<br ...   \n",
       "\n",
       "   salary_from  offer_education_id  age_from  age_to  is_agency  \\\n",
       "0        34000                   0       NaN     NaN       True   \n",
       "1        66000                   0       NaN     NaN      False   \n",
       "2        40000                   0       NaN     NaN      False   \n",
       "3        35000                   0       NaN     NaN      False   \n",
       "4        30000                   4       NaN     NaN      False   \n",
       "\n",
       "   is_nonresident  offer_experience_year_count  salary_to is_male  \\\n",
       "0            True                          1.0    41000.0    True   \n",
       "1           False                          NaN        NaN     NaN   \n",
       "2           False                          NaN    40000.0     NaN   \n",
       "3            True                       -100.0    40000.0     NaN   \n",
       "4            True                          2.0    70000.0     NaN   \n",
       "\n",
       "  driving_license region_id  company_id  city_id    target_prof  \n",
       "0              []    {1783}   1234787.0       70        рабочий  \n",
       "1              []       {3}         NaN        1   разнорабочий  \n",
       "2              []       {3}         NaN        1          повар  \n",
       "3              []    {5807}   2784163.0       70   разнорабочий  \n",
       "4              []     {362}   1703984.0      258  представитель  "
      ]
     },
     "execution_count": 3,
     "metadata": {},
     "output_type": "execute_result"
    }
   ],
   "source": [
    "data.head(5)"
   ]
  },
  {
   "cell_type": "code",
   "execution_count": 4,
   "id": "643bdbce",
   "metadata": {},
   "outputs": [
    {
     "data": {
      "text/plain": [
       "Index(['id', 'custom_position', 'operating_schedule_id', 'description',\n",
       "       'salary_from', 'offer_education_id', 'age_from', 'age_to', 'is_agency',\n",
       "       'is_nonresident', 'offer_experience_year_count', 'salary_to', 'is_male',\n",
       "       'driving_license', 'region_id', 'company_id', 'city_id', 'target_prof'],\n",
       "      dtype='object')"
      ]
     },
     "execution_count": 4,
     "metadata": {},
     "output_type": "execute_result"
    }
   ],
   "source": [
    "data.columns"
   ]
  },
  {
   "cell_type": "code",
   "execution_count": 5,
   "id": "875af5e5",
   "metadata": {},
   "outputs": [
    {
     "data": {
      "text/html": [
       "<div>\n",
       "<style scoped>\n",
       "    .dataframe tbody tr th:only-of-type {\n",
       "        vertical-align: middle;\n",
       "    }\n",
       "\n",
       "    .dataframe tbody tr th {\n",
       "        vertical-align: top;\n",
       "    }\n",
       "\n",
       "    .dataframe thead th {\n",
       "        text-align: right;\n",
       "    }\n",
       "</style>\n",
       "<table border=\"1\" class=\"dataframe\">\n",
       "  <thead>\n",
       "    <tr style=\"text-align: right;\">\n",
       "      <th></th>\n",
       "      <th>0</th>\n",
       "    </tr>\n",
       "  </thead>\n",
       "  <tbody>\n",
       "    <tr>\n",
       "      <th>id</th>\n",
       "      <td>268842</td>\n",
       "    </tr>\n",
       "    <tr>\n",
       "      <th>custom_position</th>\n",
       "      <td>Подсобный рабочий</td>\n",
       "    </tr>\n",
       "    <tr>\n",
       "      <th>operating_schedule_id</th>\n",
       "      <td>1</td>\n",
       "    </tr>\n",
       "    <tr>\n",
       "      <th>description</th>\n",
       "      <td>&lt;strong&gt;Обязанности:&lt;/strong&gt;&lt;br /&gt;\\r\\n&lt;ul&gt;\\r\\...</td>\n",
       "    </tr>\n",
       "    <tr>\n",
       "      <th>salary_from</th>\n",
       "      <td>34000</td>\n",
       "    </tr>\n",
       "    <tr>\n",
       "      <th>offer_education_id</th>\n",
       "      <td>0</td>\n",
       "    </tr>\n",
       "    <tr>\n",
       "      <th>age_from</th>\n",
       "      <td>NaN</td>\n",
       "    </tr>\n",
       "    <tr>\n",
       "      <th>age_to</th>\n",
       "      <td>NaN</td>\n",
       "    </tr>\n",
       "    <tr>\n",
       "      <th>is_agency</th>\n",
       "      <td>True</td>\n",
       "    </tr>\n",
       "    <tr>\n",
       "      <th>is_nonresident</th>\n",
       "      <td>True</td>\n",
       "    </tr>\n",
       "    <tr>\n",
       "      <th>offer_experience_year_count</th>\n",
       "      <td>1.0</td>\n",
       "    </tr>\n",
       "    <tr>\n",
       "      <th>salary_to</th>\n",
       "      <td>41000.0</td>\n",
       "    </tr>\n",
       "    <tr>\n",
       "      <th>is_male</th>\n",
       "      <td>True</td>\n",
       "    </tr>\n",
       "    <tr>\n",
       "      <th>driving_license</th>\n",
       "      <td>[]</td>\n",
       "    </tr>\n",
       "    <tr>\n",
       "      <th>region_id</th>\n",
       "      <td>{1783}</td>\n",
       "    </tr>\n",
       "    <tr>\n",
       "      <th>company_id</th>\n",
       "      <td>1234787.0</td>\n",
       "    </tr>\n",
       "    <tr>\n",
       "      <th>city_id</th>\n",
       "      <td>70</td>\n",
       "    </tr>\n",
       "    <tr>\n",
       "      <th>target_prof</th>\n",
       "      <td>рабочий</td>\n",
       "    </tr>\n",
       "  </tbody>\n",
       "</table>\n",
       "</div>"
      ],
      "text/plain": [
       "                                                                             0\n",
       "id                                                                      268842\n",
       "custom_position                                              Подсобный рабочий\n",
       "operating_schedule_id                                                        1\n",
       "description                  <strong>Обязанности:</strong><br />\\r\\n<ul>\\r\\...\n",
       "salary_from                                                              34000\n",
       "offer_education_id                                                           0\n",
       "age_from                                                                   NaN\n",
       "age_to                                                                     NaN\n",
       "is_agency                                                                 True\n",
       "is_nonresident                                                            True\n",
       "offer_experience_year_count                                                1.0\n",
       "salary_to                                                              41000.0\n",
       "is_male                                                                   True\n",
       "driving_license                                                             []\n",
       "region_id                                                               {1783}\n",
       "company_id                                                           1234787.0\n",
       "city_id                                                                     70\n",
       "target_prof                                                            рабочий"
      ]
     },
     "execution_count": 5,
     "metadata": {},
     "output_type": "execute_result"
    }
   ],
   "source": [
    "data.head(1).T"
   ]
  },
  {
   "cell_type": "markdown",
   "id": "448bea7a",
   "metadata": {},
   "source": [
    "### Описание фичей\n",
    "\n",
    "  - **id** - Идентификатор вакансии\n",
    "  - **custom_position** - Название вакансии\n",
    "  - **operating_schedule_id** - идентификатор графика работы, возможные значения указаны ниже\n",
    "  - **salary_from** - зарплата от (всегда есть)\n",
    "  - **salary_to** - потолок зарплаты\n",
    "  - **description** - текстовое описание вакансии вместе с html тегами и знаками препинания\n",
    "  - **offer_education_id** - идентификатор образования, расшифровку см. ниже\n",
    "  - **offer_experience_year_count** - требуемый опыт (лет)\n",
    "  - **age_from** - минимальный возраст работы\n",
    "  - **age_to** - максимальный возраст работы\n",
    "  - **company_id** - идентификатор компании, встречаются вакансии без компаний\n",
    "  - **city_id** - идентификатор региона размещения (Москва и МО, ), крупные аггломерации\n",
    "  - **is_agency** - является ли компания агенством\n",
    "  - **is_nonresident** - доступна ли вакансия для иностранных граждан\n",
    "  - **is_male** - ищут работников мужского (True), женского (False) пола, в случае пустого значения пол не имеет значения\n",
    "  - **driving_license** - требуемые категории водительсктх прав\n",
    "  - **region_id** - города в которых есть офисы компании и куда производится набор сотрудников (Set)\n",
    "  - **target_prof** - рекомендуемая групповая профессия"
   ]
  },
  {
   "cell_type": "code",
   "execution_count": 6,
   "id": "59bf3093",
   "metadata": {},
   "outputs": [
    {
     "data": {
      "text/plain": [
       "id                               int64\n",
       "custom_position                 object\n",
       "operating_schedule_id            int64\n",
       "description                     object\n",
       "salary_from                      int64\n",
       "offer_education_id               int64\n",
       "age_from                       float64\n",
       "age_to                         float64\n",
       "is_agency                         bool\n",
       "is_nonresident                    bool\n",
       "offer_experience_year_count    float64\n",
       "salary_to                      float64\n",
       "is_male                         object\n",
       "driving_license                 object\n",
       "region_id                       object\n",
       "company_id                     float64\n",
       "city_id                          int64\n",
       "target_prof                     object\n",
       "dtype: object"
      ]
     },
     "execution_count": 6,
     "metadata": {},
     "output_type": "execute_result"
    }
   ],
   "source": [
    "# типы данных \n",
    "data.dtypes"
   ]
  },
  {
   "cell_type": "code",
   "execution_count": 7,
   "id": "5ff23e8a",
   "metadata": {},
   "outputs": [],
   "source": [
    "# меняем тип некоторых колонок на категориальный\n",
    "data['operating_schedule_id'] = data['operating_schedule_id'].astype('object')\n",
    "data['offer_education_id'] = data['offer_education_id'].astype('object')\n",
    "#data['is_male'] = data['is_male'].astype('bool')\n",
    "data['company_id'] = data['company_id'].astype('object')\n",
    "data['city_id'] = data['city_id'].astype('object')"
   ]
  },
  {
   "cell_type": "code",
   "execution_count": 8,
   "id": "743ac605",
   "metadata": {},
   "outputs": [
    {
     "name": "stdout",
     "output_type": "stream",
     "text": [
      "Категориальные признаки:  ['custom_position', 'operating_schedule_id', 'description', 'offer_education_id', 'is_male', 'driving_license', 'region_id', 'company_id', 'city_id', 'target_prof']\n",
      "Числовые признаки:  ['id', 'salary_from', 'age_from', 'age_to', 'is_agency', 'is_nonresident', 'offer_experience_year_count', 'salary_to']\n"
     ]
    }
   ],
   "source": [
    "categorical_columns = [c for c in data.columns if data[c].dtype.name == 'object']\n",
    "numerical_columns   = [c for c in data.columns if data[c].dtype.name != 'object']\n",
    "print('Категориальные признаки: ', categorical_columns)\n",
    "print('Числовые признаки: ', numerical_columns)"
   ]
  },
  {
   "cell_type": "code",
   "execution_count": 9,
   "id": "2c614b98",
   "metadata": {},
   "outputs": [
    {
     "data": {
      "text/plain": [
       "(56297, 18)"
      ]
     },
     "execution_count": 9,
     "metadata": {},
     "output_type": "execute_result"
    }
   ],
   "source": [
    "# кол-во строк (вакансий) и колонок (их признаков)\n",
    "data.shape"
   ]
  },
  {
   "cell_type": "code",
   "execution_count": 10,
   "id": "99c17121",
   "metadata": {},
   "outputs": [
    {
     "name": "stdout",
     "output_type": "stream",
     "text": [
      "<class 'pandas.core.frame.DataFrame'>\n",
      "RangeIndex: 56297 entries, 0 to 56296\n",
      "Data columns (total 18 columns):\n",
      " #   Column                       Non-Null Count  Dtype  \n",
      "---  ------                       --------------  -----  \n",
      " 0   id                           56297 non-null  int64  \n",
      " 1   custom_position              56297 non-null  object \n",
      " 2   operating_schedule_id        56297 non-null  object \n",
      " 3   description                  56297 non-null  object \n",
      " 4   salary_from                  56297 non-null  int64  \n",
      " 5   offer_education_id           56297 non-null  object \n",
      " 6   age_from                     15798 non-null  float64\n",
      " 7   age_to                       12931 non-null  float64\n",
      " 8   is_agency                    56297 non-null  bool   \n",
      " 9   is_nonresident               56297 non-null  bool   \n",
      " 10  offer_experience_year_count  38622 non-null  float64\n",
      " 11  salary_to                    34829 non-null  float64\n",
      " 12  is_male                      8804 non-null   object \n",
      " 13  driving_license              56297 non-null  object \n",
      " 14  region_id                    56297 non-null  object \n",
      " 15  company_id                   42499 non-null  object \n",
      " 16  city_id                      56297 non-null  object \n",
      " 17  target_prof                  56297 non-null  object \n",
      "dtypes: bool(2), float64(4), int64(2), object(10)\n",
      "memory usage: 7.0+ MB\n"
     ]
    }
   ],
   "source": [
    "data.info()"
   ]
  },
  {
   "cell_type": "code",
   "execution_count": 11,
   "id": "ba4c1cb3",
   "metadata": {},
   "outputs": [
    {
     "data": {
      "text/html": [
       "<div>\n",
       "<style scoped>\n",
       "    .dataframe tbody tr th:only-of-type {\n",
       "        vertical-align: middle;\n",
       "    }\n",
       "\n",
       "    .dataframe tbody tr th {\n",
       "        vertical-align: top;\n",
       "    }\n",
       "\n",
       "    .dataframe thead th {\n",
       "        text-align: right;\n",
       "    }\n",
       "</style>\n",
       "<table border=\"1\" class=\"dataframe\">\n",
       "  <thead>\n",
       "    <tr style=\"text-align: right;\">\n",
       "      <th></th>\n",
       "      <th>count</th>\n",
       "      <th>mean</th>\n",
       "      <th>std</th>\n",
       "      <th>min</th>\n",
       "      <th>25%</th>\n",
       "      <th>50%</th>\n",
       "      <th>75%</th>\n",
       "      <th>max</th>\n",
       "    </tr>\n",
       "  </thead>\n",
       "  <tbody>\n",
       "    <tr>\n",
       "      <th>id</th>\n",
       "      <td>56297.0</td>\n",
       "      <td>235876.626019</td>\n",
       "      <td>135901.728858</td>\n",
       "      <td>18.0</td>\n",
       "      <td>118547.0</td>\n",
       "      <td>235786.0</td>\n",
       "      <td>353529.0</td>\n",
       "      <td>471177.0</td>\n",
       "    </tr>\n",
       "    <tr>\n",
       "      <th>salary_from</th>\n",
       "      <td>56297.0</td>\n",
       "      <td>38151.308773</td>\n",
       "      <td>86681.631959</td>\n",
       "      <td>-1.0</td>\n",
       "      <td>20000.0</td>\n",
       "      <td>35000.0</td>\n",
       "      <td>53000.0</td>\n",
       "      <td>19002500.0</td>\n",
       "    </tr>\n",
       "    <tr>\n",
       "      <th>age_from</th>\n",
       "      <td>15798.0</td>\n",
       "      <td>20.425434</td>\n",
       "      <td>4.056352</td>\n",
       "      <td>14.0</td>\n",
       "      <td>18.0</td>\n",
       "      <td>18.0</td>\n",
       "      <td>22.0</td>\n",
       "      <td>60.0</td>\n",
       "    </tr>\n",
       "    <tr>\n",
       "      <th>age_to</th>\n",
       "      <td>12931.0</td>\n",
       "      <td>53.606604</td>\n",
       "      <td>12.556347</td>\n",
       "      <td>22.0</td>\n",
       "      <td>45.0</td>\n",
       "      <td>52.0</td>\n",
       "      <td>60.0</td>\n",
       "      <td>99.0</td>\n",
       "    </tr>\n",
       "    <tr>\n",
       "      <th>offer_experience_year_count</th>\n",
       "      <td>38622.0</td>\n",
       "      <td>-34.882140</td>\n",
       "      <td>48.606458</td>\n",
       "      <td>-100.0</td>\n",
       "      <td>-100.0</td>\n",
       "      <td>0.0</td>\n",
       "      <td>1.0</td>\n",
       "      <td>10.0</td>\n",
       "    </tr>\n",
       "    <tr>\n",
       "      <th>salary_to</th>\n",
       "      <td>34829.0</td>\n",
       "      <td>46912.823423</td>\n",
       "      <td>111741.706222</td>\n",
       "      <td>-1.0</td>\n",
       "      <td>20000.0</td>\n",
       "      <td>40000.0</td>\n",
       "      <td>65000.0</td>\n",
       "      <td>19002500.0</td>\n",
       "    </tr>\n",
       "  </tbody>\n",
       "</table>\n",
       "</div>"
      ],
      "text/plain": [
       "                               count           mean            std    min  \\\n",
       "id                           56297.0  235876.626019  135901.728858   18.0   \n",
       "salary_from                  56297.0   38151.308773   86681.631959   -1.0   \n",
       "age_from                     15798.0      20.425434       4.056352   14.0   \n",
       "age_to                       12931.0      53.606604      12.556347   22.0   \n",
       "offer_experience_year_count  38622.0     -34.882140      48.606458 -100.0   \n",
       "salary_to                    34829.0   46912.823423  111741.706222   -1.0   \n",
       "\n",
       "                                  25%       50%       75%         max  \n",
       "id                           118547.0  235786.0  353529.0    471177.0  \n",
       "salary_from                   20000.0   35000.0   53000.0  19002500.0  \n",
       "age_from                         18.0      18.0      22.0        60.0  \n",
       "age_to                           45.0      52.0      60.0        99.0  \n",
       "offer_experience_year_count    -100.0       0.0       1.0        10.0  \n",
       "salary_to                     20000.0   40000.0   65000.0  19002500.0  "
      ]
     },
     "execution_count": 11,
     "metadata": {},
     "output_type": "execute_result"
    }
   ],
   "source": [
    "# описательная статистика по числоавым признакам\n",
    "data.describe().T"
   ]
  },
  {
   "cell_type": "code",
   "execution_count": 12,
   "id": "a019eb91",
   "metadata": {},
   "outputs": [
    {
     "data": {
      "text/html": [
       "<div>\n",
       "<style scoped>\n",
       "    .dataframe tbody tr th:only-of-type {\n",
       "        vertical-align: middle;\n",
       "    }\n",
       "\n",
       "    .dataframe tbody tr th {\n",
       "        vertical-align: top;\n",
       "    }\n",
       "\n",
       "    .dataframe thead th {\n",
       "        text-align: right;\n",
       "    }\n",
       "</style>\n",
       "<table border=\"1\" class=\"dataframe\">\n",
       "  <thead>\n",
       "    <tr style=\"text-align: right;\">\n",
       "      <th></th>\n",
       "      <th>count</th>\n",
       "      <th>unique</th>\n",
       "      <th>top</th>\n",
       "      <th>freq</th>\n",
       "    </tr>\n",
       "  </thead>\n",
       "  <tbody>\n",
       "    <tr>\n",
       "      <th>custom_position</th>\n",
       "      <td>56297</td>\n",
       "      <td>14345</td>\n",
       "      <td>Грузчик</td>\n",
       "      <td>981</td>\n",
       "    </tr>\n",
       "    <tr>\n",
       "      <th>operating_schedule_id</th>\n",
       "      <td>56297</td>\n",
       "      <td>6</td>\n",
       "      <td>1</td>\n",
       "      <td>27010</td>\n",
       "    </tr>\n",
       "    <tr>\n",
       "      <th>description</th>\n",
       "      <td>56297</td>\n",
       "      <td>41692</td>\n",
       "      <td>&lt;br /&gt;\\nТребования: &lt;br&gt; &lt;br /&gt;\\nИнформация о ...</td>\n",
       "      <td>293</td>\n",
       "    </tr>\n",
       "    <tr>\n",
       "      <th>offer_education_id</th>\n",
       "      <td>56297</td>\n",
       "      <td>5</td>\n",
       "      <td>0</td>\n",
       "      <td>47394</td>\n",
       "    </tr>\n",
       "    <tr>\n",
       "      <th>is_male</th>\n",
       "      <td>8804</td>\n",
       "      <td>2</td>\n",
       "      <td>True</td>\n",
       "      <td>6912</td>\n",
       "    </tr>\n",
       "    <tr>\n",
       "      <th>driving_license</th>\n",
       "      <td>56297</td>\n",
       "      <td>16</td>\n",
       "      <td>[]</td>\n",
       "      <td>54806</td>\n",
       "    </tr>\n",
       "    <tr>\n",
       "      <th>region_id</th>\n",
       "      <td>56297</td>\n",
       "      <td>1486</td>\n",
       "      <td>{3}</td>\n",
       "      <td>18167</td>\n",
       "    </tr>\n",
       "    <tr>\n",
       "      <th>company_id</th>\n",
       "      <td>42499.0</td>\n",
       "      <td>10218.0</td>\n",
       "      <td>1234787.0</td>\n",
       "      <td>2040.0</td>\n",
       "    </tr>\n",
       "    <tr>\n",
       "      <th>city_id</th>\n",
       "      <td>56297</td>\n",
       "      <td>67</td>\n",
       "      <td>1</td>\n",
       "      <td>16144</td>\n",
       "    </tr>\n",
       "    <tr>\n",
       "      <th>target_prof</th>\n",
       "      <td>56297</td>\n",
       "      <td>521</td>\n",
       "      <td>водитель</td>\n",
       "      <td>4885</td>\n",
       "    </tr>\n",
       "  </tbody>\n",
       "</table>\n",
       "</div>"
      ],
      "text/plain": [
       "                         count   unique  \\\n",
       "custom_position          56297    14345   \n",
       "operating_schedule_id    56297        6   \n",
       "description              56297    41692   \n",
       "offer_education_id       56297        5   \n",
       "is_male                   8804        2   \n",
       "driving_license          56297       16   \n",
       "region_id                56297     1486   \n",
       "company_id             42499.0  10218.0   \n",
       "city_id                  56297       67   \n",
       "target_prof              56297      521   \n",
       "\n",
       "                                                                     top  \\\n",
       "custom_position                                                  Грузчик   \n",
       "operating_schedule_id                                                  1   \n",
       "description            <br />\\nТребования: <br> <br />\\nИнформация о ...   \n",
       "offer_education_id                                                     0   \n",
       "is_male                                                             True   \n",
       "driving_license                                                       []   \n",
       "region_id                                                            {3}   \n",
       "company_id                                                     1234787.0   \n",
       "city_id                                                                1   \n",
       "target_prof                                                     водитель   \n",
       "\n",
       "                         freq  \n",
       "custom_position           981  \n",
       "operating_schedule_id   27010  \n",
       "description               293  \n",
       "offer_education_id      47394  \n",
       "is_male                  6912  \n",
       "driving_license         54806  \n",
       "region_id               18167  \n",
       "company_id             2040.0  \n",
       "city_id                 16144  \n",
       "target_prof              4885  "
      ]
     },
     "execution_count": 12,
     "metadata": {},
     "output_type": "execute_result"
    }
   ],
   "source": [
    "# описательная статистика по категориальным признакам\n",
    "data[categorical_columns].describe().T"
   ]
  },
  {
   "cell_type": "markdown",
   "id": "6ff1a285",
   "metadata": {},
   "source": [
    "## Исследование признаков"
   ]
  },
  {
   "cell_type": "markdown",
   "id": "713cf617",
   "metadata": {},
   "source": [
    "### рекомендуемая групповая профессия (целевая переменная)"
   ]
  },
  {
   "cell_type": "code",
   "execution_count": 13,
   "id": "649d5bde",
   "metadata": {},
   "outputs": [
    {
     "data": {
      "text/plain": [
       "521"
      ]
     },
     "execution_count": 13,
     "metadata": {},
     "output_type": "execute_result"
    }
   ],
   "source": [
    "# сколько уникальных групповых профессий ?\n",
    "data['target_prof'].nunique()"
   ]
  },
  {
   "cell_type": "code",
   "execution_count": 14,
   "id": "b3751d02",
   "metadata": {},
   "outputs": [
    {
     "data": {
      "text/plain": [
       "array(['рабочий', 'разнорабочий', 'повар', 'представитель', 'слесарь',\n",
       "       'специалист', 'электромонтер', 'колорист', 'водитель',\n",
       "       'администратор'], dtype=object)"
      ]
     },
     "execution_count": 14,
     "metadata": {},
     "output_type": "execute_result"
    }
   ],
   "source": [
    "data['target_prof'].unique()[:10]"
   ]
  },
  {
   "cell_type": "code",
   "execution_count": 15,
   "id": "2f0e80c6",
   "metadata": {},
   "outputs": [
    {
     "data": {
      "text/plain": [
       "водитель       4885\n",
       "продавец       3360\n",
       "менеджер       2399\n",
       "повар          2284\n",
       "грузчик        2137\n",
       "               ... \n",
       "рецептурщик       1\n",
       "кинолог           1\n",
       "стрелок           1\n",
       "армировщик        1\n",
       "стерженщик        1\n",
       "Name: target_prof, Length: 521, dtype: int64"
      ]
     },
     "execution_count": 15,
     "metadata": {},
     "output_type": "execute_result"
    }
   ],
   "source": [
    "# статистика распределения профессий (в абсолютных значениях)\n",
    "data['target_prof'].value_counts()"
   ]
  },
  {
   "cell_type": "code",
   "execution_count": 16,
   "id": "d4046648",
   "metadata": {},
   "outputs": [
    {
     "data": {
      "text/plain": [
       "водитель       0.086772\n",
       "продавец       0.059683\n",
       "менеджер       0.042613\n",
       "повар          0.040571\n",
       "грузчик        0.037959\n",
       "                 ...   \n",
       "рецептурщик    0.000018\n",
       "кинолог        0.000018\n",
       "стрелок        0.000018\n",
       "армировщик     0.000018\n",
       "стерженщик     0.000018\n",
       "Name: target_prof, Length: 521, dtype: float64"
      ]
     },
     "execution_count": 16,
     "metadata": {},
     "output_type": "execute_result"
    }
   ],
   "source": [
    "# статистика распределения профессий (в относительных долях)\n",
    "data['target_prof'].value_counts(normalize = True)"
   ]
  },
  {
   "cell_type": "code",
   "execution_count": 17,
   "id": "d021c491",
   "metadata": {},
   "outputs": [],
   "source": [
    "#data['target_prof'].hist()"
   ]
  },
  {
   "cell_type": "markdown",
   "id": "63296a4c",
   "metadata": {},
   "source": [
    "## Визуализация"
   ]
  },
  {
   "cell_type": "code",
   "execution_count": 18,
   "id": "dc173d97",
   "metadata": {},
   "outputs": [],
   "source": [
    "#sns.pairplot(data)"
   ]
  },
  {
   "cell_type": "code",
   "execution_count": 19,
   "id": "2779b04d",
   "metadata": {},
   "outputs": [
    {
     "data": {
      "text/html": [
       "<div>\n",
       "<style scoped>\n",
       "    .dataframe tbody tr th:only-of-type {\n",
       "        vertical-align: middle;\n",
       "    }\n",
       "\n",
       "    .dataframe tbody tr th {\n",
       "        vertical-align: top;\n",
       "    }\n",
       "\n",
       "    .dataframe thead th {\n",
       "        text-align: right;\n",
       "    }\n",
       "</style>\n",
       "<table border=\"1\" class=\"dataframe\">\n",
       "  <thead>\n",
       "    <tr style=\"text-align: right;\">\n",
       "      <th></th>\n",
       "      <th>id</th>\n",
       "      <th>salary_from</th>\n",
       "      <th>age_from</th>\n",
       "      <th>age_to</th>\n",
       "      <th>is_agency</th>\n",
       "      <th>is_nonresident</th>\n",
       "      <th>offer_experience_year_count</th>\n",
       "      <th>salary_to</th>\n",
       "    </tr>\n",
       "  </thead>\n",
       "  <tbody>\n",
       "    <tr>\n",
       "      <th>id</th>\n",
       "      <td>1.000000</td>\n",
       "      <td>0.000573</td>\n",
       "      <td>0.009224</td>\n",
       "      <td>-0.150269</td>\n",
       "      <td>-0.048694</td>\n",
       "      <td>0.048434</td>\n",
       "      <td>-0.029145</td>\n",
       "      <td>0.010016</td>\n",
       "    </tr>\n",
       "    <tr>\n",
       "      <th>salary_from</th>\n",
       "      <td>0.000573</td>\n",
       "      <td>1.000000</td>\n",
       "      <td>0.207308</td>\n",
       "      <td>0.000840</td>\n",
       "      <td>0.046251</td>\n",
       "      <td>0.049817</td>\n",
       "      <td>0.166805</td>\n",
       "      <td>0.966633</td>\n",
       "    </tr>\n",
       "    <tr>\n",
       "      <th>age_from</th>\n",
       "      <td>0.009224</td>\n",
       "      <td>0.207308</td>\n",
       "      <td>1.000000</td>\n",
       "      <td>-0.107405</td>\n",
       "      <td>-0.006695</td>\n",
       "      <td>-0.002874</td>\n",
       "      <td>0.422167</td>\n",
       "      <td>0.092278</td>\n",
       "    </tr>\n",
       "    <tr>\n",
       "      <th>age_to</th>\n",
       "      <td>-0.150269</td>\n",
       "      <td>0.000840</td>\n",
       "      <td>-0.107405</td>\n",
       "      <td>1.000000</td>\n",
       "      <td>-0.017456</td>\n",
       "      <td>0.184849</td>\n",
       "      <td>-0.230461</td>\n",
       "      <td>-0.026269</td>\n",
       "    </tr>\n",
       "    <tr>\n",
       "      <th>is_agency</th>\n",
       "      <td>-0.048694</td>\n",
       "      <td>0.046251</td>\n",
       "      <td>-0.006695</td>\n",
       "      <td>-0.017456</td>\n",
       "      <td>1.000000</td>\n",
       "      <td>0.066788</td>\n",
       "      <td>0.008550</td>\n",
       "      <td>0.044461</td>\n",
       "    </tr>\n",
       "    <tr>\n",
       "      <th>is_nonresident</th>\n",
       "      <td>0.048434</td>\n",
       "      <td>0.049817</td>\n",
       "      <td>-0.002874</td>\n",
       "      <td>0.184849</td>\n",
       "      <td>0.066788</td>\n",
       "      <td>1.000000</td>\n",
       "      <td>0.079616</td>\n",
       "      <td>0.065214</td>\n",
       "    </tr>\n",
       "    <tr>\n",
       "      <th>offer_experience_year_count</th>\n",
       "      <td>-0.029145</td>\n",
       "      <td>0.166805</td>\n",
       "      <td>0.422167</td>\n",
       "      <td>-0.230461</td>\n",
       "      <td>0.008550</td>\n",
       "      <td>0.079616</td>\n",
       "      <td>1.000000</td>\n",
       "      <td>0.059082</td>\n",
       "    </tr>\n",
       "    <tr>\n",
       "      <th>salary_to</th>\n",
       "      <td>0.010016</td>\n",
       "      <td>0.966633</td>\n",
       "      <td>0.092278</td>\n",
       "      <td>-0.026269</td>\n",
       "      <td>0.044461</td>\n",
       "      <td>0.065214</td>\n",
       "      <td>0.059082</td>\n",
       "      <td>1.000000</td>\n",
       "    </tr>\n",
       "  </tbody>\n",
       "</table>\n",
       "</div>"
      ],
      "text/plain": [
       "                                   id  salary_from  age_from    age_to  \\\n",
       "id                           1.000000     0.000573  0.009224 -0.150269   \n",
       "salary_from                  0.000573     1.000000  0.207308  0.000840   \n",
       "age_from                     0.009224     0.207308  1.000000 -0.107405   \n",
       "age_to                      -0.150269     0.000840 -0.107405  1.000000   \n",
       "is_agency                   -0.048694     0.046251 -0.006695 -0.017456   \n",
       "is_nonresident               0.048434     0.049817 -0.002874  0.184849   \n",
       "offer_experience_year_count -0.029145     0.166805  0.422167 -0.230461   \n",
       "salary_to                    0.010016     0.966633  0.092278 -0.026269   \n",
       "\n",
       "                             is_agency  is_nonresident  \\\n",
       "id                           -0.048694        0.048434   \n",
       "salary_from                   0.046251        0.049817   \n",
       "age_from                     -0.006695       -0.002874   \n",
       "age_to                       -0.017456        0.184849   \n",
       "is_agency                     1.000000        0.066788   \n",
       "is_nonresident                0.066788        1.000000   \n",
       "offer_experience_year_count   0.008550        0.079616   \n",
       "salary_to                     0.044461        0.065214   \n",
       "\n",
       "                             offer_experience_year_count  salary_to  \n",
       "id                                             -0.029145   0.010016  \n",
       "salary_from                                     0.166805   0.966633  \n",
       "age_from                                        0.422167   0.092278  \n",
       "age_to                                         -0.230461  -0.026269  \n",
       "is_agency                                       0.008550   0.044461  \n",
       "is_nonresident                                  0.079616   0.065214  \n",
       "offer_experience_year_count                     1.000000   0.059082  \n",
       "salary_to                                       0.059082   1.000000  "
      ]
     },
     "execution_count": 19,
     "metadata": {},
     "output_type": "execute_result"
    }
   ],
   "source": [
    "# матрица корреляций\n",
    "data.corr()"
   ]
  },
  {
   "cell_type": "code",
   "execution_count": 20,
   "id": "72c1b58b",
   "metadata": {},
   "outputs": [],
   "source": [
    "#sns.heatmap(data[numerical_columns])"
   ]
  },
  {
   "cell_type": "markdown",
   "id": "8bf2934a",
   "metadata": {},
   "source": [
    "## Предобработка данных"
   ]
  },
  {
   "cell_type": "code",
   "execution_count": 21,
   "id": "f1ff2a00",
   "metadata": {},
   "outputs": [
    {
     "data": {
      "text/plain": [
       "1    27010\n",
       "3    12861\n",
       "7    11368\n",
       "2     2943\n",
       "5     1432\n",
       "6      683\n",
       "Name: operating_schedule_id, dtype: int64"
      ]
     },
     "execution_count": 21,
     "metadata": {},
     "output_type": "execute_result"
    }
   ],
   "source": [
    "data['operating_schedule_id'].value_counts()"
   ]
  },
  {
   "cell_type": "markdown",
   "id": "90604f8e",
   "metadata": {},
   "source": [
    "### Удаление выбросов в числовых полях (salary_from, salary_to)"
   ]
  },
  {
   "cell_type": "code",
   "execution_count": 22,
   "id": "81dcca80",
   "metadata": {},
   "outputs": [
    {
     "data": {
      "text/plain": [
       "count    5.629700e+04\n",
       "mean     3.815131e+04\n",
       "std      8.668163e+04\n",
       "min     -1.000000e+00\n",
       "25%      2.000000e+04\n",
       "50%      3.500000e+04\n",
       "75%      5.300000e+04\n",
       "max      1.900250e+07\n",
       "Name: salary_from, dtype: float64"
      ]
     },
     "execution_count": 22,
     "metadata": {},
     "output_type": "execute_result"
    }
   ],
   "source": [
    "data['salary_from'].describe()"
   ]
  },
  {
   "cell_type": "code",
   "execution_count": 23,
   "id": "dcfe143f",
   "metadata": {},
   "outputs": [
    {
     "data": {
      "text/plain": [
       "56297"
      ]
     },
     "execution_count": 23,
     "metadata": {},
     "output_type": "execute_result"
    }
   ],
   "source": [
    "data['salary_from'].count()"
   ]
  },
  {
   "cell_type": "code",
   "execution_count": 24,
   "id": "9571b541",
   "metadata": {},
   "outputs": [
    {
     "data": {
      "text/plain": [
       "<AxesSubplot:>"
      ]
     },
     "execution_count": 24,
     "metadata": {},
     "output_type": "execute_result"
    },
    {
     "data": {
      "image/png": "[encoded data removed]",
      "text/plain": [
       "<Figure size 432x288 with 1 Axes>"
      ]
     },
     "metadata": {},
     "output_type": "display_data"
    }
   ],
   "source": [
    "data['salary_from'].plot()"
   ]
  },
  {
   "cell_type": "code",
   "execution_count": 25,
   "id": "be3610cc",
   "metadata": {},
   "outputs": [
    {
     "data": {
      "text/plain": [
       "19002500"
      ]
     },
     "execution_count": 25,
     "metadata": {},
     "output_type": "execute_result"
    }
   ],
   "source": [
    "max(data['salary_from'])"
   ]
  },
  {
   "cell_type": "code",
   "execution_count": 26,
   "id": "c9378ea0",
   "metadata": {},
   "outputs": [],
   "source": [
    "z_scores = scipy.stats.zscore(data['salary_from'])\n",
    "abs_z_scores  = np.abs(z_scores)\n",
    "\n",
    "#outliers_indeces = data['salary_from'][abs_z_scores > 4].index\n",
    "#data.iloc[ outliers_indeces ]\n",
    "#outliers_indeces.remove(46401)\n",
    "\n",
    "#len(data.drop(data['salary_from'][abs_z_scores > 4].index))\n",
    "data.drop(data['salary_from'][abs_z_scores > 4].index, inplace=True)"
   ]
  },
  {
   "cell_type": "code",
   "execution_count": 27,
   "id": "00ea1ed9",
   "metadata": {},
   "outputs": [
    {
     "name": "stdout",
     "output_type": "stream",
     "text": [
      "34824\n"
     ]
    },
    {
     "data": {
      "text/plain": [
       "count    3.482400e+04\n",
       "mean     4.615565e+04\n",
       "std      4.157114e+04\n",
       "min     -1.000000e+00\n",
       "25%      2.000000e+04\n",
       "50%      4.000000e+04\n",
       "75%      6.500000e+04\n",
       "max      1.150000e+06\n",
       "Name: salary_to, dtype: float64"
      ]
     },
     "execution_count": 27,
     "metadata": {},
     "output_type": "execute_result"
    }
   ],
   "source": [
    "print(data['salary_to'].count())\n",
    "data['salary_to'].describe()"
   ]
  },
  {
   "cell_type": "code",
   "execution_count": 28,
   "id": "52a325e1",
   "metadata": {},
   "outputs": [
    {
     "data": {
      "text/plain": [
       "<AxesSubplot:>"
      ]
     },
     "execution_count": 28,
     "metadata": {},
     "output_type": "execute_result"
    },
    {
     "data": {
      "image/png": "[encoded data removed]",
      "text/plain": [
       "<Figure size 432x288 with 1 Axes>"
      ]
     },
     "metadata": {},
     "output_type": "display_data"
    }
   ],
   "source": [
    "data['salary_to'].hist()"
   ]
  },
  {
   "cell_type": "code",
   "execution_count": 29,
   "id": "b16660c3",
   "metadata": {},
   "outputs": [],
   "source": [
    "# удаляем строку с максимальной salary_to - это единственный выброс в этом поле\n",
    "#data['salary_to'].quantile(0.9)\n",
    "#data[ data['salary_to'] == data['salary_to'].max() ]\n",
    "\n",
    "data.drop( data[data['salary_to'] == data['salary_to'].max()].index, inplace=True)"
   ]
  },
  {
   "cell_type": "code",
   "execution_count": 30,
   "id": "b9a716a8",
   "metadata": {},
   "outputs": [],
   "source": [
    "data.drop( data[data['salary_to'] == -1].index, inplace=True)"
   ]
  },
  {
   "cell_type": "code",
   "execution_count": 31,
   "id": "a711a84f",
   "metadata": {},
   "outputs": [],
   "source": [
    "# значения salary_to == 0 заменяем на salary_from\n",
    "sf = data[data['salary_to'] == 0]['salary_from']\n",
    "data.loc[data['salary_to'] == 0, 'salary_to'] = sf"
   ]
  },
  {
   "cell_type": "code",
   "execution_count": 32,
   "id": "dd2f9834",
   "metadata": {},
   "outputs": [],
   "source": [
    "data.drop( data[data['salary_to'] == 0].index, inplace=True)"
   ]
  },
  {
   "cell_type": "markdown",
   "id": "d4ea0d53",
   "metadata": {},
   "source": [
    "### Заполнение пропущенных значений"
   ]
  },
  {
   "cell_type": "code",
   "execution_count": 33,
   "id": "515b4641",
   "metadata": {},
   "outputs": [
    {
     "data": {
      "text/plain": [
       "id                             48806\n",
       "custom_position                48806\n",
       "operating_schedule_id          48806\n",
       "description                    48806\n",
       "salary_from                    48806\n",
       "offer_education_id             48806\n",
       "age_from                       14797\n",
       "age_to                         12014\n",
       "is_agency                      48806\n",
       "is_nonresident                 48806\n",
       "offer_experience_year_count    34801\n",
       "salary_to                      27344\n",
       "is_male                         8118\n",
       "driving_license                48806\n",
       "region_id                      48806\n",
       "company_id                     38737\n",
       "city_id                        48806\n",
       "target_prof                    48806\n",
       "dtype: int64"
      ]
     },
     "execution_count": 33,
     "metadata": {},
     "output_type": "execute_result"
    }
   ],
   "source": [
    "data.count(axis=0)"
   ]
  },
  {
   "cell_type": "code",
   "execution_count": 34,
   "id": "67640d0d",
   "metadata": {},
   "outputs": [],
   "source": [
    "# для записей, где не указана верхняя планка зарплаты, берём значение из нижней планки\n",
    "data['salary_to'].fillna(data['salary_from'], axis=0, inplace=True)"
   ]
  },
  {
   "cell_type": "code",
   "execution_count": 35,
   "id": "5b9f5469",
   "metadata": {},
   "outputs": [
    {
     "data": {
      "text/plain": [
       "count    14797.000000\n",
       "mean        20.371629\n",
       "std          4.013725\n",
       "min         14.000000\n",
       "25%         18.000000\n",
       "50%         18.000000\n",
       "75%         21.000000\n",
       "max         60.000000\n",
       "Name: age_from, dtype: float64"
      ]
     },
     "execution_count": 35,
     "metadata": {},
     "output_type": "execute_result"
    }
   ],
   "source": [
    "data['age_from'].describe()"
   ]
  },
  {
   "cell_type": "code",
   "execution_count": 36,
   "id": "62aef77a",
   "metadata": {},
   "outputs": [
    {
     "data": {
      "text/plain": [
       "0    18.0\n",
       "dtype: float64"
      ]
     },
     "execution_count": 36,
     "metadata": {},
     "output_type": "execute_result"
    }
   ],
   "source": [
    "data['age_from'].mode()"
   ]
  },
  {
   "cell_type": "code",
   "execution_count": 37,
   "id": "00b7a255",
   "metadata": {},
   "outputs": [
    {
     "data": {
      "text/plain": [
       "<AxesSubplot:>"
      ]
     },
     "execution_count": 37,
     "metadata": {},
     "output_type": "execute_result"
    },
    {
     "data": {
      "image/png": "[encoded data removed]",
      "text/plain": [
       "<Figure size 432x288 with 1 Axes>"
      ]
     },
     "metadata": {},
     "output_type": "display_data"
    }
   ],
   "source": [
    "data['age_from'].hist()"
   ]
  },
  {
   "cell_type": "code",
   "execution_count": 38,
   "id": "6831430a",
   "metadata": {},
   "outputs": [],
   "source": [
    "# \"возраст от\" заменяем на моду (наиболее часто встречающееся значение)\n",
    "data['age_from'].fillna(int(data['age_from'].mode()), axis=0, inplace=True)"
   ]
  },
  {
   "cell_type": "code",
   "execution_count": 39,
   "id": "a22bc9ff",
   "metadata": {},
   "outputs": [
    {
     "data": {
      "text/plain": [
       "count    12014.000000\n",
       "mean        53.609289\n",
       "std         12.548078\n",
       "min         22.000000\n",
       "25%         45.000000\n",
       "50%         52.000000\n",
       "75%         60.000000\n",
       "max         99.000000\n",
       "Name: age_to, dtype: float64"
      ]
     },
     "execution_count": 39,
     "metadata": {},
     "output_type": "execute_result"
    }
   ],
   "source": [
    "data['age_to'].describe()\n",
    "#data['age_to'].hist()"
   ]
  },
  {
   "cell_type": "code",
   "execution_count": 40,
   "id": "d7463201",
   "metadata": {},
   "outputs": [],
   "source": [
    "# \"возраст до\" заменяем на среднее значение\n",
    "data['age_to'].fillna(data['age_to'].mean(axis=0), axis=0, inplace=True)"
   ]
  },
  {
   "cell_type": "code",
   "execution_count": 41,
   "id": "e482148b",
   "metadata": {},
   "outputs": [
    {
     "data": {
      "text/plain": [
       "count    34801.000000\n",
       "mean       -36.159421\n",
       "std         48.943022\n",
       "min       -100.000000\n",
       "25%       -100.000000\n",
       "50%          0.000000\n",
       "75%          1.000000\n",
       "max         10.000000\n",
       "Name: offer_experience_year_count, dtype: float64"
      ]
     },
     "execution_count": 41,
     "metadata": {},
     "output_type": "execute_result"
    }
   ],
   "source": [
    "# исследуем переменную \"требуемый опыт (лет)\"\n",
    "data['offer_experience_year_count'].describe()"
   ]
  },
  {
   "cell_type": "code",
   "execution_count": 42,
   "id": "cb651c6e",
   "metadata": {},
   "outputs": [
    {
     "data": {
      "text/plain": [
       "<AxesSubplot:>"
      ]
     },
     "execution_count": 42,
     "metadata": {},
     "output_type": "execute_result"
    },
    {
     "data": {
      "image/png": "[encoded data removed]",
      "text/plain": [
       "<Figure size 432x288 with 1 Axes>"
      ]
     },
     "metadata": {},
     "output_type": "display_data"
    }
   ],
   "source": [
    "data['offer_experience_year_count'].hist()"
   ]
  },
  {
   "cell_type": "code",
   "execution_count": 43,
   "id": "abfe1472",
   "metadata": {},
   "outputs": [
    {
     "data": {
      "text/plain": [
       "<AxesSubplot:>"
      ]
     },
     "execution_count": 43,
     "metadata": {},
     "output_type": "execute_result"
    },
    {
     "data": {
      "image/png": "[encoded data removed]",
      "text/plain": [
       "<Figure size 432x288 with 1 Axes>"
      ]
     },
     "metadata": {},
     "output_type": "display_data"
    }
   ],
   "source": [
    "(data[ data['offer_experience_year_count'] > 0 ]['offer_experience_year_count']).hist()"
   ]
  },
  {
   "cell_type": "code",
   "execution_count": 44,
   "id": "c5e08883",
   "metadata": {},
   "outputs": [],
   "source": [
    "data.loc[ data['offer_experience_year_count'] < 0, 'offer_experience_year_count'] = None"
   ]
  },
  {
   "cell_type": "code",
   "execution_count": 45,
   "id": "6109a551",
   "metadata": {},
   "outputs": [
    {
     "name": "stdout",
     "output_type": "stream",
     "text": [
      "1.7731774638740054\n"
     ]
    }
   ],
   "source": [
    "# заменяем требуемый опыт на среднее значение\n",
    "print(data['offer_experience_year_count'].mean(axis=0))\n",
    "data['offer_experience_year_count'].fillna(data['offer_experience_year_count'].mean(axis=0), axis=0, inplace=True)"
   ]
  },
  {
   "cell_type": "code",
   "execution_count": 46,
   "id": "ce248cf5",
   "metadata": {},
   "outputs": [
    {
     "data": {
      "text/plain": [
       "count       38737.0\n",
       "unique       9045.0\n",
       "top       1234787.0\n",
       "freq         1989.0\n",
       "Name: company_id, dtype: float64"
      ]
     },
     "execution_count": 46,
     "metadata": {},
     "output_type": "execute_result"
    }
   ],
   "source": [
    "# для каиегориальной переменной company_id заменяем пропуски на самое популярное значение\n",
    "data['company_id'].describe()"
   ]
  },
  {
   "cell_type": "code",
   "execution_count": 47,
   "id": "4de34c49",
   "metadata": {},
   "outputs": [],
   "source": [
    "data['company_id'].fillna(data['company_id'].describe().top, axis=0, inplace=True)"
   ]
  },
  {
   "cell_type": "code",
   "execution_count": 48,
   "id": "08cd7a44",
   "metadata": {},
   "outputs": [
    {
     "data": {
      "text/plain": [
       "count     48806\n",
       "unique        6\n",
       "top           1\n",
       "freq      21976\n",
       "Name: operating_schedule_id, dtype: int64"
      ]
     },
     "execution_count": 48,
     "metadata": {},
     "output_type": "execute_result"
    }
   ],
   "source": [
    "# для каиегориальной переменной operating_schedule_id заменяем пропуски на самое популярное значение\n",
    "data['operating_schedule_id'].describe()"
   ]
  },
  {
   "cell_type": "code",
   "execution_count": 49,
   "id": "411159b9",
   "metadata": {},
   "outputs": [],
   "source": [
    "data['operating_schedule_id'].fillna(data['operating_schedule_id'].describe().top, axis=0, inplace=True)"
   ]
  },
  {
   "cell_type": "code",
   "execution_count": 50,
   "id": "a8870815",
   "metadata": {},
   "outputs": [
    {
     "data": {
      "text/plain": [
       "count     8118\n",
       "unique       2\n",
       "top       True\n",
       "freq      6388\n",
       "Name: is_male, dtype: object"
      ]
     },
     "execution_count": 50,
     "metadata": {},
     "output_type": "execute_result"
    }
   ],
   "source": [
    "data['is_male'].describe()"
   ]
  },
  {
   "cell_type": "code",
   "execution_count": 51,
   "id": "efa5ed05",
   "metadata": {},
   "outputs": [],
   "source": [
    "# для пола заменяем константы True и False на 1 и 0\n",
    "data.loc[ data['is_male'] == True, 'is_male'] = 1\n",
    "data.loc[ data['is_male'] == False, 'is_male'] = 0"
   ]
  },
  {
   "cell_type": "code",
   "execution_count": 52,
   "id": "6b126980",
   "metadata": {},
   "outputs": [],
   "source": [
    "# для каиегориальной переменной is_male заменяем пропуски на самое популярное значение\n",
    "data['is_male'].fillna(data['is_male'].describe().top, axis=0, inplace=True)"
   ]
  },
  {
   "cell_type": "code",
   "execution_count": 53,
   "id": "a12a72ff",
   "metadata": {},
   "outputs": [
    {
     "data": {
      "text/plain": [
       "count     48806\n",
       "unique        2\n",
       "top       False\n",
       "freq      41869\n",
       "Name: is_agency, dtype: object"
      ]
     },
     "execution_count": 53,
     "metadata": {},
     "output_type": "execute_result"
    }
   ],
   "source": [
    "data['is_agency'].describe()"
   ]
  },
  {
   "cell_type": "code",
   "execution_count": 54,
   "id": "5a76f179",
   "metadata": {},
   "outputs": [],
   "source": [
    "# для is_agency заменяем константы True и False на 1 и 0\n",
    "data.loc[ data['is_agency'] == True, 'is_agency'] = 1\n",
    "data.loc[ data['is_agency'] == False, 'is_agency'] = 0"
   ]
  },
  {
   "cell_type": "code",
   "execution_count": 55,
   "id": "e3496487",
   "metadata": {},
   "outputs": [
    {
     "data": {
      "text/plain": [
       "count     48806\n",
       "unique        2\n",
       "top        True\n",
       "freq      27681\n",
       "Name: is_nonresident, dtype: object"
      ]
     },
     "execution_count": 55,
     "metadata": {},
     "output_type": "execute_result"
    }
   ],
   "source": [
    "data['is_nonresident'].describe()"
   ]
  },
  {
   "cell_type": "code",
   "execution_count": 56,
   "id": "16138b7e",
   "metadata": {},
   "outputs": [],
   "source": [
    "# для is_nonresident заменяем константы True и False на 1 и 0\n",
    "data.loc[ data['is_nonresident'] == True, 'is_nonresident'] = 1\n",
    "data.loc[ data['is_nonresident'] == False, 'is_nonresident'] = 0"
   ]
  },
  {
   "cell_type": "code",
   "execution_count": 57,
   "id": "00fa7ab5",
   "metadata": {},
   "outputs": [
    {
     "name": "stdout",
     "output_type": "stream",
     "text": [
      "<class 'pandas.core.frame.DataFrame'>\n",
      "Int64Index: 48806 entries, 0 to 56296\n",
      "Data columns (total 18 columns):\n",
      " #   Column                       Non-Null Count  Dtype  \n",
      "---  ------                       --------------  -----  \n",
      " 0   id                           48806 non-null  int64  \n",
      " 1   custom_position              48806 non-null  object \n",
      " 2   operating_schedule_id        48806 non-null  int64  \n",
      " 3   description                  48806 non-null  object \n",
      " 4   salary_from                  48806 non-null  int64  \n",
      " 5   offer_education_id           48806 non-null  object \n",
      " 6   age_from                     48806 non-null  float64\n",
      " 7   age_to                       48806 non-null  float64\n",
      " 8   is_agency                    48806 non-null  object \n",
      " 9   is_nonresident               48806 non-null  object \n",
      " 10  offer_experience_year_count  48806 non-null  float64\n",
      " 11  salary_to                    48806 non-null  float64\n",
      " 12  is_male                      48806 non-null  int64  \n",
      " 13  driving_license              48806 non-null  object \n",
      " 14  region_id                    48806 non-null  object \n",
      " 15  company_id                   48806 non-null  float64\n",
      " 16  city_id                      48806 non-null  object \n",
      " 17  target_prof                  48806 non-null  object \n",
      "dtypes: float64(5), int64(4), object(9)\n",
      "memory usage: 8.1+ MB\n"
     ]
    }
   ],
   "source": [
    "# проверяем, что во всех колонках отсутствуют пропуски\n",
    "data.info()"
   ]
  },
  {
   "cell_type": "markdown",
   "id": "6d3df7a3",
   "metadata": {},
   "source": [
    "## Нормализация числовых данных"
   ]
  },
  {
   "cell_type": "code",
   "execution_count": 58,
   "id": "a0911142",
   "metadata": {},
   "outputs": [],
   "source": [
    "numerical_columns = ['salary_from', 'age_from', 'age_to', 'offer_experience_year_count', 'salary_to']"
   ]
  },
  {
   "cell_type": "code",
   "execution_count": 59,
   "id": "459802af",
   "metadata": {},
   "outputs": [
    {
     "data": {
      "text/html": [
       "<div>\n",
       "<style scoped>\n",
       "    .dataframe tbody tr th:only-of-type {\n",
       "        vertical-align: middle;\n",
       "    }\n",
       "\n",
       "    .dataframe tbody tr th {\n",
       "        vertical-align: top;\n",
       "    }\n",
       "\n",
       "    .dataframe thead th {\n",
       "        text-align: right;\n",
       "    }\n",
       "</style>\n",
       "<table border=\"1\" class=\"dataframe\">\n",
       "  <thead>\n",
       "    <tr style=\"text-align: right;\">\n",
       "      <th></th>\n",
       "      <th>salary_from</th>\n",
       "      <th>age_from</th>\n",
       "      <th>age_to</th>\n",
       "      <th>offer_experience_year_count</th>\n",
       "      <th>salary_to</th>\n",
       "    </tr>\n",
       "  </thead>\n",
       "  <tbody>\n",
       "    <tr>\n",
       "      <th>count</th>\n",
       "      <td>4.880600e+04</td>\n",
       "      <td>4.880600e+04</td>\n",
       "      <td>4.880600e+04</td>\n",
       "      <td>4.880600e+04</td>\n",
       "      <td>4.880600e+04</td>\n",
       "    </tr>\n",
       "    <tr>\n",
       "      <th>mean</th>\n",
       "      <td>-5.936506e-16</td>\n",
       "      <td>-1.042317e-15</td>\n",
       "      <td>1.984328e-14</td>\n",
       "      <td>1.240473e-12</td>\n",
       "      <td>-1.346691e-16</td>\n",
       "    </tr>\n",
       "    <tr>\n",
       "      <th>std</th>\n",
       "      <td>1.000000e+00</td>\n",
       "      <td>1.000000e+00</td>\n",
       "      <td>1.000000e+00</td>\n",
       "      <td>1.000000e+00</td>\n",
       "      <td>1.000000e+00</td>\n",
       "    </tr>\n",
       "    <tr>\n",
       "      <th>min</th>\n",
       "      <td>-1.565797e+00</td>\n",
       "      <td>-1.915034e+00</td>\n",
       "      <td>-5.077430e+00</td>\n",
       "      <td>-2.207473e+00</td>\n",
       "      <td>-1.638770e+00</td>\n",
       "    </tr>\n",
       "    <tr>\n",
       "      <th>25%</th>\n",
       "      <td>-6.457265e-01</td>\n",
       "      <td>-2.917904e-01</td>\n",
       "      <td>1.940298e-14</td>\n",
       "      <td>1.242271e-12</td>\n",
       "      <td>-6.591624e-01</td>\n",
       "    </tr>\n",
       "    <tr>\n",
       "      <th>50%</th>\n",
       "      <td>-1.225494e-01</td>\n",
       "      <td>-2.917904e-01</td>\n",
       "      <td>1.940298e-14</td>\n",
       "      <td>1.242271e-12</td>\n",
       "      <td>-2.720833e-01</td>\n",
       "    </tr>\n",
       "    <tr>\n",
       "      <th>75%</th>\n",
       "      <td>5.990741e-01</td>\n",
       "      <td>-2.917904e-01</td>\n",
       "      <td>1.940298e-14</td>\n",
       "      <td>1.242271e-12</td>\n",
       "      <td>4.425243e-01</td>\n",
       "    </tr>\n",
       "    <tr>\n",
       "      <th>max</th>\n",
       "      <td>1.106262e+01</td>\n",
       "      <td>1.675227e+01</td>\n",
       "      <td>7.291153e+00</td>\n",
       "      <td>1.024178e+01</td>\n",
       "      <td>2.515604e+01</td>\n",
       "    </tr>\n",
       "  </tbody>\n",
       "</table>\n",
       "</div>"
      ],
      "text/plain": [
       "        salary_from      age_from        age_to  offer_experience_year_count  \\\n",
       "count  4.880600e+04  4.880600e+04  4.880600e+04                 4.880600e+04   \n",
       "mean  -5.936506e-16 -1.042317e-15  1.984328e-14                 1.240473e-12   \n",
       "std    1.000000e+00  1.000000e+00  1.000000e+00                 1.000000e+00   \n",
       "min   -1.565797e+00 -1.915034e+00 -5.077430e+00                -2.207473e+00   \n",
       "25%   -6.457265e-01 -2.917904e-01  1.940298e-14                 1.242271e-12   \n",
       "50%   -1.225494e-01 -2.917904e-01  1.940298e-14                 1.242271e-12   \n",
       "75%    5.990741e-01 -2.917904e-01  1.940298e-14                 1.242271e-12   \n",
       "max    1.106262e+01  1.675227e+01  7.291153e+00                 1.024178e+01   \n",
       "\n",
       "          salary_to  \n",
       "count  4.880600e+04  \n",
       "mean  -1.346691e-16  \n",
       "std    1.000000e+00  \n",
       "min   -1.638770e+00  \n",
       "25%   -6.591624e-01  \n",
       "50%   -2.720833e-01  \n",
       "75%    4.425243e-01  \n",
       "max    2.515604e+01  "
      ]
     },
     "execution_count": 59,
     "metadata": {},
     "output_type": "execute_result"
    }
   ],
   "source": [
    "# выделяем датафрейм с числовыми признаками и нормируем значения\n",
    "data_numerical = data[numerical_columns]\n",
    "data_numerical = (data_numerical - data_numerical.mean()) / data_numerical.std()\n",
    "data_numerical.describe()"
   ]
  },
  {
   "cell_type": "code",
   "execution_count": 60,
   "id": "ac182fbb",
   "metadata": {},
   "outputs": [
    {
     "name": "stdout",
     "output_type": "stream",
     "text": [
      "<class 'pandas.core.frame.DataFrame'>\n",
      "Int64Index: 48806 entries, 0 to 56296\n",
      "Data columns (total 18 columns):\n",
      " #   Column                       Non-Null Count  Dtype  \n",
      "---  ------                       --------------  -----  \n",
      " 0   id                           48806 non-null  int64  \n",
      " 1   custom_position              48806 non-null  object \n",
      " 2   operating_schedule_id        48806 non-null  int64  \n",
      " 3   description                  48806 non-null  object \n",
      " 4   salary_from                  48806 non-null  int64  \n",
      " 5   offer_education_id           48806 non-null  object \n",
      " 6   age_from                     48806 non-null  float64\n",
      " 7   age_to                       48806 non-null  float64\n",
      " 8   is_agency                    48806 non-null  object \n",
      " 9   is_nonresident               48806 non-null  object \n",
      " 10  offer_experience_year_count  48806 non-null  float64\n",
      " 11  salary_to                    48806 non-null  float64\n",
      " 12  is_male                      48806 non-null  int64  \n",
      " 13  driving_license              48806 non-null  object \n",
      " 14  region_id                    48806 non-null  object \n",
      " 15  company_id                   48806 non-null  float64\n",
      " 16  city_id                      48806 non-null  object \n",
      " 17  target_prof                  48806 non-null  object \n",
      "dtypes: float64(5), int64(4), object(9)\n",
      "memory usage: 8.1+ MB\n"
     ]
    }
   ],
   "source": [
    "data.info()"
   ]
  },
  {
   "cell_type": "code",
   "execution_count": 62,
   "id": "eb526660",
   "metadata": {},
   "outputs": [
    {
     "data": {
      "text/plain": [
       "count               48806\n",
       "unique              12436\n",
       "top       Продавец-кассир\n",
       "freq                  913\n",
       "Name: custom_position, dtype: object"
      ]
     },
     "execution_count": 62,
     "metadata": {},
     "output_type": "execute_result"
    }
   ],
   "source": [
    "data['custom_position'].describe()"
   ]
  },
  {
   "cell_type": "code",
   "execution_count": null,
   "id": "c1b91494",
   "metadata": {},
   "outputs": [],
   "source": []
  },
  {
   "cell_type": "markdown",
   "id": "ef7be4e8",
   "metadata": {},
   "source": [
    "## Векторизация категориальных признаков"
   ]
  },
  {
   "cell_type": "code",
   "execution_count": 63,
   "id": "a505602a",
   "metadata": {},
   "outputs": [
    {
     "data": {
      "text/html": [
       "<div>\n",
       "<style scoped>\n",
       "    .dataframe tbody tr th:only-of-type {\n",
       "        vertical-align: middle;\n",
       "    }\n",
       "\n",
       "    .dataframe tbody tr th {\n",
       "        vertical-align: top;\n",
       "    }\n",
       "\n",
       "    .dataframe thead th {\n",
       "        text-align: right;\n",
       "    }\n",
       "</style>\n",
       "<table border=\"1\" class=\"dataframe\">\n",
       "  <thead>\n",
       "    <tr style=\"text-align: right;\">\n",
       "      <th></th>\n",
       "      <th>custom_position</th>\n",
       "      <th>operating_schedule_id</th>\n",
       "      <th>description</th>\n",
       "      <th>offer_education_id</th>\n",
       "      <th>is_agency</th>\n",
       "      <th>is_nonresident</th>\n",
       "      <th>is_male</th>\n",
       "      <th>driving_license</th>\n",
       "      <th>region_id</th>\n",
       "      <th>company_id</th>\n",
       "      <th>city_id</th>\n",
       "      <th>target_prof</th>\n",
       "    </tr>\n",
       "  </thead>\n",
       "  <tbody>\n",
       "    <tr>\n",
       "      <th>count</th>\n",
       "      <td>48806</td>\n",
       "      <td>48806</td>\n",
       "      <td>48806</td>\n",
       "      <td>48806</td>\n",
       "      <td>48806</td>\n",
       "      <td>48806</td>\n",
       "      <td>48806</td>\n",
       "      <td>48806</td>\n",
       "      <td>48806</td>\n",
       "      <td>48806.0</td>\n",
       "      <td>48806</td>\n",
       "      <td>48806</td>\n",
       "    </tr>\n",
       "    <tr>\n",
       "      <th>unique</th>\n",
       "      <td>12436</td>\n",
       "      <td>6</td>\n",
       "      <td>35745</td>\n",
       "      <td>5</td>\n",
       "      <td>2</td>\n",
       "      <td>2</td>\n",
       "      <td>2</td>\n",
       "      <td>16</td>\n",
       "      <td>1409</td>\n",
       "      <td>9045.0</td>\n",
       "      <td>66</td>\n",
       "      <td>490</td>\n",
       "    </tr>\n",
       "    <tr>\n",
       "      <th>top</th>\n",
       "      <td>Продавец-кассир</td>\n",
       "      <td>1</td>\n",
       "      <td>&lt;br /&gt;\\nТребования: &lt;br&gt; &lt;br /&gt;\\nИнформация о ...</td>\n",
       "      <td>0</td>\n",
       "      <td>0</td>\n",
       "      <td>1</td>\n",
       "      <td>1</td>\n",
       "      <td>[]</td>\n",
       "      <td>{3}</td>\n",
       "      <td>1234787.0</td>\n",
       "      <td>1</td>\n",
       "      <td>водитель</td>\n",
       "    </tr>\n",
       "    <tr>\n",
       "      <th>freq</th>\n",
       "      <td>913</td>\n",
       "      <td>21976</td>\n",
       "      <td>272</td>\n",
       "      <td>41427</td>\n",
       "      <td>41869</td>\n",
       "      <td>27681</td>\n",
       "      <td>47076</td>\n",
       "      <td>47408</td>\n",
       "      <td>16158</td>\n",
       "      <td>12058.0</td>\n",
       "      <td>14232</td>\n",
       "      <td>4526</td>\n",
       "    </tr>\n",
       "  </tbody>\n",
       "</table>\n",
       "</div>"
      ],
      "text/plain": [
       "        custom_position  operating_schedule_id  \\\n",
       "count             48806                  48806   \n",
       "unique            12436                      6   \n",
       "top     Продавец-кассир                      1   \n",
       "freq                913                  21976   \n",
       "\n",
       "                                              description  offer_education_id  \\\n",
       "count                                               48806               48806   \n",
       "unique                                              35745                   5   \n",
       "top     <br />\\nТребования: <br> <br />\\nИнформация о ...                   0   \n",
       "freq                                                  272               41427   \n",
       "\n",
       "        is_agency  is_nonresident  is_male driving_license region_id  \\\n",
       "count       48806           48806    48806           48806     48806   \n",
       "unique          2               2        2              16      1409   \n",
       "top             0               1        1              []       {3}   \n",
       "freq        41869           27681    47076           47408     16158   \n",
       "\n",
       "        company_id  city_id target_prof  \n",
       "count      48806.0    48806       48806  \n",
       "unique      9045.0       66         490  \n",
       "top      1234787.0        1    водитель  \n",
       "freq       12058.0    14232        4526  "
      ]
     },
     "execution_count": 63,
     "metadata": {},
     "output_type": "execute_result"
    }
   ],
   "source": [
    "# 'custom_position', 'region_id',\n",
    "categorical_columns = ['operating_schedule_id', 'offer_education_id', 'is_agency', \n",
    "                       'is_nonresident', 'is_male', 'driving_license', 'company_id', 'city_id']\n",
    "\n",
    "data['operating_schedule_id'] = data['operating_schedule_id'].astype('object')\n",
    "data['is_male'] = data['is_male'].astype('object')\n",
    "data['company_id'] = data['company_id'].astype('object')\n",
    "\n",
    "data_describe = data.describe(include=[object])\n",
    "data_describe"
   ]
  },
  {
   "cell_type": "code",
   "execution_count": 64,
   "id": "231284ad",
   "metadata": {},
   "outputs": [
    {
     "name": "stdout",
     "output_type": "stream",
     "text": [
      "Бинарные категориальные признаки:  ['is_agency', 'is_nonresident', 'is_male']\n",
      "Небинарные категориальные признаки:  ['operating_schedule_id', 'offer_education_id', 'driving_license', 'company_id', 'city_id']\n"
     ]
    }
   ],
   "source": [
    "binary_columns    = [c for c in categorical_columns if data_describe[c]['unique'] == 2]\n",
    "nonbinary_columns = [c for c in categorical_columns if data_describe[c]['unique'] > 2]\n",
    "print('Бинарные категориальные признаки: ', binary_columns)\n",
    "print('Небинарные категориальные признаки: ', nonbinary_columns)"
   ]
  },
  {
   "cell_type": "code",
   "execution_count": 65,
   "id": "12b02841",
   "metadata": {},
   "outputs": [
    {
     "data": {
      "text/html": [
       "<div>\n",
       "<style scoped>\n",
       "    .dataframe tbody tr th:only-of-type {\n",
       "        vertical-align: middle;\n",
       "    }\n",
       "\n",
       "    .dataframe tbody tr th {\n",
       "        vertical-align: top;\n",
       "    }\n",
       "\n",
       "    .dataframe thead th {\n",
       "        text-align: right;\n",
       "    }\n",
       "</style>\n",
       "<table border=\"1\" class=\"dataframe\">\n",
       "  <thead>\n",
       "    <tr style=\"text-align: right;\">\n",
       "      <th></th>\n",
       "      <th>is_agency</th>\n",
       "      <th>is_nonresident</th>\n",
       "      <th>is_male</th>\n",
       "    </tr>\n",
       "  </thead>\n",
       "  <tbody>\n",
       "    <tr>\n",
       "      <th>count</th>\n",
       "      <td>48806</td>\n",
       "      <td>48806</td>\n",
       "      <td>48806</td>\n",
       "    </tr>\n",
       "    <tr>\n",
       "      <th>unique</th>\n",
       "      <td>2</td>\n",
       "      <td>2</td>\n",
       "      <td>2</td>\n",
       "    </tr>\n",
       "    <tr>\n",
       "      <th>top</th>\n",
       "      <td>0</td>\n",
       "      <td>1</td>\n",
       "      <td>1</td>\n",
       "    </tr>\n",
       "    <tr>\n",
       "      <th>freq</th>\n",
       "      <td>41869</td>\n",
       "      <td>27681</td>\n",
       "      <td>47076</td>\n",
       "    </tr>\n",
       "  </tbody>\n",
       "</table>\n",
       "</div>"
      ],
      "text/plain": [
       "        is_agency  is_nonresident  is_male\n",
       "count       48806           48806    48806\n",
       "unique          2               2        2\n",
       "top             0               1        1\n",
       "freq        41869           27681    47076"
      ]
     },
     "execution_count": 65,
     "metadata": {},
     "output_type": "execute_result"
    }
   ],
   "source": [
    "# выделяем датафрейм с бинарными признаками\n",
    "data_binary = data[binary_columns]\n",
    "data_binary.describe()"
   ]
  },
  {
   "cell_type": "code",
   "execution_count": 66,
   "id": "db60d9fc",
   "metadata": {},
   "outputs": [],
   "source": [
    "%%time\n",
    "# для небинарных признаков создаём фиктивные колонки\n",
    "data_nonbinary = pd.get_dummies(data[nonbinary_columns])"
   ]
  },
  {
   "cell_type": "code",
   "execution_count": 67,
   "id": "42f728ff",
   "metadata": {},
   "outputs": [
    {
     "name": "stdout",
     "output_type": "stream",
     "text": [
      "Всего фиктивных признаков 9138\n",
      "Index(['operating_schedule_id_1', 'operating_schedule_id_2',\n",
      "       'operating_schedule_id_3', 'operating_schedule_id_5',\n",
      "       'operating_schedule_id_6', 'operating_schedule_id_7',\n",
      "       'offer_education_id_0', 'offer_education_id_1', 'offer_education_id_2',\n",
      "       'offer_education_id_3',\n",
      "       ...\n",
      "       'city_id_256', 'city_id_258', 'city_id_259', 'city_id_260',\n",
      "       'city_id_261', 'city_id_263', 'city_id_268', 'city_id_269',\n",
      "       'city_id_270', 'city_id_272'],\n",
      "      dtype='object', length=9138)\n"
     ]
    }
   ],
   "source": [
    "print('Всего фиктивных признаков', len(data_nonbinary.columns))\n",
    "print(data_nonbinary.columns)"
   ]
  },
  {
   "cell_type": "markdown",
   "id": "0516422d",
   "metadata": {},
   "source": [
    "## Соединение признаков всех типов в единый дата-фрейм"
   ]
  },
  {
   "cell_type": "code",
   "execution_count": 68,
   "id": "4bb13ebb",
   "metadata": {},
   "outputs": [
    {
     "name": "stdout",
     "output_type": "stream",
     "text": [
      "Wall time: 1.02 s\n"
     ]
    }
   ],
   "source": [
    "%%time\n",
    "data_all = pd.concat((data_numerical, data_binary, data_nonbinary), axis=1)\n",
    "data_all = pd.DataFrame(data_all, dtype=float)"
   ]
  },
  {
   "cell_type": "code",
   "execution_count": 69,
   "id": "eabc6f06",
   "metadata": {},
   "outputs": [
    {
     "data": {
      "text/plain": [
       "(48806, 9146)"
      ]
     },
     "execution_count": 69,
     "metadata": {},
     "output_type": "execute_result"
    }
   ],
   "source": [
    "# размеры\n",
    "data_all.shape"
   ]
  },
  {
   "cell_type": "code",
   "execution_count": 70,
   "id": "3cc5a6af",
   "metadata": {},
   "outputs": [
    {
     "data": {
      "text/html": [
       "<div>\n",
       "<style scoped>\n",
       "    .dataframe tbody tr th:only-of-type {\n",
       "        vertical-align: middle;\n",
       "    }\n",
       "\n",
       "    .dataframe tbody tr th {\n",
       "        vertical-align: top;\n",
       "    }\n",
       "\n",
       "    .dataframe thead th {\n",
       "        text-align: right;\n",
       "    }\n",
       "</style>\n",
       "<table border=\"1\" class=\"dataframe\">\n",
       "  <thead>\n",
       "    <tr style=\"text-align: right;\">\n",
       "      <th></th>\n",
       "      <th>salary_from</th>\n",
       "      <th>age_from</th>\n",
       "      <th>age_to</th>\n",
       "      <th>offer_experience_year_count</th>\n",
       "      <th>salary_to</th>\n",
       "      <th>is_agency</th>\n",
       "      <th>is_nonresident</th>\n",
       "      <th>is_male</th>\n",
       "      <th>operating_schedule_id_1</th>\n",
       "      <th>operating_schedule_id_2</th>\n",
       "      <th>...</th>\n",
       "      <th>city_id_256</th>\n",
       "      <th>city_id_258</th>\n",
       "      <th>city_id_259</th>\n",
       "      <th>city_id_260</th>\n",
       "      <th>city_id_261</th>\n",
       "      <th>city_id_263</th>\n",
       "      <th>city_id_268</th>\n",
       "      <th>city_id_269</th>\n",
       "      <th>city_id_270</th>\n",
       "      <th>city_id_272</th>\n",
       "    </tr>\n",
       "  </thead>\n",
       "  <tbody>\n",
       "    <tr>\n",
       "      <th>0</th>\n",
       "      <td>-0.339037</td>\n",
       "      <td>-0.29179</td>\n",
       "      <td>1.940298e-14</td>\n",
       "      <td>-9.625479e-01</td>\n",
       "      <td>-0.420960</td>\n",
       "      <td>1.0</td>\n",
       "      <td>1.0</td>\n",
       "      <td>1.0</td>\n",
       "      <td>1.0</td>\n",
       "      <td>0.0</td>\n",
       "      <td>...</td>\n",
       "      <td>0.0</td>\n",
       "      <td>0.0</td>\n",
       "      <td>0.0</td>\n",
       "      <td>0.0</td>\n",
       "      <td>0.0</td>\n",
       "      <td>0.0</td>\n",
       "      <td>0.0</td>\n",
       "      <td>0.0</td>\n",
       "      <td>0.0</td>\n",
       "      <td>0.0</td>\n",
       "    </tr>\n",
       "    <tr>\n",
       "      <th>1</th>\n",
       "      <td>0.815561</td>\n",
       "      <td>-0.29179</td>\n",
       "      <td>1.940298e-14</td>\n",
       "      <td>1.242271e-12</td>\n",
       "      <td>0.323423</td>\n",
       "      <td>0.0</td>\n",
       "      <td>0.0</td>\n",
       "      <td>1.0</td>\n",
       "      <td>0.0</td>\n",
       "      <td>0.0</td>\n",
       "      <td>...</td>\n",
       "      <td>0.0</td>\n",
       "      <td>0.0</td>\n",
       "      <td>0.0</td>\n",
       "      <td>0.0</td>\n",
       "      <td>0.0</td>\n",
       "      <td>0.0</td>\n",
       "      <td>0.0</td>\n",
       "      <td>0.0</td>\n",
       "      <td>0.0</td>\n",
       "      <td>0.0</td>\n",
       "    </tr>\n",
       "    <tr>\n",
       "      <th>2</th>\n",
       "      <td>-0.122549</td>\n",
       "      <td>-0.29179</td>\n",
       "      <td>1.940298e-14</td>\n",
       "      <td>1.242271e-12</td>\n",
       "      <td>-0.450735</td>\n",
       "      <td>0.0</td>\n",
       "      <td>0.0</td>\n",
       "      <td>1.0</td>\n",
       "      <td>1.0</td>\n",
       "      <td>0.0</td>\n",
       "      <td>...</td>\n",
       "      <td>0.0</td>\n",
       "      <td>0.0</td>\n",
       "      <td>0.0</td>\n",
       "      <td>0.0</td>\n",
       "      <td>0.0</td>\n",
       "      <td>0.0</td>\n",
       "      <td>0.0</td>\n",
       "      <td>0.0</td>\n",
       "      <td>0.0</td>\n",
       "      <td>0.0</td>\n",
       "    </tr>\n",
       "    <tr>\n",
       "      <th>3</th>\n",
       "      <td>-0.302955</td>\n",
       "      <td>-0.29179</td>\n",
       "      <td>1.940298e-14</td>\n",
       "      <td>1.242271e-12</td>\n",
       "      <td>-0.450735</td>\n",
       "      <td>0.0</td>\n",
       "      <td>1.0</td>\n",
       "      <td>1.0</td>\n",
       "      <td>0.0</td>\n",
       "      <td>0.0</td>\n",
       "      <td>...</td>\n",
       "      <td>0.0</td>\n",
       "      <td>0.0</td>\n",
       "      <td>0.0</td>\n",
       "      <td>0.0</td>\n",
       "      <td>0.0</td>\n",
       "      <td>0.0</td>\n",
       "      <td>0.0</td>\n",
       "      <td>0.0</td>\n",
       "      <td>0.0</td>\n",
       "      <td>0.0</td>\n",
       "    </tr>\n",
       "    <tr>\n",
       "      <th>4</th>\n",
       "      <td>-0.483361</td>\n",
       "      <td>-0.29179</td>\n",
       "      <td>1.940298e-14</td>\n",
       "      <td>2.823770e-01</td>\n",
       "      <td>0.442524</td>\n",
       "      <td>0.0</td>\n",
       "      <td>1.0</td>\n",
       "      <td>1.0</td>\n",
       "      <td>1.0</td>\n",
       "      <td>0.0</td>\n",
       "      <td>...</td>\n",
       "      <td>0.0</td>\n",
       "      <td>1.0</td>\n",
       "      <td>0.0</td>\n",
       "      <td>0.0</td>\n",
       "      <td>0.0</td>\n",
       "      <td>0.0</td>\n",
       "      <td>0.0</td>\n",
       "      <td>0.0</td>\n",
       "      <td>0.0</td>\n",
       "      <td>0.0</td>\n",
       "    </tr>\n",
       "  </tbody>\n",
       "</table>\n",
       "<p>5 rows × 9146 columns</p>\n",
       "</div>"
      ],
      "text/plain": [
       "   salary_from  age_from        age_to  offer_experience_year_count  \\\n",
       "0    -0.339037  -0.29179  1.940298e-14                -9.625479e-01   \n",
       "1     0.815561  -0.29179  1.940298e-14                 1.242271e-12   \n",
       "2    -0.122549  -0.29179  1.940298e-14                 1.242271e-12   \n",
       "3    -0.302955  -0.29179  1.940298e-14                 1.242271e-12   \n",
       "4    -0.483361  -0.29179  1.940298e-14                 2.823770e-01   \n",
       "\n",
       "   salary_to  is_agency  is_nonresident  is_male  operating_schedule_id_1  \\\n",
       "0  -0.420960        1.0             1.0      1.0                      1.0   \n",
       "1   0.323423        0.0             0.0      1.0                      0.0   \n",
       "2  -0.450735        0.0             0.0      1.0                      1.0   \n",
       "3  -0.450735        0.0             1.0      1.0                      0.0   \n",
       "4   0.442524        0.0             1.0      1.0                      1.0   \n",
       "\n",
       "   operating_schedule_id_2  ...  city_id_256  city_id_258  city_id_259  \\\n",
       "0                      0.0  ...          0.0          0.0          0.0   \n",
       "1                      0.0  ...          0.0          0.0          0.0   \n",
       "2                      0.0  ...          0.0          0.0          0.0   \n",
       "3                      0.0  ...          0.0          0.0          0.0   \n",
       "4                      0.0  ...          0.0          1.0          0.0   \n",
       "\n",
       "   city_id_260  city_id_261  city_id_263  city_id_268  city_id_269  \\\n",
       "0          0.0          0.0          0.0          0.0          0.0   \n",
       "1          0.0          0.0          0.0          0.0          0.0   \n",
       "2          0.0          0.0          0.0          0.0          0.0   \n",
       "3          0.0          0.0          0.0          0.0          0.0   \n",
       "4          0.0          0.0          0.0          0.0          0.0   \n",
       "\n",
       "   city_id_270  city_id_272  \n",
       "0          0.0          0.0  \n",
       "1          0.0          0.0  \n",
       "2          0.0          0.0  \n",
       "3          0.0          0.0  \n",
       "4          0.0          0.0  \n",
       "\n",
       "[5 rows x 9146 columns]"
      ]
     },
     "execution_count": 70,
     "metadata": {},
     "output_type": "execute_result"
    }
   ],
   "source": [
    "data_all.head()"
   ]
  },
  {
   "cell_type": "code",
   "execution_count": 71,
   "id": "15e5b1b7",
   "metadata": {},
   "outputs": [
    {
     "data": {
      "text/plain": [
       "0          рабочий\n",
       "1     разнорабочий\n",
       "2            повар\n",
       "3     разнорабочий\n",
       "4    представитель\n",
       "Name: target_prof, dtype: object"
      ]
     },
     "execution_count": 71,
     "metadata": {},
     "output_type": "execute_result"
    }
   ],
   "source": [
    "# выделяем отдельный вектор-столбец с целевой переменной - target_prof\n",
    "y = data['target_prof']\n",
    "y.head()"
   ]
  },
  {
   "cell_type": "code",
   "execution_count": 72,
   "id": "23884720",
   "metadata": {},
   "outputs": [],
   "source": [
    "X = data_all\n",
    "feature_names = X.columns"
   ]
  },
  {
   "cell_type": "code",
   "execution_count": 73,
   "id": "14ebba05",
   "metadata": {},
   "outputs": [
    {
     "data": {
      "text/plain": [
       "count        48806\n",
       "unique         490\n",
       "top       водитель\n",
       "freq          4526\n",
       "Name: target_prof, dtype: object"
      ]
     },
     "execution_count": 73,
     "metadata": {},
     "output_type": "execute_result"
    }
   ],
   "source": [
    "y.describe()"
   ]
  },
  {
   "cell_type": "code",
   "execution_count": null,
   "id": "d27a2f4c",
   "metadata": {},
   "outputs": [],
   "source": []
  },
  {
   "cell_type": "markdown",
   "id": "20b9ede3",
   "metadata": {},
   "source": [
    "## Разделение выборок"
   ]
  },
  {
   "cell_type": "code",
   "execution_count": 74,
   "id": "2a801380",
   "metadata": {},
   "outputs": [
    {
     "name": "stdout",
     "output_type": "stream",
     "text": [
      "Wall time: 5.15 s\n"
     ]
    }
   ],
   "source": [
    "%%time\n",
    "X_train, X_test, y_train, y_test = train_test_split(X, y, test_size = 0.2, random_state = 11)"
   ]
  },
  {
   "cell_type": "code",
   "execution_count": 76,
   "id": "c779bd1b",
   "metadata": {},
   "outputs": [],
   "source": [
    "del X"
   ]
  },
  {
   "cell_type": "code",
   "execution_count": 88,
   "id": "c842aacd",
   "metadata": {},
   "outputs": [
    {
     "data": {
      "text/plain": [
       "215"
      ]
     },
     "execution_count": 88,
     "metadata": {},
     "output_type": "execute_result"
    }
   ],
   "source": [
    "import gc\n",
    "gc.collect()"
   ]
  },
  {
   "cell_type": "code",
   "execution_count": 75,
   "id": "3f6d5ed1",
   "metadata": {},
   "outputs": [
    {
     "name": "stdout",
     "output_type": "stream",
     "text": [
      "39044 9762\n"
     ]
    }
   ],
   "source": [
    "N_train, _ = X_train.shape \n",
    "N_test,  _ = X_test.shape \n",
    "print(N_train, N_test)"
   ]
  },
  {
   "cell_type": "code",
   "execution_count": 100,
   "id": "73b08d7e",
   "metadata": {},
   "outputs": [
    {
     "data": {
      "text/plain": [
       "KNeighborsClassifier()"
      ]
     },
     "execution_count": 100,
     "metadata": {},
     "output_type": "execute_result"
    }
   ],
   "source": [
    "from sklearn.neighbors import KNeighborsClassifier\n",
    "\n",
    "knn = KNeighborsClassifier()\n",
    "knn.fit(X_train, y_train)"
   ]
  },
  {
   "cell_type": "code",
   "execution_count": 101,
   "id": "3ece0576",
   "metadata": {},
   "outputs": [
    {
     "name": "stdout",
     "output_type": "stream",
     "text": [
      "0.3167661866292003 0.47650594181122796\n"
     ]
    }
   ],
   "source": [
    "y_train_predict = knn.predict(X_train)\n",
    "y_test_predict = knn.predict(X_test)\n",
    "\n",
    "err_train = np.mean(y_train != y_train_predict)\n",
    "err_test  = np.mean(y_test  != y_test_predict)\n",
    "\n",
    "print(err_train, err_test)"
   ]
  },
  {
   "cell_type": "code",
   "execution_count": 79,
   "id": "7a9508b8",
   "metadata": {},
   "outputs": [
    {
     "name": "stdout",
     "output_type": "stream",
     "text": [
      "Wall time: 5min 51s\n"
     ]
    },
    {
     "data": {
      "text/plain": [
       "RandomForestClassifier(random_state=11)"
      ]
     },
     "execution_count": 79,
     "metadata": {},
     "output_type": "execute_result"
    }
   ],
   "source": [
    "%%time\n",
    "from sklearn import ensemble\n",
    "rf = ensemble.RandomForestClassifier(n_estimators=100, random_state=11)\n",
    "rf.fit(X_train, y_train)"
   ]
  },
  {
   "cell_type": "code",
   "execution_count": 80,
   "id": "83ed3bbc",
   "metadata": {},
   "outputs": [
    {
     "name": "stdout",
     "output_type": "stream",
     "text": [
      "Wall time: 28.5 s\n"
     ]
    }
   ],
   "source": [
    "%%time\n",
    "y_train_predict = rf.predict(X_train)\n",
    "y_test_predict = rf.predict(X_test)\n"
   ]
  },
  {
   "cell_type": "code",
   "execution_count": 87,
   "id": "d1ad85b5",
   "metadata": {},
   "outputs": [
    {
     "name": "stdout",
     "output_type": "stream",
     "text": [
      "0.44222495390288874 0.44222495390288874\n"
     ]
    }
   ],
   "source": [
    "acc = accuracy_score(y_test, y_test_predict)\n",
    "f1 = f1_score(y_test, y_test_predict, average = 'micro')\n",
    "print(acc, f1)"
   ]
  },
  {
   "cell_type": "code",
   "execution_count": null,
   "id": "d38a7430",
   "metadata": {},
   "outputs": [],
   "source": [
    "from sklearn import ensemble\n",
    "gbt = ensemble.GradientBoostingClassifier(n_estimators=100, random_state=11)\n",
    "gbt.fit(X_train, y_train)"
   ]
  },
  {
   "cell_type": "code",
   "execution_count": null,
   "id": "2974d104",
   "metadata": {},
   "outputs": [],
   "source": []
  }
 ],
 "metadata": {
  "kernelspec": {
   "display_name": "Python 3",
   "language": "python",
   "name": "python3"
  },
  "language_info": {
   "codemirror_mode": {
    "name": "ipython",
    "version": 3
   },
   "file_extension": ".py",
   "mimetype": "text/x-python",
   "name": "python",
   "nbconvert_exporter": "python",
   "pygments_lexer": "ipython3",
   "version": "3.8.8"
  }
 },
 "nbformat": 4,
 "nbformat_minor": 5
}
